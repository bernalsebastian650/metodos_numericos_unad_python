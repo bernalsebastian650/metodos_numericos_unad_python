{
  "nbformat": 4,
  "nbformat_minor": 0,
  "metadata": {
    "colab": {
      "name": "G96_Jhon_Sebastian_Bernal_Ej2_B_.ipynb",
      "provenance": [],
      "collapsed_sections": []
    },
    "kernelspec": {
      "name": "python3",
      "display_name": "Python 3"
    },
    "language_info": {
      "name": "python"
    }
  },
  "cells": [
    {
      "cell_type": "markdown",
      "metadata": {
        "id": "4pP5zMM6Bfdn"
      },
      "source": [
        "\n",
        "#REGRESIÓN LINEAL\n",
        "\n",
        "**¿Qué es Regresión Lineal?**\n",
        "\n",
        "La regresión lineal simple consiste en generar un modelo de regresión (ecuación de una recta) que permita explicar la relación lineal que existe entre dos variables. A la variable dependiente o respuesta se le identifica como Y y a la variable predictora o independiente como X.\n",
        "\n",
        "Se denomina regresión lineal cuando la función es lineal, es decir, requiere la determinación de dos parámetros: la pendiente y la ordenada en el origen de la recta de regresión, y=ax+b.\n",
        "\n",
        "\n",
        "##Ajuste de una linea recta por minimos cuadrados\n",
        "Para poder hacer un ajuste de línea recta por mínimos cuadrados se emplea la sigueinte formula:\n",
        "\n",
        "$$a_{1} =\\frac{n\\sum_{}x_{i}y_{i}-\\sum x_{i} \\sum y_{i} }{n\\sum x_{i}^2 - (\\sum x_{i} )^2} $$\n",
        "\n",
        "$$a_{0}=y - a_{1}x $$\n",
        "\n",
        "\n",
        "\n",
        "\n",
        "\n"
      ]
    },
    {
      "cell_type": "markdown",
      "metadata": {
        "id": "M_ZILydpKYxr"
      },
      "source": [
        "# EJERCICIO 2-B  \n",
        "B: En el instante t=0, un objeto es puesto sobre un fluido. Un dispositivo\n",
        "registra la altura del objeto con respecto a la superficie del fluido en\n",
        "intervalos de medio segundo, donde un valor negativo indica que el\n",
        "objeto se encuentra debajo de la superficie del fluido. Los datos\n",
        "registrados indican que la altura del objeto dentro del fluido cambia de\n",
        "forma lineal. La siguiente tabla resume los registros obtenidos.\n",
        "\n",
        "\n",
        "![ejercicioB.PNG](data:image/png;base64,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)\n",
        "\n",
        "\n"
      ]
    },
    {
      "cell_type": "markdown",
      "metadata": {
        "id": "m0Hcxz28q917"
      },
      "source": [
        "#Paso-1: Importamos las *librerías*"
      ]
    },
    {
      "cell_type": "code",
      "metadata": {
        "id": "o5Iis4-Vq6Sw"
      },
      "source": [
        "import numpy as np                #Se importa la libreia numpy\n",
        "import  matplotlib.pyplot as plt  #Se importa la libreria matplotlib"
      ],
      "execution_count": 1,
      "outputs": []
    },
    {
      "cell_type": "markdown",
      "metadata": {
        "id": "lZQbPumx7Hgm"
      },
      "source": [
        "# Paso-2: Declaramos las variables\n",
        "\n"
      ]
    },
    {
      "cell_type": "code",
      "metadata": {
        "id": "qlAsqFdS1YuK"
      },
      "source": [
        "\n",
        "n = 9                                                               #Se declara la variable n\n",
        "x = [0, 0.5, 1, 1.5, 2, 2.5, 3, 3.5, 4]                             #Se declara el vector x\n",
        "y = [0.00, -0.30, -0.60, -0.65, -0.94, -1.01, -1.40, -1.51, -1.82]  #Se declara el vector y\n",
        "\n"
      ],
      "execution_count": 2,
      "outputs": []
    },
    {
      "cell_type": "markdown",
      "metadata": {
        "id": "vpNjUriTreWq"
      },
      "source": [
        "# Paso-3: Creamos la función\n",
        "\n"
      ]
    },
    {
      "cell_type": "code",
      "metadata": {
        "id": "y_S8VE8criH9"
      },
      "source": [
        "def regress (x,y,n):                                  #Se Define la función regress y llamamos las variables x,y,n\n",
        "\n",
        "  sux = 0                                             #Variable que almacena el tiempo\n",
        "  suxy = 0                                            #Variable que almacena la multiplicacion de los valores de la suma de los tiempos\n",
        "  st = 0                                              #Variable que almacena los cuadrados de la diferencia entre los datos y el promedio en y \n",
        "  suy = 0                                             #Variable que almacena la altura\n",
        "  sux2 = 0                                            #Variable que almacena el tiempo elevada al cuadrado\n",
        "  sr = 0                                              #Variable que almacena suma residuales\n",
        " \n",
        "  for i in range (n):                                 #Se crea la tabla con un rango segun n\n",
        "    sux = sux + x[i]                                  #Se asigna la suma del tiempo que es 0 + el primer dato \n",
        "    suy = suy + y[i]                                  #Se asigna la suma del primer dato del arreglo de y que es 0.00\n",
        "    suxy = suxy + x[i]*y[i]                           #Se asigna la suma de la multiplicacion de los valores \n",
        "    sux2 = sux2 + x[i]*x[i]                           #Se asigna la suma del tiempo elevada al cuadrado mas la multiplicacion de los valores de x\n",
        "  promx = sux/n                                       #Se asigna el promedio x la sumatoria de x dividido en n\n",
        "  promy = suy/n                                       #Se asigna el promedio y la sumatoria de x dividido en n\n",
        "  a1 = (n * suxy - sux * suy)/(n * sux2 - sux * sux) #Se asigna a la variable a1 y se iguala con la formula\n",
        "  a0 = promy - a1*promx                               #Se asigna la variable a0 y se iguala con la formula para hallar el intercepto \n",
        "  for i in range (n): \n",
        "   st = st + (y[i] - promy)**2                        #Se asigna a la variable st la suma de los cuadrados de la diferencia mas los valores de y \n",
        "   sr = sr + (y[i] - a1 * x[i] - a0)**2               #Se asigna a la variable sr la suma residual igualada ala ecuacion de sumas residuales \n",
        "\n",
        "   syx = (sr/(n - 2))**0.5                            #Se almacena el error estandar \n",
        "   r2 = (st -sr) / st                                 #Se obtiene el coeficiente de correlacion \n",
        "\n",
        "  return a1, a0, syx, r2  \n"
      ],
      "execution_count": 5,
      "outputs": []
    },
    {
      "cell_type": "markdown",
      "metadata": {
        "id": "7Oo95IuDrt3k"
      },
      "source": [
        "# Paso-4: Imprimimos los datos\n",
        "\n"
      ]
    },
    {
      "cell_type": "code",
      "metadata": {
        "colab": {
          "base_uri": "https://localhost:8080/"
        },
        "id": "bRUA5mdmAfoL",
        "outputId": "67db5850-23c7-47ce-de3b-d3f76fa08e3f"
      },
      "source": [
        "a1, a0, syx, r2 = regress (x,y,n)                   #Se llama la función pasandole los parametros y asigando el resultado variables a1, a0, syx, r2\n",
        "print(\"La pendiente de a1 es:\", a1)                 #Se imprime la pendiente\n",
        "\n",
        "print(\"La interseccion de a0 es:\", a0)              #Se imprime la interseccion\n",
        "\n",
        "print(\"El error estandar syx es:\", syx)             #Se imprime el error estandar\n",
        "\n",
        "print(\"El Coeficiente de correlacion r2 es:\", r2)   #Se imprime el Coeficiente de correlacion"
      ],
      "execution_count": 6,
      "outputs": [
        {
          "output_type": "stream",
          "text": [
            "La pendiente de a1 es: -0.42899999999999994\n",
            "La interseccion de a0 es: -0.05644444444444463\n",
            "El error estandar syx es: 0.07765051947413598\n",
            "El Coeficiente de correlacion r2 es: 0.984941170407605\n"
          ],
          "name": "stdout"
        }
      ]
    },
    {
      "cell_type": "markdown",
      "metadata": {
        "id": "fnwzCDAvHLAk"
      },
      "source": [
        "# Paso-5: Creamos la linea para ajustar los datos\n",
        "\n",
        "\n"
      ]
    },
    {
      "cell_type": "code",
      "metadata": {
        "colab": {
          "base_uri": "https://localhost:8080/"
        },
        "id": "oNmKWNH8HM9K",
        "outputId": "25f1d0ce-b213-429f-b039-8fd757125d9d"
      },
      "source": [
        "t = np.poly1d ([a1 , a0])       #Se declaro la variable haciendo el llamado a la libreria que trae los datos de pendiente e intersección\n",
        "print (t) "
      ],
      "execution_count": 7,
      "outputs": [
        {
          "output_type": "stream",
          "text": [
            " \n",
            "-0.429 x - 0.05644\n"
          ],
          "name": "stdout"
        }
      ]
    },
    {
      "cell_type": "markdown",
      "metadata": {
        "id": "NnSogikYS8nE"
      },
      "source": [
        "# Paso-6: Creamos la nube de puntos\n"
      ]
    },
    {
      "cell_type": "code",
      "metadata": {
        "colab": {
          "base_uri": "https://localhost:8080/",
          "height": 294
        },
        "id": "UXJi2LCiTAvx",
        "outputId": "17bcf4dd-9369-4a33-de1f-8c5b0f8aaaf5"
      },
      "source": [
        "x = np.array([0, 0.5, 1, 1.5, 2, 2.5, 3, 3.5, 4])                             #Se define en el eje x los valores de tiempo en segundos\n",
        "y = np.array([0.00, -0.30, -0.60, -0.65, -0.94, -1.01, -1.40, -1.51, -1.82])  #Se define en eje y los valores de altura en metros\n",
        "plt.plot (x,y,\"o\")                                                            #Se muestra la grafica con los puntos de x y y\n",
        "plt.xlabel('TIEMPO(seg)')                                                     #Se define un label al eje x\n",
        "plt.ylabel('ALTURA(mts)')                                                     #Se define un label al eje y\n",
        "plt.title(' GRÁFICA NUBE DE PUNTOS')                                          #Se define un titluo a la gráfica\n",
        "plt.grid()                                                                    #Se carga con cuadricula la grafica\n",
        "plt.show()                                                                    #Se muestra la grafica"
      ],
      "execution_count": 8,
      "outputs": [
        {
          "output_type": "display_data",
          "data": {
            "image/png": "[encoded data removed]",
            "text/plain": [
              "<Figure size 432x288 with 1 Axes>"
            ]
          },
          "metadata": {
            "tags": [],
            "needs_background": "light"
          }
        }
      ]
    },
    {
      "cell_type": "markdown",
      "metadata": {
        "id": "KofiItrsW7oL"
      },
      "source": [
        "# Paso-7: Ajustamos la nube de puntos"
      ]
    },
    {
      "cell_type": "code",
      "metadata": {
        "colab": {
          "base_uri": "https://localhost:8080/",
          "height": 294
        },
        "id": "T7gOBdHXW9vp",
        "outputId": "3aca9dd2-9522-48af-a351-22948b381fa4"
      },
      "source": [
        "xi = [0, 0.5, 1, 1.5, 2, 2.5, 3, 3.5, 4]                                  #Se define en el eje xi los valores de tiempo en segundos\n",
        "yi = [0.00, -0.30, -0.60, -0.65, -0.94, -1.01, -1.40, -1.51, -1.82]       #Se define en eje y los valores de altura en metros\n",
        "plt.plot(xi,yi, \"o\", label = 'Datos' )                                    #Se ubica los puntos  x, y y - Asignandoles el label Datos\n",
        "plt.plot(x, a1*x + a0, label = 'Recta' )                                  #Se asigna la recta y es llamada Recta\n",
        "plt.xlabel('TIEMPO(seg)')                                                 #Se define un label al eje x\n",
        "plt.ylabel('ALTURA(Mts.)')                                                #Se define un label al eje y\n",
        "plt.title('GRÁFICA NUBE DE PUNTOS')                                       #Se define un titluo a la gráfica\n",
        "plt.grid()                                                                #Se carga con cuadricula la grafica\n",
        "plt.legend (loc = 4)\n",
        "plt.show()                                                                #Se muestra la grafica\n",
        "\n",
        "\n"
      ],
      "execution_count": 9,
      "outputs": [
        {
          "output_type": "display_data",
          "data": {
            "image/png": "[encoded data removed]",
            "text/plain": [
              "<Figure size 432x288 with 1 Axes>"
            ]
          },
          "metadata": {
            "tags": [],
            "needs_background": "light"
          }
        }
      ]
    },
    {
      "cell_type": "code",
      "metadata": {
        "id": "fHQEgPaM968Q"
      },
      "source": [
        ""
      ],
      "execution_count": null,
      "outputs": []
    },
    {
      "cell_type": "markdown",
      "metadata": {
        "id": "jtImUDNP92-B"
      },
      "source": [
        "# Paso-8: Analizamos los reultados\n",
        "\n",
        "Se puede determinar según la gráfica que el objeto va descendiendo de la superficie, en intervalos de medio segundo, esto nos indica indica que el objeto se encuentra por debajo de la superficie.\n",
        "\n",
        "Podemos observar que se obtiene un tiempo inicial de cero con una altura de cero, mientras avanza a 0.5 segundos desciende 0.30 metros de altura, hasta tomar una altura de -1.82 por debajo de la superficie eje x con un tiempo de 4 \n",
        "segundos.\n",
        "\n",
        "\n",
        "1.  La pendiente es: -0.42899999999999994\n",
        "2.  La interseccion es: -0.05644444444444463\n",
        "3.  El error estandar es: 0.07765051947413598\n",
        "4.  El Coeficiente de correlacion es: 0.984941170407605 \n",
        "\n",
        "\n"
      ]
    },
    {
      "cell_type": "code",
      "metadata": {
        "id": "RDLkKPRQEWST"
      },
      "source": [
        ""
      ],
      "execution_count": null,
      "outputs": []
    },
    {
      "cell_type": "markdown",
      "metadata": {
        "id": "gCmlnr57idID"
      },
      "source": [
        "## Referencias bibliográficas\n",
        "\n",
        "* Canale, R. P. y P. Canale, R. (2007). Métodos numéricos para ingenieros (5a. ed.). México D.F, Mexico: McGraw-Hill Interamericana. (pp. 233 – 244, 305 – 317). Recuperado de https://elibro-net.bibliotecavirtual.unad.edu.co/es/lc/unad/titulos/73710\n",
        "\n",
        "* Grabación. Recuperado de https://www.youtube.com/watch?v=NJNf0hssz74\n",
        "\n",
        "* Correlación lineal y Regresión lineal simple. Recuperado de: https://www.cienciadedatos.net/documentos/24_correlacion_y_regresion_lineal#Regresi%C3%B3n_lineal_simple\n"
      ]
    }
  ]
}