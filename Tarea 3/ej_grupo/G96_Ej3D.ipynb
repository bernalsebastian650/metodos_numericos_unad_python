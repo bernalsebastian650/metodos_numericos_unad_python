{
  "nbformat": 4,
  "nbformat_minor": 0,
  "metadata": {
    "colab": {
      "name": "G96_Alexandra_Vargas_Vargas_Ej3D.ipynb",
      "provenance": [],
      "collapsed_sections": []
    },
    "kernelspec": {
      "name": "python3",
      "display_name": "Python 3"
    },
    "language_info": {
      "name": "python"
    }
  },
  "cells": [
    {
      "cell_type": "markdown",
      "metadata": {
        "id": "NNEn8g6Tfnrp"
      },
      "source": [
        "#**Unidad 2: Tarea - 3 Sistema de Ecuaciones Lineales, Regresión lineal e Interpolación**\n",
        "\n",
        "#**EJERCICIO 3: Interpolación**\n",
        "##**D**. Para el conjunto de datos:\n",
        "![img 1.PNG](data:image/png;base64,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)\n",
        "\n",
        "Realice un programa en Python empleando Google Colab que: \n",
        "* Ajuste a un polinomio de interpolación los datos dados, empleando cada uno de los siguientes métodos: \n",
        " * Newton \n",
        " * Lagrange \n",
        " * Trazadores cúbicos \n",
        "* Con el polinomio encontrado, determine el valor en 𝑥=7 \n",
        "* Haga un análisis de resultados basándose en la teoría y en los resultados obtenidos. Debe incluir referencias a la bibliografía empleada usando las normas APA. Comentarios sin referencias no serán tenidos en cuenta. \n",
        " \n",
        "* Para cada método haga una descripción teórica (las ecuaciones deberán estar escritas en LaTeX) incluyendo referencias bibliográficas empleadas siguiendo las normas APA. \n",
        " "
      ]
    },
    {
      "cell_type": "markdown",
      "metadata": {
        "id": "jKoiYrA5ktFT"
      },
      "source": [
        "#**Interporlación**\n",
        "\n",
        "**Definición**\n",
        "\n",
        "En el subcampo matemático del análisis numérico, se denomina interpolación a la obtención de nuevos puntos partiendo del conocimiento de un conjunto discreto de puntos.\n",
        "\n",
        "**Utilidad**\n",
        "\n",
        "En ciertos casos el usuario conoce el valor de una función $f(x)$ en una seriede puntos$ x_1, x_2,···, x_N,$ pero no se conoce una expresión analítica de $f(x)$ que permita calcular el valor de la función para un punto arbitrario. Un ejemplo claro son las mediciones de laboratorio, donde se mide cada minuto un valor, pero se requiere el valor en otro punto que no ha sido medido. Otro ejemplo\n",
        "son mediciones de temperatura en la superﬁcie de la Tierra, que se realizan en equipos o estaciones meteorológicas y se necesita calcular la temperatura en un punto cercano, pero distinto al punto de medida.\n",
        "\n",
        "La idea de la interpolación es poder estimar f(x) para un valor de x arbitrario, a partir de la construcción de una curva o superﬁcie que une los puntos donde se han realizado las mediciones y cuyo valor si se conoce. Se asume que el punto arbitrario x se encuentra dentro de los límites de los puntos de medición, en caso contrario se llamaría extrapolación. En este página se discute exclusivamente la interpolación, aunque la idea es similar.\n",
        "\n",
        "**Formas de interpolación**\n",
        "\n",
        "* Interpolación lineal (figura)\n",
        "* Interpolación polinómica\n",
        "* Interpolación de Hermite\n",
        "* Interpolación de Splines\n",
        "(Estas formas son lás más importantes)\n",
        "\n",
        "**En la práctica**\n",
        "\n",
        "Un proceso de interpolación se realiza en dos etapas:\n",
        "\n",
        "1. Hacer un ﬁt de los datos disponibles con una función interpolante.\n",
        "2. Evaluar la función interpolante en el punto de interés x.\n",
        "\n",
        "Este proceso en dos etapas no es necesariamente el más eﬁciente. La mayoría de algoritmos comienzan con un punto cercano $f(x_i)$, y poco a poco van aplicando correcciones más pequeñas a medida que la información de valores $f(x_i)$ más distantes son incorporadas. El procedimiento toma aproximadamente $O(N^{2})$ operaciones. Si la función tiene un comportamiento suave, la última correción será la más pequeña y puede ser utilizada para estimar un límite a rango de error.\n",
        "\n",
        "Wikidot.com. (2020). ¿Qué es la interpolación?, de Interpolación Recuperado de http://interpolacion.wikidot.com/"
      ]
    },
    {
      "cell_type": "markdown",
      "metadata": {
        "id": "Iyq_NWugAmLM"
      },
      "source": [
        "#**$$DESARROLLO$$**"
      ]
    },
    {
      "cell_type": "markdown",
      "metadata": {
        "id": "p6YxuVhUUITt"
      },
      "source": [
        "###**Diferencias divididas de Newton**\n",
        "$$f_{n}\\left ( x \\right )= b_{0}+b_{1}\\left ( x-x_{0} \\right )+b_{2}\\left ( x-x_{0} \\right )\\left ( x-x_{1} \\right )+...+  b_{n}\\left ( x-x_{0} \\right )\\left ( x-x_{1} \\right )\\left ( x-x_{2} \\right )...\\left ( x-x_{n-1} \\right )$$\n",
        "$$b_{0}=f\\left ( x_{0} \\right ) $$\n",
        "$$b_{1}=f\\left [ x_{1},x_{0} \\right ]$$\n",
        "$$b_{2}=f\\left [ x_{2},x_{1},x_{0} \\right ]$$\n",
        "$$b_{n}=f\\left [ x_{n},x_{n-1},...x_{1},x_{0}\\right ]$$\n",
        "\n",
        "\n"
      ]
    },
    {
      "cell_type": "markdown",
      "metadata": {
        "id": "UG3M3rNBFtH6"
      },
      "source": [
        "#**Paso 1: Definimos las entradas**"
      ]
    },
    {
      "cell_type": "code",
      "metadata": {
        "id": "W2LpAy9kz3MU"
      },
      "source": [
        "import matplotlib.pyplot as plt             #biblioteca de python para realizar las gráficas\n",
        "import numpy as np\n",
        "x = [1.5, 3, 4, 8, 9.5]                     #Datos del ejercicio      \n",
        "y = [1.5,2.5,5.1,4.9,6.3]                   #Datos del ejercicio\n",
        "x_inter = 6                                 #valor de x donde se hará la interpolación \n",
        "# x_inter = float(input(\"ingrese el valor de x donde se quiere interolar:\"))"
      ],
      "execution_count": 20,
      "outputs": []
    },
    {
      "cell_type": "markdown",
      "metadata": {
        "id": "kQmObsAnhzpU"
      },
      "source": [
        "#**Paso 2: Definir la función de interpolación de Newton**"
      ]
    },
    {
      "cell_type": "code",
      "metadata": {
        "id": "o5aIK0R7immn"
      },
      "source": [
        "def InterpolacionNewton (x, y, x_inter):                           #definimos la función InterpolacionNewton y las entradas vectores: (x, y, x_inter)\n",
        "  n = len(x)                                                       #definimos el len x o y para generalizar \n",
        " \n",
        "  dfd = [[None for x in range(n)]  for x in range(n)]              #definimos la matriz diferencias divididas dfd, matriz con elementos vacíos\n",
        "  yint = [None for x in range(n)]                                  #definimos yint para crear vector de elemtos vacios \n",
        "\n",
        "  for i in  range(n):                                               #range toma todos los elementos\n",
        "    dfd[i][0] = y[i]                                   \n",
        "\n",
        "  for j in range(1,n):                                              #range inicia en la pocisión 2\n",
        "    for i in range(n-j):                                            #range toma todas las filas \n",
        "      dfd[i][j] = (dfd[i+1][j-1] - dfd[i][j-1]) / (x[i+j] - x[i])   #definimos el cálculo de las diferencias definidas\n",
        "\n",
        "  yint[0]  = dfd[0][0]                                              #definimos primir elemento, vector auxiliar que nos ayudara a calcular\n",
        "  xterm = 1                                                         #inicializamos el calculo de la sumatoria\n",
        "\n",
        "  for k in range(1,n):                                              #definimos la sumatoria\n",
        "    xterm = xterm * (x_inter - x[k-1])   \n",
        "    y_inter = yint[k-1] + dfd[0] [k] * xterm                        \n",
        "    yint[k] = y_inter                                               #Acumula los terminos del polinomio                                \n",
        "\n",
        "  return y_inter                                                    #nuestra salida  "
      ],
      "execution_count": 24,
      "outputs": []
    },
    {
      "cell_type": "markdown",
      "metadata": {
        "id": "qBJVB7nprM1S"
      },
      "source": [
        "#**Paso 3 : Se llama la función para interpolar**"
      ]
    },
    {
      "cell_type": "code",
      "metadata": {
        "id": "rPkotzIREyJH",
        "colab": {
          "base_uri": "https://localhost:8080/"
        },
        "outputId": "a3274be9-7bd7-4be0-f09a-966ff0000d19"
      },
      "source": [
        "fxn = print(InterpolacionNewton(x, y, x_inter))                    # llamamos nuestra función de InterpolacionNewton"
      ],
      "execution_count": 25,
      "outputs": [
        {
          "output_type": "stream",
          "text": [
            "7.436643356643355\n"
          ],
          "name": "stdout"
        }
      ]
    },
    {
      "cell_type": "markdown",
      "metadata": {
        "id": "ebJJXJn8F2XR"
      },
      "source": [
        "#**Paso 4: Se hace la gráfica del polinomio**"
      ]
    },
    {
      "cell_type": "code",
      "metadata": {
        "id": "Q0Mu1BdcGHLR",
        "colab": {
          "base_uri": "https://localhost:8080/",
          "height": 311
        },
        "outputId": "4cccb6df-1dad-4312-dca6-ad7959dc813e"
      },
      "source": [
        "x_v = np.arange(min(x), max(x), 0.01)                               #llamanos la función para cada valor de x\n",
        "y_v = []                                                            #creamos lista vacía para almacenar nuestra salida\n",
        "\n",
        "for i in range(len(x_v)):                                            #llamamos a la funcion para llamar cada valor de x     \n",
        "  y_grafica = InterpolacionNewton(x, y, x_v[i])                    \n",
        "  y_v.append(y_grafica)                                             #por cada valor de x tenemos el valor e interpolación y_v\n",
        "                                       #graficamos \n",
        "fxn = InterpolacionNewton (x, y, x_inter)\n",
        "\n",
        "plt.scatter(x, y, color=\"blue\")  \n",
        "plt.xlabel(\"X\")                                   \n",
        "plt.ylabel(\"Y\")\n",
        "plt.title(\"Interpolación de Newton\")\n",
        "plt.grid(True)\n",
        "plt.plot(x_v, y_v,'r')\n",
        "plt.scatter(x_inter, fxn, color='g')\n",
        "\n",
        "\n",
        "                                                     "
      ],
      "execution_count": 31,
      "outputs": [
        {
          "output_type": "execute_result",
          "data": {
            "text/plain": [
              "<matplotlib.collections.PathCollection at 0x7f78473b1c50>"
            ]
          },
          "metadata": {
            "tags": []
          },
          "execution_count": 31
        },
        {
          "output_type": "display_data",
          "data": {
            "image/png": "[encoded data removed]",
            "text/plain": [
              "<Figure size 432x288 with 1 Axes>"
            ]
          },
          "metadata": {
            "tags": [],
            "needs_background": "light"
          }
        }
      ]
    },
    {
      "cell_type": "markdown",
      "metadata": {
        "id": "kCmqDx0AV4EQ"
      },
      "source": [
        "#**Interpolación de Lagrange** "
      ]
    },
    {
      "cell_type": "code",
      "metadata": {
        "id": "2kevxyjFXEIj"
      },
      "source": [
        "import matplotlib.pyplot as plt             #biblioteca de python para realizar las gráficas\n",
        "import numpy as np\n",
        "x = [1.5, 3, 4, 8, 9.5]                     #Datos del ejercicio      \n",
        "y = [1.5,2.5,5.1,4.9,6.3]                   #Datos del ejercicio\n",
        "x_inter = 6                                 #valor de x donde se hará la interpolación \n",
        "# x_inter = float(input(\"ingrese el valor de x donde se quiere interolar:\"))"
      ],
      "execution_count": 32,
      "outputs": []
    },
    {
      "cell_type": "markdown",
      "metadata": {
        "id": "-rVbEcB1ZR5O"
      },
      "source": [
        "#**Paso 2: Se define la función de interpolación de Lagrange**"
      ]
    },
    {
      "cell_type": "code",
      "metadata": {
        "id": "WNDFUbfjaGBK"
      },
      "source": [
        "def InterpolacionLagrange(x, y, x_inter):                           #Definimos la función InterpolacionLagrange de x, y, x_inter\n",
        "  n = len(x)                                                        #Definimos el len x o y para generalizar \n",
        "  suma = 0                                                          #Definimos suma = 0\n",
        "\n",
        "  for i in  range(n):                                               #range toma todos los elementos, i para la sumatoria\n",
        "    producto = y[i]                                                 #tomamos cada uno de los elementos de nuestro vector y\n",
        "    for j in  range(n):                                             #range toma todos los elementos, j para el producto\n",
        "      if i !=j:                                                     # condicional para  que j sea diferente de i  \n",
        "       producto = producto * (x_inter - x[j]) / (x[i] - x[j])       # calculamos producto\n",
        "\n",
        "    suma = suma + producto                                          #definimos suma para los diferentes i\n",
        "  y_inter = suma\n",
        "  \n",
        "  return y_inter                                                    #nuestra salida  "
      ],
      "execution_count": 33,
      "outputs": []
    },
    {
      "cell_type": "markdown",
      "metadata": {
        "id": "x-8v1nZwf_0g"
      },
      "source": [
        "#**Paso 3 : Se llama la función para interpolar**"
      ]
    },
    {
      "cell_type": "code",
      "metadata": {
        "colab": {
          "base_uri": "https://localhost:8080/"
        },
        "id": "SdEO5WgZgM1P",
        "outputId": "12d85169-57fe-42c1-f6f0-af8a5a966a3a"
      },
      "source": [
        "fxn = print(InterpolacionLagrange(x, y, x_inter))                    # llamamos nuestra función de InterpolacionLagrange(x, y, x_inter)"
      ],
      "execution_count": 34,
      "outputs": [
        {
          "output_type": "stream",
          "text": [
            "7.436643356643358\n"
          ],
          "name": "stdout"
        }
      ]
    },
    {
      "cell_type": "markdown",
      "metadata": {
        "id": "OzzGGaEyhDs4"
      },
      "source": [
        "#**Paso 4: Se hace la gráfica**"
      ]
    },
    {
      "cell_type": "code",
      "metadata": {
        "colab": {
          "base_uri": "https://localhost:8080/",
          "height": 311
        },
        "id": "QoraGHPChXOV",
        "outputId": "3dc407f5-3b27-480f-9ff8-a293beef2da4"
      },
      "source": [
        "x_v = np.arange(min(x), max(x), 0.01)                               #llamanos la función para cada valor de x\n",
        "y_v = []                                                            #creamos lista vacía para almacenar nuestra salida\n",
        "\n",
        "for i in range(len(x_v)):                                           #llamamos a la funcion para llamar cada valor de x     \n",
        "  y_grafica = InterpolacionLagrange(x, y, x_v[i])                    \n",
        "  y_v.append(y_grafica)                                             #por cada valor de x tenemos el valor e interpolación y_v\n",
        "                                       #graficamos \n",
        "fxn = InterpolacionLagrange (x, y, x_inter)\n",
        "\n",
        "plt.scatter(x, y, color=\"blue\")  \n",
        "plt.xlabel(\"X\")                                   \n",
        "plt.ylabel(\"Y\")\n",
        "plt.title(\"Interpolación de Lagrange\")\n",
        "plt.grid(True)\n",
        "plt.plot(x_v, y_v,'r')\n",
        "plt.scatter(x_inter, fxn, color='g')"
      ],
      "execution_count": 35,
      "outputs": [
        {
          "output_type": "execute_result",
          "data": {
            "text/plain": [
              "<matplotlib.collections.PathCollection at 0x7f784732af90>"
            ]
          },
          "metadata": {
            "tags": []
          },
          "execution_count": 35
        },
        {
          "output_type": "display_data",
          "data": {
            "image/png": "[encoded data removed]",
            "text/plain": [
              "<Figure size 432x288 with 1 Axes>"
            ]
          },
          "metadata": {
            "tags": [],
            "needs_background": "light"
          }
        }
      ]
    },
    {
      "cell_type": "markdown",
      "metadata": {
        "id": "zLcMb7s7iMl0"
      },
      "source": [
        "#**Interpolación con Trazadores Cúbicos**"
      ]
    },
    {
      "cell_type": "markdown",
      "metadata": {
        "id": "x36h2HtKifh-"
      },
      "source": [
        "#**Paso 1: Definimos entradas**"
      ]
    },
    {
      "cell_type": "code",
      "metadata": {
        "id": "avUHEOEAiMUA"
      },
      "source": [
        "import numpy as np\n",
        "import sympy as sym\n",
        "import pandas as pd\n",
        "import matplotlib.pyplot as plt                                                             #cargamos bibliotecas necesarias.\n",
        "\n",
        "x = [1.5, 3, 4, 8, 9.5]                                                                     #Datos del ejercicio      \n",
        "y = [1.5,2.5,5.1,4.9,6.3]                                                                   #Datos del ejercicio\n",
        "x_inter = 6                                                                                 #valor de x donde se hará la interpolación \n",
        "n = len(x)\n",
        "\n",
        "h = np.zeros([n- 1])                                                                        #matrices y vectores para ir almacenando datos interiores \n",
        "A = np.zeros([n- 2, n- 2]); B = np.zeros([n - 2]); s = np.zeros([n])\n",
        "a = np.zeros([n- 1]); b = np.zeros([n - 1]); c = np.zeros([n - 1]); d = np.zeros([n - 1])\n"
      ],
      "execution_count": 39,
      "outputs": []
    },
    {
      "cell_type": "markdown",
      "metadata": {
        "id": "s0UNq8WVl52l"
      },
      "source": [
        "#**Paso 2: Definir el método de interpolación por trazadores cúbicos**"
      ]
    },
    {
      "cell_type": "code",
      "metadata": {
        "id": "FMh17kznmFNs"
      },
      "source": [
        "def InterpolacionTrazados(x, y, x_inter, n, h, A, a):                                   #Definimos la función InterpolacionTrazados (x, y, x_inter, n, h, A, a)\n",
        "  if n<3:\n",
        "    T=[]\n",
        "\n",
        "  for i in range(n-1):\n",
        "      h[i]=x[i+1]-x[i]\n",
        "  A[0,0]=2*(h[0]+h[1])                                                             #Construimos el sistema\n",
        "  A[0,1]=h[1]\n",
        "  B[0]=6*((y[2]-y[1])/h[1]-(y[1]-y[0])/h[0])\n",
        "  for i in range(1,n-3):\n",
        "      A[i,i-1]= h[i]\n",
        "      A[i,i] =2*(h[i +1])\n",
        "      A[i,i+1] = h[i +1]\n",
        "      B[i] = 6*((y[i+2] - y[i +1]) / h[i+1] - (y[i+1] - y[i]) / h[i])\n",
        "  A[n- 3, n-4] = h[n-3]\n",
        "  A[n- 3, n - 3] = 2 * (h[n - 3] + h[n - 2])\n",
        "  B[n- 3] = 6 *((y[n -1] - y[n - 2]) / h[n - 2] - (y[n- 2] - y[n- 3]) / h[n -3])\n",
        "  r=np.linalg.solve(A, B)                                                               #Resolvemos el sistema\n",
        "\n",
        "  for i in range(1,n-1):\n",
        "    S[i]=r[i-1]\n",
        "  S[0] = 0\n",
        "  S[n-1] = 0\n",
        "\n",
        "  for i in range(n - 1):\n",
        "      a[i] = (S[i + 1] - S[i]) / (6 * h[i])\n",
        "      b[i] = S[i] / 2\n",
        "      c[i] = (y[i + 1] - y[i]) / h[i] - (2 * h[i] * S[i] + h[i] * S[i + 1]) / 6\n",
        "      d[i] = y[i]\n",
        "\n",
        "  try:\n",
        "    if len(x_inter) == 0:                                                                #Identificamos si es un vector \n",
        "        pass\n",
        "  \n",
        "  except TypeError:\n",
        "       x_inter = [x_inter]                                                               #Asignamos el punto a evaluar en el vector \n",
        "  \n",
        "  if len(x_inter) == 0:                                                                  #Construimos el vector \n",
        "      t = symbol('t')\n",
        "      T = []\n",
        "      for i in range(n - 1):\n",
        "          p=expand(a[i]*(t -x[i])**3 +b[i]*(t-x[i])**2+c[i]*(t-x[i])+d[i])\n",
        "          T=T+[p]\n",
        "\n",
        "  else:                                                                                   #Evaluamos el trazador \n",
        "      m = len(x_inter)\n",
        "      y_inter = np.zeros([m])\n",
        "      for k in range(m):\n",
        "          t = x_inter[k]\n",
        "          for i in range(n - 1):\n",
        "              if t >= x[i] and t <= x[i + 1]:\n",
        "                   y_inter[k] = a[i] * (t - x[i]) ** 3 + b[i] * (t - x[i]) ** 2 + c[i] * (t - x[i]) + d[i]\n",
        "\n",
        "          if m > 2:\n",
        "             k = m - 1\n",
        "             i = n - 2\n",
        "             y_inter[k] = a[i] * (t - x[i]) ** 3 + b[i] * (t - x[i]) ** 2 + c[i] * (t - x[i]) + d[i]\n",
        "\n",
        "  return y_inter \n"
      ],
      "execution_count": 58,
      "outputs": []
    },
    {
      "cell_type": "markdown",
      "metadata": {
        "id": "MAzrUTmVnCwY"
      },
      "source": [
        "#**Paso 3: Se llama la función para interpolar**"
      ]
    },
    {
      "cell_type": "code",
      "metadata": {
        "id": "n11Q7QQtoKuP"
      },
      "source": [
        "fxn = print(InterpolacionTrazados(x, y, x_inter, n, h, A, a))                           # llamamos nuestra función InterpolacionTrazados(x, y, x_inter, n, h, A, a)"
      ],
      "execution_count": null,
      "outputs": []
    },
    {
      "cell_type": "markdown",
      "metadata": {
        "id": "p7TIf7s-wYMw"
      },
      "source": [
        "#**Paso 4: Se hace la gráfica el polinomio**"
      ]
    },
    {
      "cell_type": "code",
      "metadata": {
        "colab": {
          "base_uri": "https://localhost:8080/",
          "height": 344
        },
        "id": "ZiOgLEV8wmPp",
        "outputId": "f970a7c7-7966-4b0b-91e9-0b773891549a"
      },
      "source": [
        "x_v = np.arange(min(x), max(x), 0.01)                               #llamanos la función para cada valor de x\n",
        "\n",
        "y_v = []                                                            #creamos lista vacía para almacenar nuestra salida\n",
        "\n",
        "for i in range(len(x_v)):                                           #llamamos a la funcion para llamar cada valor de x     \n",
        "  y_grafica = InterpolacionTrazados(x, y, x_v[i],n ,h, A, a)                    \n",
        "  y_v.append(y_grafica)                                             #por cada valor de x tenemos el valor e interpolación y_v\n",
        "                                       #graficamos \n",
        "fxn = InterpolacionTrazados(x, y, x_inter, n, h, A, a)\n",
        "\n",
        "plt.scatter(x, y, color=\"blue\")  \n",
        "plt.xlabel(\"X\")                                   \n",
        "plt.ylabel(\"Y\")\n",
        "plt.title(\"Interpolación de Trazados cúbicos\")\n",
        "plt.grid(True)\n",
        "plt.plot(x_v, y_v,'r')\n",
        "plt.scatter(x_inter, fxn, color='g')"
      ],
      "execution_count": 62,
      "outputs": [
        {
          "output_type": "error",
          "ename": "NameError",
          "evalue": "ignored",
          "traceback": [
            "\u001b[0;31m---------------------------------------------------------------------------\u001b[0m",
            "\u001b[0;31mNameError\u001b[0m                                 Traceback (most recent call last)",
            "\u001b[0;32m<ipython-input-62-ea35f96536b1>\u001b[0m in \u001b[0;36m<module>\u001b[0;34m()\u001b[0m\n\u001b[1;32m      4\u001b[0m \u001b[0;34m\u001b[0m\u001b[0m\n\u001b[1;32m      5\u001b[0m \u001b[0;32mfor\u001b[0m \u001b[0mi\u001b[0m \u001b[0;32min\u001b[0m \u001b[0mrange\u001b[0m\u001b[0;34m(\u001b[0m\u001b[0mlen\u001b[0m\u001b[0;34m(\u001b[0m\u001b[0mx_v\u001b[0m\u001b[0;34m)\u001b[0m\u001b[0;34m)\u001b[0m\u001b[0;34m:\u001b[0m                                           \u001b[0;31m#llamamos a la funcion para llamar cada valor de x\u001b[0m\u001b[0;34m\u001b[0m\u001b[0;34m\u001b[0m\u001b[0m\n\u001b[0;32m----> 6\u001b[0;31m   \u001b[0my_grafica\u001b[0m \u001b[0;34m=\u001b[0m \u001b[0mInterpolacionTrazados\u001b[0m\u001b[0;34m(\u001b[0m\u001b[0mx\u001b[0m\u001b[0;34m,\u001b[0m \u001b[0my\u001b[0m\u001b[0;34m,\u001b[0m \u001b[0mx_v\u001b[0m\u001b[0;34m[\u001b[0m\u001b[0mi\u001b[0m\u001b[0;34m]\u001b[0m\u001b[0;34m,\u001b[0m\u001b[0mn\u001b[0m \u001b[0;34m,\u001b[0m\u001b[0mh\u001b[0m\u001b[0;34m,\u001b[0m \u001b[0mA\u001b[0m\u001b[0;34m,\u001b[0m \u001b[0ma\u001b[0m\u001b[0;34m)\u001b[0m\u001b[0;34m\u001b[0m\u001b[0;34m\u001b[0m\u001b[0m\n\u001b[0m\u001b[1;32m      7\u001b[0m   \u001b[0my_v\u001b[0m\u001b[0;34m.\u001b[0m\u001b[0mappend\u001b[0m\u001b[0;34m(\u001b[0m\u001b[0my_grafica\u001b[0m\u001b[0;34m)\u001b[0m                                             \u001b[0;31m#por cada valor de x tenemos el valor e interpolación y_v\u001b[0m\u001b[0;34m\u001b[0m\u001b[0;34m\u001b[0m\u001b[0m\n\u001b[1;32m      8\u001b[0m                                        \u001b[0;31m#graficamos\u001b[0m\u001b[0;34m\u001b[0m\u001b[0;34m\u001b[0m\u001b[0;34m\u001b[0m\u001b[0m\n",
            "\u001b[0;32m<ipython-input-58-65eb7fe5ded2>\u001b[0m in \u001b[0;36mInterpolacionTrazados\u001b[0;34m(x, y, x_inter, n, h, A, a)\u001b[0m\n\u001b[1;32m     19\u001b[0m \u001b[0;34m\u001b[0m\u001b[0m\n\u001b[1;32m     20\u001b[0m   \u001b[0;32mfor\u001b[0m \u001b[0mi\u001b[0m \u001b[0;32min\u001b[0m \u001b[0mrange\u001b[0m\u001b[0;34m(\u001b[0m\u001b[0;36m1\u001b[0m\u001b[0;34m,\u001b[0m\u001b[0mn\u001b[0m\u001b[0;34m-\u001b[0m\u001b[0;36m1\u001b[0m\u001b[0;34m)\u001b[0m\u001b[0;34m:\u001b[0m\u001b[0;34m\u001b[0m\u001b[0;34m\u001b[0m\u001b[0m\n\u001b[0;32m---> 21\u001b[0;31m     \u001b[0mS\u001b[0m\u001b[0;34m[\u001b[0m\u001b[0mi\u001b[0m\u001b[0;34m]\u001b[0m\u001b[0;34m=\u001b[0m\u001b[0mr\u001b[0m\u001b[0;34m[\u001b[0m\u001b[0mi\u001b[0m\u001b[0;34m-\u001b[0m\u001b[0;36m1\u001b[0m\u001b[0;34m]\u001b[0m\u001b[0;34m\u001b[0m\u001b[0;34m\u001b[0m\u001b[0m\n\u001b[0m\u001b[1;32m     22\u001b[0m   \u001b[0mS\u001b[0m\u001b[0;34m[\u001b[0m\u001b[0;36m0\u001b[0m\u001b[0;34m]\u001b[0m \u001b[0;34m=\u001b[0m \u001b[0;36m0\u001b[0m\u001b[0;34m\u001b[0m\u001b[0;34m\u001b[0m\u001b[0m\n\u001b[1;32m     23\u001b[0m   \u001b[0mS\u001b[0m\u001b[0;34m[\u001b[0m\u001b[0mn\u001b[0m\u001b[0;34m-\u001b[0m\u001b[0;36m1\u001b[0m\u001b[0;34m]\u001b[0m \u001b[0;34m=\u001b[0m \u001b[0;36m0\u001b[0m\u001b[0;34m\u001b[0m\u001b[0;34m\u001b[0m\u001b[0m\n",
            "\u001b[0;31mNameError\u001b[0m: name 'S' is not defined"
          ]
        }
      ]
    }
  ]
}