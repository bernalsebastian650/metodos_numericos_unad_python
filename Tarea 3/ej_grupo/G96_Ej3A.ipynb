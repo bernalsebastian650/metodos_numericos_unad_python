{
  "nbformat": 4,
  "nbformat_minor": 0,
  "metadata": {
    "colab": {
      "name": "G96_Yeisson_Borda_Ej3A.ipynb",
      "provenance": []
    },
    "kernelspec": {
      "name": "python3",
      "display_name": "Python 3"
    },
    "language_info": {
      "name": "python"
    }
  },
  "cells": [
    {
      "cell_type": "markdown",
      "metadata": {
        "id": "NLan1f588hbZ"
      },
      "source": [
        "# Ejercicio 3: Interpolación\n",
        "\n",
        "![imagen.png](data:image/png;base64,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)"
      ]
    },
    {
      "cell_type": "markdown",
      "metadata": {
        "id": "-_kJHM8_-JlN"
      },
      "source": [
        "# Paso 1 Definimos Entradas Newton\n",
        " \n",
        "---\n",
        "\n"
      ]
    },
    {
      "cell_type": "code",
      "metadata": {
        "id": "1URyHMv8-MvM"
      },
      "source": [
        "import matplotlib.pyplot as plt      # Importamos libreria para graficar                                         \n",
        "import numpy as np                                                              \n",
        "x = [8, 10, 12, 14, 16]                   # Valores de x                                     \n",
        "y = [0.02236, 0.0475, 0.0830, 0.1736, 0.2020]            # Valores de y                                            \n",
        "x_inter = 13                                               # Valor interpolación                 \n",
        "# x_inter = float(input(\"Ingrese el valor de x donde se desee interporlar\"))\n"
      ],
      "execution_count": 6,
      "outputs": []
    },
    {
      "cell_type": "markdown",
      "metadata": {
        "id": "VYxFFUFx_TC-"
      },
      "source": [
        "# Paso 2 Definir la interpolación"
      ]
    },
    {
      "cell_type": "code",
      "metadata": {
        "id": "OoVu0ew9_YBD"
      },
      "source": [
        "def InterpolacionNewton (x, y, x_inter):           # Definimos la función de interpolación de Newton                 \n",
        "  n = len(x)                                                      \n",
        " \n",
        "  dfd = [[None for x in range(n)]  for x in range(n)]       # definimos la matriz vacia       \n",
        "  yint = [None for x in range(n)]                            #  creamos el vector vacio\n",
        "\n",
        "  for i in  range(n):                                            # recorremos la matriz de i hasta n  \n",
        "    dfd[i][0] = y[i]                                   \n",
        "\n",
        "  for j in range(1,n):                                              #Recorremos la primera columna\n",
        "    for i in range(n-j):                                            \n",
        "      dfd[i][j] = (dfd[i+1][j-1] - dfd[i][j-1]) / (x[i+j] - x[i])    # operación de la diferencia\n",
        "\n",
        "  yint[0]  = dfd[0][0]                                              \n",
        "  xterm = 1                                                        \n",
        "\n",
        "  for k in range(1,n):                                      # recorremos el contador        \n",
        "    xterm = xterm * (x_inter - x[k-1])   \n",
        "    y_inter = yint[k-1] + dfd[0] [k] * xterm                        \n",
        "    yint[k] = y_inter                                                                        \n",
        "\n",
        "  return y_inter                           "
      ],
      "execution_count": 7,
      "outputs": []
    },
    {
      "cell_type": "markdown",
      "metadata": {
        "id": "lrLXh_RX_-FN"
      },
      "source": [
        "# Paso 3 Llamar Función Para Interpolar "
      ]
    },
    {
      "cell_type": "code",
      "metadata": {
        "colab": {
          "base_uri": "https://localhost:8080/"
        },
        "id": "xpqlOatzASJL",
        "outputId": "33690197-5da3-4de8-f852-76c0fa912ae0"
      },
      "source": [
        "fxn = print(InterpolacionNewton(x, y, x_inter))  # imprimir resultado"
      ],
      "execution_count": 8,
      "outputs": [
        {
          "output_type": "stream",
          "text": [
            "0.12494593750000002\n"
          ],
          "name": "stdout"
        }
      ]
    },
    {
      "cell_type": "markdown",
      "metadata": {
        "id": "P53mko7uATkT"
      },
      "source": [
        "#Paso 4 Grafica del Polinomio"
      ]
    },
    {
      "cell_type": "code",
      "metadata": {
        "colab": {
          "base_uri": "https://localhost:8080/",
          "height": 313
        },
        "id": "h9-JpyK3AYWd",
        "outputId": "a016a40b-be2b-4877-f2f8-8a22ec0c0de0"
      },
      "source": [
        "x_v = np.arange(min(x), max(x), 0.01)                     #Función para cada valor de x          \n",
        "y_v = []                                                    # lista Vacia        \n",
        "\n",
        "for i in range(len(x_v)):                                       # Recorremos los valores de x      \n",
        "  y_grafica = InterpolacionNewton(x, y, x_v[i])                    \n",
        "  y_v.append(y_grafica)                                            \n",
        "                                       \n",
        "fxn = InterpolacionNewton (x, y, x_inter)\n",
        "\n",
        "plt.scatter(x, y, color=\"black\")  # Se grafica la función\n",
        "plt.xlabel(\"X\")                                   \n",
        "plt.ylabel(\"Y\")\n",
        "plt.title(\"Interpolación de Newton\")\n",
        "plt.grid(True)\n",
        "plt.plot(x_v, y_v,'r')\n",
        "plt.scatter(x_inter, fxn, color='g')\n"
      ],
      "execution_count": 13,
      "outputs": [
        {
          "output_type": "execute_result",
          "data": {
            "text/plain": [
              "<matplotlib.collections.PathCollection at 0x7fbb21022f90>"
            ]
          },
          "metadata": {
            "tags": []
          },
          "execution_count": 13
        },
        {
          "output_type": "display_data",
          "data": {
            "image/png": "[encoded data removed]",
            "text/plain": [
              "<Figure size 432x288 with 1 Axes>"
            ]
          },
          "metadata": {
            "tags": [],
            "needs_background": "light"
          }
        }
      ]
    },
    {
      "cell_type": "markdown",
      "metadata": {
        "id": "eCuQ7wFkBfQE"
      },
      "source": [
        " # Interpolación de Lagrange\n",
        " # Paso 5  Definir Entradas"
      ]
    },
    {
      "cell_type": "code",
      "metadata": {
        "id": "5pbng3wAB0_6"
      },
      "source": [
        "import matplotlib.pyplot as plt             \n",
        "import numpy as np\n",
        "x = [8, 10, 12, 14, 16]                                                       \n",
        "y = [0.02236, 0.0475, 0.0830, 0.1736, 0.2020]                                                        \n",
        "x_inter = 13       \n"
      ],
      "execution_count": 14,
      "outputs": []
    },
    {
      "cell_type": "markdown",
      "metadata": {
        "id": "pkNmOH63JVtO"
      },
      "source": [
        "# Paso 6 Función de interpolación de Lagrange"
      ]
    },
    {
      "cell_type": "code",
      "metadata": {
        "id": "svIbYE7YJWSo"
      },
      "source": [
        "def InterpolacionLagrange(x, y, x_inter):                           \n",
        "  n = len(x)                                                        \n",
        "  suma = 0                                                          \n",
        "\n",
        "  for i in  range(n):                                               \n",
        "    producto = y[i]                                                 \n",
        "    for j in  range(n):                                             \n",
        "      if i !=j:                                                     \n",
        "       producto = producto * (x_inter - x[j]) / (x[i] - x[j])       \n",
        "\n",
        "    suma = suma + producto                                          \n",
        "  y_inter = suma\n",
        "  \n",
        "  return y_inter                      "
      ],
      "execution_count": 15,
      "outputs": []
    },
    {
      "cell_type": "markdown",
      "metadata": {
        "id": "ug2b8kYsJpJn"
      },
      "source": [
        "# Paso 6 Función para interpolar"
      ]
    },
    {
      "cell_type": "code",
      "metadata": {
        "colab": {
          "base_uri": "https://localhost:8080/"
        },
        "id": "fh1SOqrEJu0o",
        "outputId": "79911855-9ba2-4f99-c408-7aef89e870d5"
      },
      "source": [
        "fxn = print(InterpolacionLagrange(x, y, x_inter))  "
      ],
      "execution_count": 16,
      "outputs": [
        {
          "output_type": "stream",
          "text": [
            "0.1249459375\n"
          ],
          "name": "stdout"
        }
      ]
    },
    {
      "cell_type": "markdown",
      "metadata": {
        "id": "MJf8G-0aJ36X"
      },
      "source": [
        "Paso 7 Generar Grafica"
      ]
    },
    {
      "cell_type": "code",
      "metadata": {
        "colab": {
          "base_uri": "https://localhost:8080/",
          "height": 313
        },
        "id": "ITJXxt_2J4Zz",
        "outputId": "9dbf2ea6-a13e-4840-97a4-3a055b8dc220"
      },
      "source": [
        "x_v = np.arange(min(x), max(x), 0.01)                               \n",
        "y_v = []                                                            \n",
        "\n",
        "for i in range(len(x_v)):                                               \n",
        "  y_grafica = InterpolacionLagrange(x, y, x_v[i])                    \n",
        "  y_v.append(y_grafica)                                             \n",
        "                                       \n",
        "fxn = InterpolacionLagrange (x, y, x_inter)\n",
        "\n",
        "plt.scatter(x, y, color=\"black\")  \n",
        "plt.xlabel(\"X\")                                   \n",
        "plt.ylabel(\"Y\")\n",
        "plt.title(\"Interpolación de Lagrange\")\n",
        "plt.grid(True)\n",
        "plt.plot(x_v, y_v,'r')\n",
        "plt.scatter(x_inter, fxn, color='g')"
      ],
      "execution_count": 17,
      "outputs": [
        {
          "output_type": "execute_result",
          "data": {
            "text/plain": [
              "<matplotlib.collections.PathCollection at 0x7fbb210a7ad0>"
            ]
          },
          "metadata": {
            "tags": []
          },
          "execution_count": 17
        },
        {
          "output_type": "display_data",
          "data": {
            "image/png": "[encoded data removed]",
            "text/plain": [
              "<Figure size 432x288 with 1 Axes>"
            ]
          },
          "metadata": {
            "tags": [],
            "needs_background": "light"
          }
        }
      ]
    },
    {
      "cell_type": "markdown",
      "metadata": {
        "id": "nLLLSQiHKDUm"
      },
      "source": [
        "# Interpolación con Trazadores Cúbicos\n",
        "# Paso 7 Definimos Entradas"
      ]
    },
    {
      "cell_type": "code",
      "metadata": {
        "id": "uLpgDJAQKQbG"
      },
      "source": [
        "import numpy as np\n",
        "import sympy as sym\n",
        "import pandas as pd\n",
        "import matplotlib.pyplot as plt                                                           \n",
        "\n",
        "x = [8, 10, 12, 14, 16]                                                       \n",
        "y = [0.02236, 0.0475, 0.0830, 0.1736, 0.2020]                                                        \n",
        "x_inter = 13                                                                             \n",
        "n = len(x)\n",
        "\n",
        "h = np.zeros([n- 1])                                                                       \n",
        "A = np.zeros([n- 2, n- 2]); B = np.zeros([n - 2]); S= np.zeros([n])\n",
        "a = np.zeros([n- 1]); b = np.zeros([n - 1]); c = np.zeros([n - 1]); d = np.zeros([n - 1])\n"
      ],
      "execution_count": 65,
      "outputs": []
    },
    {
      "cell_type": "markdown",
      "metadata": {
        "id": "nR6fSZnfKcl_"
      },
      "source": [
        "#Paso 8 Función Interpolación Por Trazadores Cúbicos"
      ]
    },
    {
      "cell_type": "code",
      "metadata": {
        "id": "TbLt_GhBKmDM"
      },
      "source": [
        "def InterpolacionTrazados(x, y, x_inter, n, h, A, a):\n",
        "  if n<3:\n",
        "    T=[]\n",
        "\n",
        "  for i in range(n - 1):\n",
        "      h[i] = x[i + 1] - x[i]\n",
        "  A[0, 0] = 2 * (h[0] + h[1])\n",
        "  A[0, 1] = h[1]\n",
        "  B[0] = 6 *((y[2] - y[1]) / h[1] - (y[i] - y[0])/ h[0])\n",
        "  for i in range(1, n-3):\n",
        "      A[i, i - 1] = h[i]\n",
        "      A[i, i] = 2 * (h[i + 1])\n",
        "      A[i, i + 1] = h[i + 1]\n",
        "      B[i] = 6 * ((y[i + 2] - y[i + 1]) / h[i + 1] - (y[i + 1] - y[i]) / h[i])\n",
        "  A[n - 3, n - 4] = h[n - 3]\n",
        "  A[n - 3, n - 3] = 2 * (h[n - 3] + h[n - 2])\n",
        "  B[n - 3] = 6 * ((y[n -1] - y[n - 2]) / h[n - 2] - (y[n - 2] - y[n - 3]) / h[n -3])\n",
        "  r = np.linalg.solve(A, B)\n",
        "\n",
        "  for i in range(1, n-1):\n",
        "    S[i] = r[i-1]\n",
        "  S[0]=0\n",
        "  S[n-1]=0\n",
        "\n",
        "  for i in range(n-1):\n",
        "      a[i] =(S[i+1]-S[i])/(6*h[i])\n",
        "      b[i] = S[i]/2\n",
        "      c[i] = (y[i+1]-y[i])/h[i]-(2*h[i]*S[i]+h[i]*S[i+1])/6\n",
        "      d[i] = y[i]\n",
        "\n",
        "  try:\n",
        "    if len(x_inter) == 0:\n",
        "        pass\n",
        "  \n",
        "  except TypeError:\n",
        "       x_inter = [x_inter]\n",
        "  \n",
        "  if len(x_inter) == 0:\n",
        "      t =Symbol('t')\n",
        "      T = []\n",
        "      for i in range(n - 1):\n",
        "          p=expand(a[i]*(t -x[i])**3 +b[i]*(t-x[i])**2+c[i]*(t-x[i])+d[i])\n",
        "          T=T+[p]\n",
        "\n",
        "  else:\n",
        "      m = len(x_inter)\n",
        "      y_inter = np.zeros([m])\n",
        "      for k in range(m):\n",
        "          t = x_inter[k]\n",
        "          for i in range(n - 1):\n",
        "              if t >= x[i] and t <= x[i + 1]:\n",
        "                   y_inter[k] = a[i] * (t - x[i]) ** 3 + b[i] * (t - x[i]) ** 2 + c[i] * (t - x[i]) + d[i]\n",
        "\n",
        "          if m > 2:\n",
        "             k = m - 1\n",
        "             i = n - 2\n",
        "             y_inter[k] = a[i] * (t - x[i]) ** 3 + b[i] * (t - x[i]) ** 2 + c[i] * (t - x[i]) + d[i]\n",
        "\n",
        "  return y_inter "
      ],
      "execution_count": 66,
      "outputs": []
    },
    {
      "cell_type": "markdown",
      "metadata": {
        "id": "J1PSVrjuKyhl"
      },
      "source": [
        "Paso 9 Función para Interpolar"
      ]
    },
    {
      "cell_type": "code",
      "metadata": {
        "colab": {
          "base_uri": "https://localhost:8080/"
        },
        "id": "_dugl4zRK2zk",
        "outputId": "c69e51c5-fd0a-46d5-b77b-cde57251c787"
      },
      "source": [
        "fx = print(InterpolacionTrazados(x, y, x_inter, n, h, A, a))"
      ],
      "execution_count": 67,
      "outputs": [
        {
          "output_type": "stream",
          "text": [
            "[0.11545906]\n"
          ],
          "name": "stdout"
        }
      ]
    },
    {
      "cell_type": "markdown",
      "metadata": {
        "id": "6omBeGX9Xz8r"
      },
      "source": [
        "#Paso 10 Generar Grafica"
      ]
    },
    {
      "cell_type": "code",
      "metadata": {
        "colab": {
          "base_uri": "https://localhost:8080/",
          "height": 313
        },
        "id": "vPmEx-leYL3E",
        "outputId": "531fd90b-c94d-4bd6-8f7b-19876322ab88"
      },
      "source": [
        "x_v =np.arange(min(x),max(x), 0.01)\n",
        "\n",
        "y_v =[]\n",
        "for i in range(len(x_v)):\n",
        "  y_grafica = InterpolacionTrazados(x, y, x_v[i], n, h, A,a)\n",
        "  y_v.append(y_grafica)\n",
        "\n",
        "fx = InterpolacionTrazados(x, y, x_inter, n, h, A, a)\n",
        "\n",
        "plt.scatter(x,y, color=\"blue\")\n",
        "plt.scatter(x_inter,fx,color='black')\n",
        "plt.xlabel(\"X\")\n",
        "plt.ylabel(\"Y\")\n",
        "plt.plot(x_v,y_v, 'r')\n",
        "plt.grid(True)\n",
        "plt.title(\"Trazados Cúbicos\")\n"
      ],
      "execution_count": 73,
      "outputs": [
        {
          "output_type": "execute_result",
          "data": {
            "text/plain": [
              "Text(0.5, 1.0, 'Trazados Cúbicos')"
            ]
          },
          "metadata": {
            "tags": []
          },
          "execution_count": 73
        },
        {
          "output_type": "display_data",
          "data": {
            "image/png": "[encoded data removed]",
            "text/plain": [
              "<Figure size 432x288 with 1 Axes>"
            ]
          },
          "metadata": {
            "tags": [],
            "needs_background": "light"
          }
        }
      ]
    },
    {
      "cell_type": "markdown",
      "metadata": {
        "id": "7aCq8Ff5c24y"
      },
      "source": [
        "# Analis de Rsultados \n",
        "Interpolación significa estimar el valor desconocido de una función en un punto, tomando una medida ponderada de sus valores conocidos en puntos cercanos al valor\n",
        "\n",
        "Se realizo la interpolación de los metodos de Newton, lagrange y trazados Cúbicos con un resultado exitoso"
      ]
    },
    {
      "cell_type": "markdown",
      "metadata": {
        "id": "phNEdoctea0h"
      },
      "source": [
        "# Bibligrafia \n",
        "https://www.youtube.com/watch?v=zAIwver4M9g"
      ]
    }
  ]
}