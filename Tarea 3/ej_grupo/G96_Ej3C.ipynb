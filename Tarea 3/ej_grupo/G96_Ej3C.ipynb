{
  "nbformat": 4,
  "nbformat_minor": 0,
  "metadata": {
    "colab": {
      "name": "G96_Omar Hernando Rojas García_Ej3C.ipynb",
      "provenance": [],
      "collapsed_sections": []
    },
    "kernelspec": {
      "name": "python3",
      "display_name": "Python 3"
    },
    "language_info": {
      "name": "python"
    }
  },
  "cells": [
    {
      "cell_type": "markdown",
      "metadata": {
        "id": "uHUP_YECOegD"
      },
      "source": [
        "# **Diferencias  Definidas de Newton**\n",
        "\n",
        "El método se usa en el caso que los puntos en el «eje x» se encuentran espaciados de forma arbitraria y provienen de una función desconocida pero supuestamente diferenciable.\n",
        " \n",
        "En la fórmula del polinomio, las diferencias divididas sirven para evaluar los coeficientes de cada término adicional para aumentar el grado. Semejante al proceso realizado para  «diferencias finitas divididas»:\n",
        "$$f_{n}(x) = f(x_{0})+(x-x_{0})f[x_{1},x_{0}]+$$  $$+(x-x_{0})(x-x_{1})f[x_{2},x_{1},x_{0}]+...+ $$  $$+(x-x_{0})(x-x_{1})...(x-x_{n-1})f[x_{n},x_{n-1},...,x_{0}]$$"
      ]
    },
    {
      "cell_type": "markdown",
      "metadata": {
        "id": "IQ8F5gQBdiuC"
      },
      "source": [
        "Este polinomio de interpolación se conoce como de Newton en diferencias divididas."
      ]
    },
    {
      "cell_type": "markdown",
      "metadata": {
        "id": "qugyEoaBeeYd"
      },
      "source": [
        "**Ejercicio 3: Interpolación**\n",
        "\n",
        "**Descripción del ejercicio:**\n",
        "\n",
        "Para el conjunto de datos:\n",
        "\n",
        "C:\n",
        "\n",
        "![image.png](data:image/png;base64,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)"
      ]
    },
    {
      "cell_type": "markdown",
      "metadata": {
        "id": "Li3TMlyoPMgD"
      },
      "source": [
        "**Paso 1: Definimos las entradas**"
      ]
    },
    {
      "cell_type": "code",
      "metadata": {
        "id": "IeodYoQcOuZt"
      },
      "source": [
        "import matplotlib.pyplot as plt                                                   # Función para gráficar\n",
        "import numpy as np                                                                #\n",
        "x = [-11, -7, 5, 7, 8, 12]                                                        # Valores asignados para variable x\n",
        "y = [-7, 2, -3, 1, 4, -5]                                                         # Valores asignados para variable y\n",
        "x_inter = 7                                                                       # Valor de la interpolación\n",
        "# x_inter = float(input(\"Ingrese el valor de x donde se desee interporlar\"))\n"
      ],
      "execution_count": null,
      "outputs": []
    },
    {
      "cell_type": "markdown",
      "metadata": {
        "id": "J0d6ToD5WMjf"
      },
      "source": [
        "**Paso 2: Definir la función de interpoación de Newton**"
      ]
    },
    {
      "cell_type": "code",
      "metadata": {
        "id": "fLfkj_Y-Wbi5"
      },
      "source": [
        "def IntepolacionNewton(x, y, x_inter):                                            # Llamamos la funcion interpolaciónNewton y damos variables a utilizar\n",
        "  n = len(y)                                                                      # programar la tabla de forma automatica\n",
        "\n",
        "  dfd = [[None for x in range(n)] for x in range(n)]                              # Creamos una matriz con elementos vacios\n",
        "  yint = [None for x in range(n)]                                                             # Creamos un vector de elementos vacios\n",
        "  \n",
        "  for i in range(n):\n",
        "    dfd[i][0] = y[i]                                                              # Llenamos la primera columna con cada elemento del vector[i]\n",
        "\n",
        "  for j in range(1, n):\n",
        "    for i in range(n - j):\n",
        "      dfd[i][j] = (dfd[i + 1][j - 1]) - dfd[i][j - 1] / (x[i + j] - x[i])                                 # Calculamos las diferencias divididas\n",
        "\n",
        "  yint[0] = dfd[0][0]\n",
        "  xterm = 1\n",
        "  \n",
        "  for k in range(1, n):                                                         # Asignamos un contador de 1 hasta n\n",
        "     xterm - xterm * (x_inter - x[k - 1])\n",
        "     y_inter = yint[k - 1] + dfd[0][k] * xterm                                   # y_inter es el valor de la interpolación para x_inter\n",
        "     yint[k] = y_inter                                                           # Le asignamos al vector auxiliar yint[k] el valor de y_inter\n",
        "\n",
        "  return y_inter                                                                # Retornamos la salida\n",
        "\n",
        "\n",
        "     "
      ],
      "execution_count": null,
      "outputs": []
    },
    {
      "cell_type": "markdown",
      "metadata": {
        "id": "azVyCr7iIsNS"
      },
      "source": [
        "**Paso 3: Se llama la función para interpolar**"
      ]
    },
    {
      "cell_type": "code",
      "metadata": {
        "colab": {
          "base_uri": "https://localhost:8080/"
        },
        "id": "oPcP3wEXLnud",
        "outputId": "84532f3e-170e-4194-f44c-a8bb9ec8226f"
      },
      "source": [
        "fxn = print(IntepolacionNewton(x, y, x_inter))                                    # Se llama la funcion para imprimir resultado"
      ],
      "execution_count": null,
      "outputs": [
        {
          "output_type": "stream",
          "text": [
            "-8.99803549105251\n"
          ],
          "name": "stdout"
        }
      ]
    },
    {
      "cell_type": "markdown",
      "metadata": {
        "id": "XL59QO-CPwh1"
      },
      "source": [
        "**Paso 4: Se hace la gráfica del polinomio**"
      ]
    },
    {
      "cell_type": "code",
      "metadata": {
        "colab": {
          "base_uri": "https://localhost:8080/",
          "height": 312
        },
        "id": "birE5TKqQCQh",
        "outputId": "ebec1a9e-2057-4a30-fe60-048e9bc44624"
      },
      "source": [
        "x_v = np.arange(min(x), max(x), 0.01)                                             # Gráfica la interpolación\n",
        "y_v = []                                                                             # Crea una lista vacía\n",
        "\n",
        "for i in range(len(x_v)):                                                \n",
        "  y_grafica = IntepolacionNewton(x, y, x_v[i])                                   # Funcion para graficar la interpolación de Newton\n",
        "  y_v.append(y_grafica)\n",
        "\n",
        "fxn = IntepolacionNewton(x, y, x_inter)\n",
        "plt.scatter(x, y, color = \"blue\")                                                # Para darle color a los puntos\n",
        "plt.xlabel(\"x\")                                                                  # Se dan los valores de x\n",
        "plt.ylabel(\"y\")                                                                  # Se dan los valores de y\n",
        "plt.title(\"Interpolación de Newton\")                                             # Se da titulo a la gráfica\n",
        "plt.grid(True)\n",
        "plt.plot(x_v, y_v, 'r')\n",
        "plt.scatter(x_inter, fxn, color = 'g')\n",
        "\n"
      ],
      "execution_count": null,
      "outputs": [
        {
          "output_type": "execute_result",
          "data": {
            "text/plain": [
              "<matplotlib.collections.PathCollection at 0x7f5a4d59f310>"
            ]
          },
          "metadata": {
            "tags": []
          },
          "execution_count": 5
        },
        {
          "output_type": "display_data",
          "data": {
            "image/png": "[encoded data removed]",
            "text/plain": [
              "<Figure size 432x288 with 1 Axes>"
            ]
          },
          "metadata": {
            "tags": [],
            "needs_background": "light"
          }
        }
      ]
    },
    {
      "cell_type": "markdown",
      "metadata": {
        "id": "aJs96-xYbUzq"
      },
      "source": [
        "**Paso 5: Análisis de resultados**\n",
        "\n",
        "Después de saber el resultado de la Interpolación por el método de Newton se puede concluir que esta es negativa con un valor de -8.99"
      ]
    },
    {
      "cell_type": "markdown",
      "metadata": {
        "id": "BIS6F12BbkAY"
      },
      "source": [
        "# **Diferencias definidas de Lagrange**"
      ]
    },
    {
      "cell_type": "markdown",
      "metadata": {
        "id": "g_L2uMrxbwwk"
      },
      "source": [
        "**Paso 1: Definimos las entradas**"
      ]
    },
    {
      "cell_type": "code",
      "metadata": {
        "id": "cYg3xgDLb8lD"
      },
      "source": [
        "import matplotlib.pyplot as plt                                                   # Función para gráficar\n",
        "import numpy as np                                                                #\n",
        "x = [-11, -7, 5, 7, 8, 12]                                                        # Valores asignados para variable x\n",
        "y = [-7, 2, -3, 1, 4, -5]                                                         # Valores asignados para variable y\n",
        "x_inter = 7                                                                       # Valor de la interpolación\n",
        "# x_inter = float(input(\"Ingrese el valor de x donde se desee interporlar\"))\n"
      ],
      "execution_count": null,
      "outputs": []
    },
    {
      "cell_type": "markdown",
      "metadata": {
        "id": "SlcYFr0BcM0X"
      },
      "source": [
        "**Paso 2: Se define la funcion de interpolación de Lagrange**"
      ]
    },
    {
      "cell_type": "code",
      "metadata": {
        "id": "zu-F6MW-caKl"
      },
      "source": [
        "def InterpolacionLagrange(x, y, x_inter):                                         # Llamamos la funcion interpolaciónNewton y damos variables a utilizar\n",
        "  n = len(x)                                                                      # programar la tabla de forma automatica\n",
        "  suma = 0\n",
        "\n",
        "  for i in range(n):                                                              # para i hasta n haga\n",
        "    producto = y[i]                                                               # producto es igual a y[i]\n",
        "    for j in range(n):                                                            # para j hasta n\n",
        "      if i != j:                                                                  # si i es diferente de j \n",
        "       producto = producto * (x_inter - x[j]) / (x[i] * x[j])                     # calculamos las diferencias divididas\n",
        "\n",
        "    suma = suma + producto                                                        # suma es igual a suma + producto\n",
        "  y_inter = suma                                                                  # y_inter es igual a suma\n",
        "\n",
        "  return y_inter                                                                  # Retornamos la salida\n",
        "\n"
      ],
      "execution_count": null,
      "outputs": []
    },
    {
      "cell_type": "markdown",
      "metadata": {
        "id": "SerFjREpkGRr"
      },
      "source": [
        "**Paso 3: Se llama la función para interpolar**"
      ]
    },
    {
      "cell_type": "code",
      "metadata": {
        "colab": {
          "base_uri": "https://localhost:8080/"
        },
        "id": "TA6IrpOvkTnY",
        "outputId": "7760ac7e-d9e5-4338-f3f4-bad21467aa86"
      },
      "source": [
        "fxn = print(InterpolacionLagrange(x, y, x_inter))                                    # Se llama la funcion para imprimir resultado"
      ],
      "execution_count": null,
      "outputs": [
        {
          "output_type": "stream",
          "text": [
            "4.056751245422632e-06\n"
          ],
          "name": "stdout"
        }
      ]
    },
    {
      "cell_type": "markdown",
      "metadata": {
        "id": "Yp9Uj7k1lYVt"
      },
      "source": [
        "**Paso 4: Se hace la gráfica**"
      ]
    },
    {
      "cell_type": "code",
      "metadata": {
        "colab": {
          "base_uri": "https://localhost:8080/",
          "height": 312
        },
        "id": "IaTRqwv7lfDV",
        "outputId": "b0f02e50-d460-4e50-aaad-e63a5d1d0ee2"
      },
      "source": [
        "x_v = np.arange(min(x), max(x), 0.01)                                             # Gráfica la interpolación\n",
        "y_v = []                                                                             # Crea una lista vacía\n",
        "\n",
        "for i in range(len(x_v)):\n",
        "  y_grafica = InterpolacionLagrange(x, y, x_v[i])\n",
        "  y_v.append(y_grafica)\n",
        "\n",
        "fxn = InterpolacionLagrange(x, y, x_inter)\n",
        "plt.scatter(x, y, color = \"blue\")                                                   # Para darle color a los puntos\n",
        "plt.xlabel(\"x\")\n",
        "plt.ylabel(\"y\")\n",
        "plt.title(\"Interpolación de Lagrange\")\n",
        "plt.grid(True)\n",
        "plt.plot(x_v, y_v, 'r')\n",
        "plt.scatter(x_inter, fxn, color = 'g')\n"
      ],
      "execution_count": null,
      "outputs": [
        {
          "output_type": "execute_result",
          "data": {
            "text/plain": [
              "<matplotlib.collections.PathCollection at 0x7f520c5ffb10>"
            ]
          },
          "metadata": {
            "tags": []
          },
          "execution_count": 9
        },
        {
          "output_type": "display_data",
          "data": {
            "image/png": "[encoded data removed]",
            "text/plain": [
              "<Figure size 432x288 with 1 Axes>"
            ]
          },
          "metadata": {
            "tags": [],
            "needs_background": "light"
          }
        }
      ]
    },
    {
      "cell_type": "markdown",
      "metadata": {
        "id": "cZRnUPC3nk9t"
      },
      "source": [
        "**Paso 5: Análisis de resultados**\n",
        "\n",
        "Al realizar la interpolación solicitada por el método de Lagrange el resultado es positivo obteniendo un valor de 4.0"
      ]
    },
    {
      "cell_type": "markdown",
      "metadata": {
        "id": "JtAxy8UunvC1"
      },
      "source": [
        "# **Interpolación con trazadores cúbicos**"
      ]
    },
    {
      "cell_type": "markdown",
      "metadata": {
        "id": "k8dhod3foMg0"
      },
      "source": [
        "**Paso 1: Definimos las entradas**"
      ]
    },
    {
      "cell_type": "code",
      "metadata": {
        "id": "_MywF-AOofHR"
      },
      "source": [
        "import numpy as np\n",
        "import sympy as sym\n",
        "import pandas as pd\n",
        "import matplotlib.pyplot as plt\n",
        "                                                                #\n",
        "x = [-11, -7, 5, 7, 8, 12]                                                        # Valores asignados para variable x\n",
        "y = [-7, 2, -3, 1, 4, -5]                                                         # Valores asignados para variable y\n",
        "x_inter = 7                                                                       # Valor de la interpolación\n",
        "n = len(x)\n",
        "\n",
        "h = np.zeros([n - 1])\n",
        "A = np.zeros([n - 2, n - 2]); B = np.zeros([n - 2]); s = np.zeros([n])\n",
        "a = np.zeros([n - 1]); b = np.zeros([n - 1]); c = np.zeros([n - 1]); d = np.zeros([n - 1])\n"
      ],
      "execution_count": null,
      "outputs": []
    },
    {
      "cell_type": "markdown",
      "metadata": {
        "id": "4EX030_Ss_gl"
      },
      "source": [
        "**Paso 2: Definir el método de interpolación por trazadores cúbicos**"
      ]
    },
    {
      "cell_type": "code",
      "metadata": {
        "id": "OVJSTo12tTsg"
      },
      "source": [
        "def InterpolacionTrazados(x, y, x_inter, n, h, A, a):\n",
        "  if n < 3:\n",
        "    T = []\n",
        "\n",
        "  for i in range(n-1):\n",
        "      h[i]=x[i+1]-[i]\n",
        "  A[0,0]=2*(h[0]+h[1])\n",
        "  A[0,1]=h[1]\n",
        "  B[0] = 6 ((y[2] - y[1]) / h[1] - (y[i] - y[0])/ h[0])\n",
        "  for i in range(1, n-3):\n",
        "      A[i, i - 1] = h[i]\n",
        "      A[i, i] = 2 * (h[i + 1])\n",
        "      A[i, i + 1] = h[i + 1]\n",
        "      B[i] = 6 * ((y[i + 2] - y[i + 1]) / h[i + 1] - (y[i + 1] - y[i]) / h[i])\n",
        "  A[n - 3, n - 4] = h[n - 3]\n",
        "  A[n - 3, n - 3] = 2 * (h[n - 3] + h[n - 2])\n",
        "  B[n - 3] = 6 * ((y[n -1] - y[n - 2]) / h[n - 2] - (y[n - 2] - y[n - 3]) / h[n -3])\n",
        "  r = np.linalg.solve(A, B)\n",
        "\n",
        "  for i in range(1, n - 1):\n",
        "    S[i] = r[i + 1]\n",
        "  S[0] = 0\n",
        "  S[n - 1] = 0\n",
        "\n",
        "  for i in range(n - 1):\n",
        "      a[i] = (s[i + 1] - s[i]) / (6 * h[i])\n",
        "      b[i] = s[i] / 2\n",
        "      c[i] = (y[i + 1] - y[i]) / h[i] - (2 * h[i] * s[i] + h[i] * s[i + 1]) / 6\n",
        "      d[i] = y[i]\n",
        "\n",
        "  try:\n",
        "    if len(x_inter) == 0:\n",
        "        pass\n",
        "  \n",
        "  except TypeError:\n",
        "       x_inter = [x_inter]\n",
        "  \n",
        "  if len(x_inter) == 0:\n",
        "      t = symbol('t')\n",
        "      T = []\n",
        "      for i in range(n - 1):\n",
        "          p=expand(a[i]*(t -x[i])**3 +b[i]*(t-x[i])**2+c[i]*(t-x[i])+d[i])\n",
        "          T=T+[p]\n",
        "\n",
        "  else:\n",
        "      m = len(x_inter)\n",
        "      y_inter = np.zeros([m])\n",
        "      for k in range(m):\n",
        "          t = x_inter[k]\n",
        "          for i in range(n - 1):\n",
        "              if t >= x[i] and t <= x[i + 1]:\n",
        "                   y_inter[k] = a[i] * (t - x[i]) ** 3 + b[i] * (t - x[i]) ** 2 + c[i] * (t - x[i]) + d[i]\n",
        "\n",
        "          if m > 2:\n",
        "             k = m - 1\n",
        "             i = n - 2\n",
        "             y_inter[k] = a[i] * (t - x[i]) ** 3 + b[i] * (t - x[i]) ** 2 + c[i] * (t - x[i]) + d[i]\n",
        "\n",
        "  return y_inter \n"
      ],
      "execution_count": null,
      "outputs": []
    },
    {
      "cell_type": "markdown",
      "metadata": {
        "id": "VYFa3ZPpvQUV"
      },
      "source": [
        "**Paso 3: Se llama la función para interpolar**"
      ]
    },
    {
      "cell_type": "code",
      "metadata": {
        "id": "oxJNO73wveVA"
      },
      "source": [
        "fx = InterpolacionTrazados(x, y, x_inter, n, h, A, a)"
      ],
      "execution_count": null,
      "outputs": []
    },
    {
      "cell_type": "markdown",
      "metadata": {
        "id": "i0fM_NmY0ZKd"
      },
      "source": [
        "**Paso 4: Gráficamos el polinomio**\n"
      ]
    },
    {
      "cell_type": "code",
      "metadata": {
        "id": "KM6OIqMg0mCE"
      },
      "source": [
        "x_v = np.arange(min(x), max(x), 0.01)                                             # Gráfica la interpolación\n",
        "y_v = []                                                                             # Crea una lista vacía\n",
        "\n",
        "for i in range(len(x_v)):\n",
        "  y_grafica = InterpolacionTrazados(x, y, x_v[i], n, h, A, a)\n",
        "  y_v.append(y_grafica)\n",
        "\n",
        "fxn = InterpolacionTrazados(x, y, x_inter)\n",
        "plt.scatter(x, y, color = \"blue\")\n",
        "plt.xlabel(\"x\")\n",
        "plt.ylabel(\"y\")\n",
        "plt.title(\"Interpolación de Trazados\")\n",
        "plt.grid(True)\n",
        "plt.plot(x_v, y_v, 'r')\n",
        "plt.scatter(x_inter, fxn, color = 'g')\n"
      ],
      "execution_count": null,
      "outputs": []
    },
    {
      "cell_type": "markdown",
      "metadata": {
        "id": "BFZWy3YLniUx"
      },
      "source": [
        "**Bibliografía**\n",
        "\n",
        "* Canale, R. P. y P. Canale, R. (2007). Métodos numéricos para \n",
        "ingenieros (5a. ed.). México D.F, México: McGraw-Hill \n",
        "Interamericana. (pp. 503 – 522 y 525 – 536). \n",
        "\n",
        "* Chapra 18.1.3 p508 pdf532, Rodriguez 6.7 p223, Burden 9Ed 3.3 p124."
      ]
    }
  ]
}