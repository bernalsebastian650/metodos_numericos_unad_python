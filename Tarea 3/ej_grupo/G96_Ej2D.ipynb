{
  "nbformat": 4,
  "nbformat_minor": 0,
  "metadata": {
    "colab": {
      "name": "G96_Alexandra_Vargas_Vargas_Ej2D.ipynb",
      "provenance": [],
      "collapsed_sections": []
    },
    "kernelspec": {
      "name": "python3",
      "display_name": "Python 3"
    },
    "language_info": {
      "name": "python"
    }
  },
  "cells": [
    {
      "cell_type": "markdown",
      "metadata": {
        "id": "Tbk_PBqVB-9N"
      },
      "source": [
        "# **Unidad 2 - Tarea  3:  Sistema de Ecuaciones Lineales, Regresión lineal e Interpolación**\n"
      ]
    },
    {
      "cell_type": "markdown",
      "metadata": {
        "id": "ZzK45Kq0P_Wn"
      },
      "source": [
        "\n",
        "# **EJERCICIO  2: Regresión lineal**"
      ]
    },
    {
      "cell_type": "markdown",
      "metadata": {
        "id": "XXMAPi1EQAPW"
      },
      "source": [
        "#Descripción del ejercicio:#\n",
        "##**D:** Los siguientes datos muestran los reportes anuales de una empresa en cuanto a ventas e inversión en publicidad (en millones de pesos) durante los primeros 8 años. Se ha observado que las ventas aumentan de forma lineal con el aumento de la inversión en publicidad. Los datos son: \n",
        "![img.PNG](data:image/png;base64,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)\n",
        "\n",
        "\n",
        " \n"
      ]
    },
    {
      "cell_type": "markdown",
      "metadata": {
        "id": "AzQmlagNaSzF"
      },
      "source": [
        "Realice un programa en Python empleando Google Colab que: \n",
        "* Ajuste los datos a una línea recta empleando el método de los mínimos cuadrados, realizando una descripción teórica detallada.\n",
        "* Calcule la pendiente y la intersección, así como el error estándar y el coeficiente de correlación. \n",
        "* Realice una gráfica en donde se muestren los datos originales y la recta que ajusta.\n",
        "* Haga un análisis de resultados basándose en la teoría y en los resultados obtenidos. Debe incluir referencias a la bibliografía empleada usando las normas APA. Comentarios sin referencias no serán tenidos en cuenta. \n",
        "* Para cada método haga una descripción teórica (las ecuaciones deberán estar escritas en LaTeX) incluyendo referencias bibliográficas empleadas siguiendo las normas APA. \n",
        " "
      ]
    },
    {
      "cell_type": "markdown",
      "metadata": {
        "id": "uNj01qC7J_JB"
      },
      "source": [
        "#**REGRESIÓN LINEAL**\n",
        "\n",
        "La regresión lineal es un campo de estudio que enfatiza la relación estadística entre dos variables continuas conocidas como variables de predicción y respuesta . (Nota: cuando hay más de una variable predictora, se convierte en regresión lineal múltiple).\n",
        "\n",
        "* La variable predictora se denota con mayor frecuencia como x y también se conoce como variable independiente.\n",
        "* La variable de respuesta se denota con mayor frecuencia como y y también se conoce como variable dependiente.\n",
        "\n",
        "sitiobigdata.com. (Octubre 25, 2019). ¿Qué es la regresión lineal? Parte 1 https://sitiobigdata.com/2019/10/25/que-es-la-regresion-lineal/#"
      ]
    },
    {
      "cell_type": "markdown",
      "metadata": {
        "id": "fDHHof8WB_MZ"
      },
      "source": [
        "#**$$DESARROLLO$$**"
      ]
    },
    {
      "cell_type": "markdown",
      "metadata": {
        "id": "eWaGDcZJeEeh"
      },
      "source": [
        "#**PASO 1 : Importar librerías** "
      ]
    },
    {
      "cell_type": "code",
      "metadata": {
        "id": "5jqkQegQfFVE"
      },
      "source": [
        "import numpy as np\n",
        "import matplotlib.pyplot as plt"
      ],
      "execution_count": null,
      "outputs": []
    },
    {
      "cell_type": "markdown",
      "metadata": {
        "id": "P11ZgH6zfJvP"
      },
      "source": [
        "#**PASO 2 : Crear la función** \n",
        "\n",
        "\n"
      ]
    },
    {
      "cell_type": "code",
      "metadata": {
        "id": "JReGHHHmfg9C"
      },
      "source": [
        "def regress (a,b,n):                             # Llamamos la función regresión y asignanmos variables\n",
        "\n",
        "  sumx = 0                                       # Suma de los valores de la publicidad \n",
        "  sumxy = 0                                      # Suma de los valores de la publicidad multiplicado  por la suma de los valores de las ventas \n",
        "  st = 0                                         # Suma total de los cuadrados de las diferencias entre los datos y el promedio en y st = Σ(yi - promy)\n",
        "  sumy = 0                                       # Suma de los valores de las ventas \n",
        "  sumx2 = 0                                      # Suma de los valores de la publicidad elevados al cuadrado\n",
        "  sr = 0                                         # Sumas residuales r2 = (st -sr) / st\n",
        "   \n",
        "  for i in range(n):                                 # para i en el rango n haga:\n",
        "      sumx = sumx + x[i]                             # La suma de publicidad es iguala a sumx igual a sumx + x[i] \n",
        "      sumy = sumy + y[i]                             # La suma de ventas es igual a sumy igual a sumy + y[i] \n",
        "      sumxy = sumxy + x[i] * y[i]                    # La suma de publicidad por ventas es igual a sumxy igual sumxy + x[i]  * y[i] \n",
        "      sumx2 = sumx2 + x[i] * x[i]                    # La suma de publicidad al cuadrado es igual a sumx2 igual sumx2 + x[i]  * x[i] \n",
        " \n",
        "  promx = sumx / n                                   # Promedio de publicidad es igual a promx igual a sumx / n\n",
        "  promy = sumy / n                                   # Promedio de ventas es igual a promy igual a sumy / n\n",
        "  a1 = (n * sumxy - sumx * sumy)                 # Ecuación para hallar la pendiente(tomado de shapra)\n",
        "  a0 = promy - a1 * promx                        # Ecuación para hallar el intercepto(tomado de shapra)\n",
        "\n",
        "  for i in range(n):                                  # Para i en el rango de n haga:\n",
        "      st = st + (y[i] - promy) ** 2\n",
        "      sr = sr + (y[i] - a1 * x[i] - a0) ** 2     #  Ecuación para hallar las sumas residuales(tomado de shapra)\n",
        "\n",
        "      syx = (sr / (n - 2)) ** 0.5                # Ecuación para hallar el error estándar(tomado de shapra)\n",
        "      r2 = (st - sr) / st                        # Ecuación para hallar el coeficiente de relación(tomado de shapra)\n",
        "  \n",
        "  return a1, a0, syx, r2\n"
      ],
      "execution_count": null,
      "outputs": []
    },
    {
      "cell_type": "markdown",
      "metadata": {
        "id": "R5uiigYWwcX2"
      },
      "source": [
        "#**PASO 3 : Ingreso de los datos** \n",
        "\n"
      ]
    },
    {
      "cell_type": "code",
      "metadata": {
        "id": "MDpUL3bswtDS"
      },
      "source": [
        "n = 8\n",
        "x = [40, 43, 45, 50, 52, 56, 60, 61]\n",
        "y = [450, 380, 540, 500, 600, 560, 600, 700]"
      ],
      "execution_count": null,
      "outputs": []
    },
    {
      "cell_type": "markdown",
      "metadata": {
        "id": "dLr-_O4Pys6f"
      },
      "source": [
        "#**PASO 4 : Imprimir los datos solicitados** "
      ]
    },
    {
      "cell_type": "code",
      "metadata": {
        "colab": {
          "base_uri": "https://localhost:8080/"
        },
        "id": "pUSNlC2ay50u",
        "outputId": "0258eb1a-5fc3-4e64-a55b-5ac8d5880674"
      },
      "source": [
        "a1, a0, syx, r2 = regress (x,y,n)\n",
        "print(\"a1:\", a1)\n",
        "print(\"a0:\", a0)\n",
        "print(\"syx:\", syx)\n",
        "print(\"r2:\", r2)"
      ],
      "execution_count": null,
      "outputs": [
        {
          "output_type": "stream",
          "text": [
            "a1: 36890\n",
            "a0: -1876237.5\n",
            "syx: 311796.90835275024\n",
            "r2: -8516938.183792664\n"
          ],
          "name": "stdout"
        }
      ]
    },
    {
      "cell_type": "markdown",
      "metadata": {
        "id": "56yeyLjGzzTJ"
      },
      "source": [
        "## DATOS:\n",
        "\n",
        "* Pendiente: 36890\n",
        "* Intersección: -1876237.5\n",
        "* Error estándar: 311796.90835275024\n",
        "* Coeficiente de correlación: -8516938.183792664"
      ]
    },
    {
      "cell_type": "markdown",
      "metadata": {
        "id": "LoAhVWm82hrX"
      },
      "source": [
        "#**PASO 5 : Crear la línea que se ajusta a los datos** \n"
      ]
    },
    {
      "cell_type": "code",
      "metadata": {
        "colab": {
          "base_uri": "https://localhost:8080/"
        },
        "id": "g10jYLHQ2_sM",
        "outputId": "15e60da6-1962-4190-d795-4191d20d046d"
      },
      "source": [
        "t = np.poly1d([a1, a0])                               # y = a1x + a0\n",
        "print(t)"
      ],
      "execution_count": null,
      "outputs": [
        {
          "output_type": "stream",
          "text": [
            " \n",
            "3.689e+04 x - 1.876e+06\n"
          ],
          "name": "stdout"
        }
      ]
    },
    {
      "cell_type": "markdown",
      "metadata": {
        "id": "mcShmQhl3ULs"
      },
      "source": [
        "### $y=3.689e+04 x - 1.876e+06 + e$\n",
        "\n"
      ]
    },
    {
      "cell_type": "markdown",
      "metadata": {
        "id": "PPiIgdd_3g1x"
      },
      "source": [
        "#**PASO 6 : Crear la nube de puntos** "
      ]
    },
    {
      "cell_type": "code",
      "metadata": {
        "colab": {
          "base_uri": "https://localhost:8080/",
          "height": 295
        },
        "id": "KraW0Fzf4MRB",
        "outputId": "921c88d1-596c-4842-bfa4-c794ae6eed26"
      },
      "source": [
        "x = np.array([40, 43, 45, 50, 52, 56, 60, 61])\n",
        "y = np.array([450, 380, 540, 500, 600, 560, 600, 700])\n",
        "plt.plot(x, y,\"*\")\n",
        "plt.xlabel('Publicidad')\n",
        "plt.ylabel('Ventas')\n",
        "plt.title('NUBE DE PUNTOS')\n",
        "plt.grid()\n",
        "plt.show()"
      ],
      "execution_count": null,
      "outputs": [
        {
          "output_type": "display_data",
          "data": {
            "image/png": "[encoded data removed]",
            "text/plain": [
              "<Figure size 432x288 with 1 Axes>"
            ]
          },
          "metadata": {
            "tags": [],
            "needs_background": "light"
          }
        }
      ]
    },
    {
      "cell_type": "markdown",
      "metadata": {
        "id": "gvzHlu_I6U_U"
      },
      "source": [
        "#**PASO 7 : Creación de la gráfica** "
      ]
    },
    {
      "cell_type": "code",
      "metadata": {
        "colab": {
          "base_uri": "https://localhost:8080/",
          "height": 295
        },
        "id": "Yn2fc5MU6mFY",
        "outputId": "0ca03c84-7baf-41ee-a52f-193dcad3fe63"
      },
      "source": [
        "xi = [40, 43, 45, 50, 52, 56, 60, 61]\n",
        "yi = [450, 380, 540, 500, 600, 560, 600, 700]\n",
        "plt.plot(xi, yi, \"*\", label = 'Datos')\n",
        "plt.plot(x, a1*x + a0, label = 'Ajuste')\n",
        "plt.xlabel('Publicidad')\n",
        "plt.ylabel('Ventas')\n",
        "plt.title('AJUSTE DE CURVAS')\n",
        "plt.grid()\n",
        "plt.legend(loc = 4)\n",
        "plt.show()"
      ],
      "execution_count": null,
      "outputs": [
        {
          "output_type": "display_data",
          "data": {
            "image/png": "[encoded data removed]",
            "text/plain": [
              "<Figure size 432x288 with 1 Axes>"
            ]
          },
          "metadata": {
            "tags": [],
            "needs_background": "light"
          }
        }
      ]
    },
    {
      "cell_type": "markdown",
      "metadata": {
        "id": "jNZDWAubEm8j"
      },
      "source": [
        "##**Análisis de resultados**\n",
        "\n",
        "Según los datos que nos muestran los reportes anuales de una empresa en cuanto a ventas e inversión en publicidad (en millones de pesos) durante los primeros 8 años observamos que las ventas aumentan de forma lineal con el aumento de la inversión en publicidad, el pronóstico de regresión lineal  es un modelo óptimo para patrones de demanda con tendencia (creciente o decreciente), Cresiente en este caso es decir, patrones que presenten una relación de linealidad entre la publicidad y las ventas.\n",
        " "
      ]
    },
    {
      "cell_type": "markdown",
      "metadata": {
        "id": "1sjE77muUIiN"
      },
      "source": [
        "##**Bibliografía**\n",
        "\n",
        "* Canale, R. P. y P. Canale, R. (2007). Métodos numéricos para ingenieros (5a. ed.). México D.F, México: McGraw-Hill Interamericana. (pp. 451 – 456, 466 – 477).\n",
        "* Monsalve Gómez, Zoraida(2021). Cipas Regresión Líneal. https://www.youtube.com/watch?v=NJNf0hssz74\n",
        "* sitiobigdata.com. (Octubre 25, 2019). ¿Qué es la regresión lineal? Parte 1 https://sitiobigdata.com/2019/10/25/que-es-la-regresion-lineal/#\n"
      ]
    }
  ]
}