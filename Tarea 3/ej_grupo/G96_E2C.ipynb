{
  "nbformat": 4,
  "nbformat_minor": 0,
  "metadata": {
    "colab": {
      "name": "G96_Omar Hernando Rojas García_E2C.ipynb",
      "provenance": [],
      "collapsed_sections": []
    },
    "kernelspec": {
      "name": "python3",
      "display_name": "Python 3"
    },
    "language_info": {
      "name": "python"
    }
  },
  "cells": [
    {
      "cell_type": "markdown",
      "metadata": {
        "id": "8TI5I63J4scP"
      },
      "source": [
        "#**REGRESIÓN LINEAL**\n",
        "\n",
        "Es cuando la función es lineal, es decir, requiere la determinación de dos parámetros: la pendiente y la ordenada en el origen de la recta de regresión, y=ax+b."
      ]
    },
    {
      "cell_type": "markdown",
      "metadata": {
        "id": "XOIrcDzn5I31"
      },
      "source": [
        "**Ejercicio 2: Regresión líneal**\n",
        "\n",
        "C : Se realizó un experimento con un fluido al que se le transfirió calor de forma constante. La temperatura se tomó cada dos minutos durante los primeros 14 minutos. La siguiente tabla resume los resultados obtenidos, y se observa que la temperatura aumenta de forma lineal."
      ]
    },
    {
      "cell_type": "markdown",
      "metadata": {
        "id": "YQ2XQh7f7dKs"
      },
      "source": [
        "![image.png](data:image/png;base64,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)"
      ]
    },
    {
      "cell_type": "markdown",
      "metadata": {
        "id": "gH2TbNMqA2LY"
      },
      "source": [
        "Realice un programa en Python empleando Google Colab que:\n",
        "* Ajuste los datos a una línea recta empleando el método de los\n",
        "mínimos cuadrados, realizando una descripción teórica detallada.\n",
        "* Calcule la pendiente y la intersección, así como el error estándar y el coeficiente de correlación.\n",
        "* Realice una gráfica en donde se muestren los datos originales y la recta que ajusta.\n",
        "* Haga un análisis de resultados basándose en la teoría y en los resultados obtenidos. Debe incluir referencias a la bibliografía empleada usando las normas APA. Comentarios sin referencias no serán tenidos en cuenta.\n",
        "* Para cada método haga una descripción teórica (las ecuaciones\n",
        "deberán estar escritas en LaTeX) incluyendo referencias\n",
        "bibliográficas empleadas siguiendo las normas APA."
      ]
    },
    {
      "cell_type": "markdown",
      "metadata": {
        "id": "7CNDAPJ_7xoC"
      },
      "source": [
        "# $$ **DESARROLLO** $$"
      ]
    },
    {
      "cell_type": "markdown",
      "metadata": {
        "id": "GMseVT6n8CsA"
      },
      "source": [
        "PASO 1: Se crea la función."
      ]
    },
    {
      "cell_type": "code",
      "metadata": {
        "id": "ziGp1seFLNXB"
      },
      "source": [
        "import numpy as np\n",
        "import matplotlib.pyplot as plt\n",
        "\n",
        "def regress(a, b, n):                             # Llamamos la función regresión y asignanmos variables\n",
        "\n",
        "  \n",
        "\n",
        "  suma = 0                                      # Suma de los valores del tiempo\n",
        "  sumb = 0                                      # Suma de los valores del tiempo multiplicado  por la suma de los valores de la temperatura\n",
        "  st = 0                                        # Suma total de los cuadrados de las diferencias entre los datos y el promedio en b st = Σ(bi - promb)\n",
        "  sumab = 0                                       # Suma de los valores de la temperatura\n",
        "  suma2 = 0                                     # Suma de los valores de los tiempos elevados al cuadrado\n",
        "  sr = 0                                         # Sumas residuales r2 = (st -sr) / st\n",
        " \n",
        "  \n",
        "  for i in range(n):                             # para i en el rango n haga:\n",
        "      suma = suma + a[i]                        # suma igual a suma + a iterado\n",
        "      sumb = sumb + b[i]                     # sumb igual a sumb + b iterado\n",
        "      sumab = sumab + a[i] * b[i]               # sumab igual sumab + a iterado * b iterado\n",
        "      suma2 = suma2 + a[i] * a[i]               # suma2 igual suma2 + a iterado * a iterado\n",
        "\n",
        "      \n",
        "  \n",
        "  proma = suma / n                               # proma igual a suma / n\n",
        "  promb = sumb / n                             # promb igual a sumb / n\n",
        "  a1 = (n * sumab - suma * sumb) / (n * suma2 - suma * suma)                 # Ecuación para hallar la pendiente(tomado de shapra)\n",
        "  a0 = promb - a1 * proma                      # Ecuación para hallar el intercepto(tomado de shapra)\n",
        "\n",
        "  for i in range(n):                            # Para i en el rango de n haga:\n",
        "      st = st + (b[i] - promb) ** 2\n",
        "      sr = sr + (b[i] - a1 * a[i] - a0) ** 2     #  Ecuación para hallar las sumas residuales(tomado de shapra)\n",
        "\n",
        "      sba = (sr / (n - 2)) ** 0.5                # Ecuación para hallar el error estándar(tomado de shapra)\n",
        "      r2 = (st - sr) / st                        # Ecuación para hallar el coeficiente de relación(tomado de shapra)\n",
        "  \n",
        "  return a1, a0, sba, r2\n",
        "\n",
        "\n",
        "    "
      ],
      "execution_count": 1,
      "outputs": []
    },
    {
      "cell_type": "markdown",
      "metadata": {
        "id": "Jt05yWUFa2vc"
      },
      "source": [
        "PASO 2 : Ingreso de datos"
      ]
    },
    {
      "cell_type": "code",
      "metadata": {
        "id": "IG7VJXSNa84M"
      },
      "source": [
        "n = 8\n",
        "a = [0, 2, 4, 6, 8, 10, 12, 14]\n",
        "b = [25, 28.1, 35.2, 36.2, 41.3, 42.1, 47.9, 54.2]"
      ],
      "execution_count": 2,
      "outputs": []
    },
    {
      "cell_type": "markdown",
      "metadata": {
        "id": "jioPsff4cdBY"
      },
      "source": [
        "PASO 3: Imprimir los datos solicitados"
      ]
    },
    {
      "cell_type": "code",
      "metadata": {
        "colab": {
          "base_uri": "https://localhost:8080/"
        },
        "id": "uL-Uo6hFhpsu",
        "outputId": "9fce8902-b099-431d-c0ea-7b11baacc2f5"
      },
      "source": [
        "a1, a0, sba, r2 = regress(a, b, n)\n",
        "print(\"a1:\", a1)\n",
        "print(\"a0:\", a0)\n",
        "print(\"sba\", sba)\n",
        "print(\"r2\", r2)"
      ],
      "execution_count": 3,
      "outputs": [
        {
          "output_type": "stream",
          "text": [
            "a1: 1.9595238095238083\n",
            "a0: 25.033333333333342\n",
            "sba 1.666571425850185\n",
            "r2 0.9748167529471364\n"
          ],
          "name": "stdout"
        }
      ]
    },
    {
      "cell_type": "markdown",
      "metadata": {
        "id": "HPX507EyumU1"
      },
      "source": [
        "# DATOS:\n",
        "\n",
        "* Pendiente: 1.9595238095238083\n",
        "* Intersección: 25.033333333333342\n",
        "* Error estándar: 1.666571425850185\n",
        "* Coeficiente de correlación: 0.9748167529471364"
      ]
    },
    {
      "cell_type": "markdown",
      "metadata": {
        "id": "eBG1uYWKyHwR"
      },
      "source": [
        "# Crear la línea que se ajusta a los datos."
      ]
    },
    {
      "cell_type": "code",
      "metadata": {
        "id": "tqC8rWltyrvA",
        "colab": {
          "base_uri": "https://localhost:8080/"
        },
        "outputId": "7237d8a8-a812-4d0a-8e5b-58f7a69a3625"
      },
      "source": [
        "t = np.poly1d([a1, a0])                               # y = a1x + a0\n",
        "print(t)\n"
      ],
      "execution_count": 4,
      "outputs": [
        {
          "output_type": "stream",
          "text": [
            " \n",
            "1.96 x + 25.03\n"
          ],
          "name": "stdout"
        }
      ]
    },
    {
      "cell_type": "markdown",
      "metadata": {
        "id": "ZZs2P5840bfg"
      },
      "source": [
        "y = 1.96 x + 25.03 + *e*"
      ]
    },
    {
      "cell_type": "markdown",
      "metadata": {
        "id": "j6iozR4M2q14"
      },
      "source": [
        "PASO 4: Crear la nube de datos"
      ]
    },
    {
      "cell_type": "code",
      "metadata": {
        "id": "8KlsY2_R4FWe",
        "colab": {
          "base_uri": "https://localhost:8080/",
          "height": 295
        },
        "outputId": "4104eb89-99e8-4f25-b5fb-f76d21be0cb7"
      },
      "source": [
        "a = np.array([0, 2, 4, 6, 8, 10, 12,14])\n",
        "b = np.array([25, 28.1, 35.2, 36.2, 41.3, 42.1, 47.9, 54.2])\n",
        "plt.plot(a, b,\"*\")\n",
        "plt.xlabel('Tiempo')\n",
        "plt.ylabel('Temperatura')\n",
        "plt.title('Nube de puntos')\n",
        "plt.grid()\n",
        "plt.show()\n"
      ],
      "execution_count": 5,
      "outputs": [
        {
          "output_type": "display_data",
          "data": {
            "image/png": "[encoded data removed]",
            "text/plain": [
              "<Figure size 432x288 with 1 Axes>"
            ]
          },
          "metadata": {
            "tags": [],
            "needs_background": "light"
          }
        }
      ]
    },
    {
      "cell_type": "markdown",
      "metadata": {
        "id": "d3nyDJF1592z"
      },
      "source": [
        "PASO 5: Creación de la gráfica\n"
      ]
    },
    {
      "cell_type": "markdown",
      "metadata": {
        "id": "6yG1kz9zACec"
      },
      "source": [
        "Análisis de resultados\n",
        "\n",
        "Luego de ingresar los datos obtenidos en cuanto a la temperatura aplicada por el tiempo durante los primeros 14 minutos, datos que fueron relacionados en la tabla inicial se concluye que la temperatura aumenta de forma líneal"
      ]
    },
    {
      "cell_type": "code",
      "metadata": {
        "id": "5C-NfCflfhGc",
        "colab": {
          "base_uri": "https://localhost:8080/",
          "height": 295
        },
        "outputId": "c1370eb7-d597-4c34-fc84-a042e8a3a6db"
      },
      "source": [
        "ai = [0, 2, 4, 6, 8, 10, 12, 14]\n",
        "bi = [25, 28.1, 35.2, 36.2, 41.3, 42.1, 47.9, 54.2]\n",
        "plt.plot(ai,bi,\".\",label='datos')\n",
        "plt.plot(a, a1*a + a0, label='ajuste')\n",
        "plt.xlabel('Tiempo')\n",
        "plt.ylabel('Temperatura')\n",
        "plt.title('Ajuste de curvas')\n",
        "plt.grid()\n",
        "plt.legend(loc = 4)\n",
        "plt.show()"
      ],
      "execution_count": 8,
      "outputs": [
        {
          "output_type": "display_data",
          "data": {
            "image/png": "[encoded data removed]",
            "text/plain": [
              "<Figure size 432x288 with 1 Axes>"
            ]
          },
          "metadata": {
            "tags": [],
            "needs_background": "light"
          }
        }
      ]
    },
    {
      "cell_type": "markdown",
      "metadata": {
        "id": "Q4a8aEYRAHsi"
      },
      "source": [
        "Bibliografía\n",
        "\n",
        "* Canale, R. P. y P. Canale, R. (2007). Métodos numéricos para\n",
        "ingenieros (5a. ed.). México D.F, México: McGraw-Hill\n",
        "Interamericana. (pp. 451 – 456, 466 – 477).\n",
        "* Monsalve Gómez, Zoraida(2021). Cipas Regresión Líneal. https://www.youtube.com/watch?v=NJNf0hssz74"
      ]
    }
  ]
}