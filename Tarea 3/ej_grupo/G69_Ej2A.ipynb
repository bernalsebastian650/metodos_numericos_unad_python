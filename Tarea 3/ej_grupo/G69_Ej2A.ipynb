{
  "nbformat": 4,
  "nbformat_minor": 0,
  "metadata": {
    "colab": {
      "name": "G69_Yeisson Borda_Ej2A.ipynb",
      "provenance": []
    },
    "kernelspec": {
      "name": "python3",
      "display_name": "Python 3"
    },
    "language_info": {
      "name": "python"
    }
  },
  "cells": [
    {
      "cell_type": "markdown",
      "metadata": {
        "id": "ZZGCRboaFiK0"
      },
      "source": [
        "#Ejercicio 2: Regresión lineal\n",
        "Descripción del ejercicio:A: Una empresa registra el total de sus ventas(millones de pesos)al final de cada año durante los 10 años que lleva en el mercado. Se ha observado que las ventas han crecido de forma lineal en este periodo de tiempo.\n",
        "![imagen.png](data:image/png;base64,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)\n",
        "\n",
        "\n",
        "La regresión nos permite además, determinar el grado de dependencia de las series de valores X e Y, prediciendo el valor y estimado que se obtendría para un valor x que no esté en la distribución.\n"
      ]
    },
    {
      "cell_type": "markdown",
      "metadata": {
        "id": "mJkSyqNXGP8Z"
      },
      "source": [
        "# Paso 1\n"
      ]
    },
    {
      "cell_type": "code",
      "metadata": {
        "id": "yyOa5jERH9sJ"
      },
      "source": [
        "import numpy as np\n",
        "import matplotlib.pyplot as plt\n",
        "\n",
        "def F_regresion(x, y, n):                # Definimos la función de la regresión             \n",
        "  sumax = 0                               # suma de valores de años       \n",
        "  sumaxy = 0                                 # Multiplcamos años X Ventas    \n",
        "  st = 0                                   # Suma total de los cuadrados     \n",
        "  sumay = 0                                # Suma de los valores de las ventas      \n",
        "  sumax2 = 0                                # Elevamos al cuadrado los valores de los años     \n",
        "  sr = 0        \n",
        "\n",
        "  for i in range(n):                             # Recorreoms los valores de i hasta n\n",
        "      sumax = sumax + x[i]                        # Igualamos las variables con las iteraciones\n",
        "      sumay = sumay + y[i]                      \n",
        "      sumaxy = sumaxy + x[i] * y[i]               \n",
        "      sumax2 = sumax2 + x[i] * x[i]               \n",
        "\n",
        "  promediox = sumax / n                            # Asignamos el promedio que es igual a los valores de años y ventas y se divide por el valor de entrada   \n",
        "  promedioy = sumay / n                             \n",
        "  a1 = (n * sumaxy - sumax * sumay) / (n * sumax2 - sumax * sumax)                \n",
        "  a0 = promedioy - a1 * promediox                      \n",
        "\n",
        "  for i in range(n):                            \n",
        "      st = st + (y[i] - promedioy) ** 2\n",
        "      sr = sr + (y[i] - a1 * x[i] - a0) ** 2     \n",
        "\n",
        "      syx = (sr / (n - 2)) ** 0.5                \n",
        "      r2 = (st - sr) / st                        \n",
        "  \n",
        "  return a1, a0, syx, r2\n"
      ],
      "execution_count": 24,
      "outputs": []
    },
    {
      "cell_type": "markdown",
      "metadata": {
        "id": "XTcPtebJOP9K"
      },
      "source": [
        "# Paso 2 Inicializar los datos \n",
        "Registramos los valores de entrada de la empresa durante los 10 años x= años, y = ventas "
      ]
    },
    {
      "cell_type": "code",
      "metadata": {
        "id": "55_ynBVdOVHO"
      },
      "source": [
        "n = 10\n",
        "x = [1, 2, 3, 4, 5, 6, 7, 8, 9, 10]\n",
        "y = [450, 380, 540, 500, 600, 560, 600, 700, 780, 670]"
      ],
      "execution_count": 27,
      "outputs": []
    },
    {
      "cell_type": "markdown",
      "metadata": {
        "id": "n3sFGWN0Oap0"
      },
      "source": [
        "# Paso 3 Imprimir Datos\n"
      ]
    },
    {
      "cell_type": "code",
      "metadata": {
        "colab": {
          "base_uri": "https://localhost:8080/"
        },
        "id": "sQDIFWFeOvUK",
        "outputId": "af8ad5a5-866d-4c2d-ea93-a2c59eb6e303"
      },
      "source": [
        "a1, a0, syx, r2 = F_regresion(x, y, n)\n",
        "print(\"Calculamos la  pendiente y la intersección, así como el error estándar y el coeficiente de correlación.\")\n",
        "print(\"Pendiente:\", a1)\n",
        "print(\"Intersección :\", a0)\n",
        "print(\"Error Estandar :\", syx)\n",
        "print(\"Coeficiente de correlación :\", r2)\n"
      ],
      "execution_count": 50,
      "outputs": [
        {
          "output_type": "stream",
          "text": [
            "Calculamos la  pendiente y la intersección, así como el error estándar y el coeficiente de correlación.\n",
            "Pendiente: 35.39393939393939\n",
            "Intersección : 383.33333333333337\n",
            "Error Estandar : 56.13565819701521\n",
            "Coeficiente de correlación : 0.8039071486489036\n"
          ],
          "name": "stdout"
        }
      ]
    },
    {
      "cell_type": "markdown",
      "metadata": {
        "id": "Yq22FjCLR6Ha"
      },
      "source": [
        "# Paso 4 Crear la linea que se ajusta a los datos "
      ]
    },
    {
      "cell_type": "code",
      "metadata": {
        "colab": {
          "base_uri": "https://localhost:8080/"
        },
        "id": "sQfdf8YZSyah",
        "outputId": "f5864c79-f5e2-4615-a03d-8811344deaa8"
      },
      "source": [
        "t= np.poly1d([a1,a0])\n",
        "print(\"y = \",t,\"+ e\")"
      ],
      "execution_count": 39,
      "outputs": [
        {
          "output_type": "stream",
          "text": [
            "y =   \n",
            "35.39 x + 383.3 + e\n"
          ],
          "name": "stdout"
        }
      ]
    },
    {
      "cell_type": "markdown",
      "metadata": {
        "id": "jJ_ZKehWUA3t"
      },
      "source": [
        "# Paso 5 Crear Nube de puntos"
      ]
    },
    {
      "cell_type": "code",
      "metadata": {
        "colab": {
          "base_uri": "https://localhost:8080/",
          "height": 295
        },
        "id": "XxthtC_VUKhq",
        "outputId": "02048575-7106-41e7-80b0-a80beb1a836e"
      },
      "source": [
        "x = np.array([1, 2, 3, 4, 5, 6, 7, 8, 9, 10])\n",
        "y = np.array([450, 380, 540, 500, 600, 560, 600, 700, 780, 670])\n",
        "plt.plot(x, y,\"*\")\n",
        "plt.xlabel('Años')\n",
        "plt.ylabel('Ventas $')\n",
        "plt.title('Nube de puntos')\n",
        "plt.grid()\n",
        "plt.show()\n"
      ],
      "execution_count": 46,
      "outputs": [
        {
          "output_type": "display_data",
          "data": {
            "image/png": "[encoded data removed]",
            "text/plain": [
              "<Figure size 432x288 with 1 Axes>"
            ]
          },
          "metadata": {
            "tags": [],
            "needs_background": "light"
          }
        }
      ]
    },
    {
      "cell_type": "markdown",
      "metadata": {
        "id": "9HfbaVYGUwJd"
      },
      "source": [
        "# Paso 5 Generar Grafica"
      ]
    },
    {
      "cell_type": "code",
      "metadata": {
        "colab": {
          "base_uri": "https://localhost:8080/",
          "height": 295
        },
        "id": "mVaJWealU045",
        "outputId": "bdf1caf4-33c1-4b14-fdf8-d00a08b6d44a"
      },
      "source": [
        "xi = [1, 2, 3, 4, 5, 6, 7, 8, 9, 10]\n",
        "yi = [450, 380, 540, 500, 600, 560, 600, 700, 780, 670]\n",
        "plt.plot(xi,yi,\"*\",label='Datos')\n",
        "plt.plot(x, a1*x + a0, label='Ajuste')\n",
        "plt.xlabel('Años')\n",
        "plt.ylabel('Ventas $')\n",
        "plt.title('Ajuste de curvas')\n",
        "plt.grid()\n",
        "plt.legend(loc =4)\n",
        "plt.show()"
      ],
      "execution_count": 47,
      "outputs": [
        {
          "output_type": "display_data",
          "data": {
            "image/png": "[encoded data removed]",
            "text/plain": [
              "<Figure size 432x288 with 1 Axes>"
            ]
          },
          "metadata": {
            "tags": [],
            "needs_background": "light"
          }
        }
      ]
    },
    {
      "cell_type": "markdown",
      "metadata": {
        "id": "mXzNpGpIW5Hg"
      },
      "source": [
        "# Analisis del resultado\n",
        "Se realizo la regresión lineal de las ventas de la empresa durante los 10 años que lleva en el mercado y se analizo que se esta amuentado de forma lineal las ventas de la empresa."
      ]
    },
    {
      "cell_type": "markdown",
      "metadata": {
        "id": "P0z7IaGuX-Ki"
      },
      "source": [
        "# Bibliografia \n",
        "\n",
        "https://www.youtube.com/watch?v=NJNf0hssz74"
      ]
    }
  ]
}