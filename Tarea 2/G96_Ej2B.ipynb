{
  "nbformat": 4,
  "nbformat_minor": 0,
  "metadata": {
    "colab": {
      "name": "G96_Jhon_Sebastian_Bernal_Ej2B.ipynb",
      "provenance": [],
      "collapsed_sections": []
    },
    "kernelspec": {
      "name": "python3",
      "display_name": "Python 3"
    }
  },
  "cells": [
    {
      "cell_type": "markdown",
      "metadata": {
        "id": "AePmt945NTvY"
      },
      "source": [
        "# **SERIES DE TAYLOR**"
      ]
    },
    {
      "cell_type": "markdown",
      "metadata": {
        "id": "4DaLL1P_Nhtp"
      },
      "source": [
        "Una serie Taylor es una forma inteligente de aproximar cualquier función como un polinomio con un número infinito de términos. Cada término del polinomio de Taylor proviene de las derivadas de la función en un solo punto."
      ]
    },
    {
      "cell_type": "markdown",
      "metadata": {
        "id": "FhH9GcvmdoNN"
      },
      "source": [
        "Serie que es convenientemente util dado que podemos conocer el valor de la función en un punto sólo con saber las derivadas de dicha función y cuánto vale la función y sus derivadas. $$ f(x_{i}+1) = f(x_{i}) + \\frac{\\ f'(x_{i})} {1i} h + \\frac{\\ f''(x_{i})} {2i} h^2 + \\frac{\\ f'''(x_{i})} {3i} h^3 + ... + \\frac{\\ f^n(x_{i})} {ni} h^n  $$ "
      ]
    },
    {
      "cell_type": "markdown",
      "metadata": {
        "id": "ZBtV67sKqBBB"
      },
      "source": [
        "##**Ejercicio 2. Teoría de errores**\r\n",
        "\r\n",
        "**Descripción del Ejercicio**\r\n",
        "\r\n",
        "**B:** $$ f(x) =sen(2x), centrado \\ en \\  x = \\frac{pi} {4}   $$ "
      ]
    },
    {
      "cell_type": "markdown",
      "metadata": {
        "id": "O1cwGWpMqjDU"
      },
      "source": [
        "* Determine los polinomios de Taylor desde el grado cero (0) hasta\r\n",
        "el grado cinco (5). \r\n",
        "\r\n",
        "* Realice una gráfica comparativa con la evaluación de los\r\n",
        "polinomios solicitados en el numeral anterior y determine cuál es\r\n",
        "el error de truncamiento resultante en cada uno de los polinomios\r\n",
        "hallados. Haga una gráfica del comportamiento del error para\r\n",
        "cada polinomio.\r\n",
        "\r\n",
        "* Haga un análisis de resultados basándose en la teoría y en los\r\n",
        "resultados obtenidos. Debe incluir referencias a la bibliografía\r\n",
        "empleada usando las normas APA. Comentarios sin referencias no\r\n",
        "serán tenidos en cuenta.\r\n"
      ]
    },
    {
      "cell_type": "markdown",
      "metadata": {
        "id": "UUVhA5fstfYR"
      },
      "source": [
        "## $$ DESARROLLO $$"
      ]
    },
    {
      "cell_type": "markdown",
      "metadata": {
        "id": "gYoKWYqPsAyr"
      },
      "source": [
        "# **PASO 1: Definimos los valores de entrada**"
      ]
    },
    {
      "cell_type": "code",
      "metadata": {
        "id": "2iXuQqUNrdZs"
      },
      "source": [
        "import numpy as np\r\n",
        "a = 0              # Valor central de la serie\r\n",
        "x = np.pi/4        # Punto donde se va a preceder el valor f(x)\r\n",
        "h = x - a          # Tamaño de paso\r\n",
        "grado = 5          # 6 términos\r\n"
      ],
      "execution_count": null,
      "outputs": []
    },
    {
      "cell_type": "markdown",
      "metadata": {
        "id": "9NHw2XbZwgjI"
      },
      "source": [
        "# **PASO 2: Definimos la función y las derivadas**"
      ]
    },
    {
      "cell_type": "code",
      "metadata": {
        "id": "9vJMz2f15UU3",
        "colab": {
          "base_uri": "https://localhost:8080/"
        },
        "outputId": "41d05aab-9bfb-4652-d4a0-3ad2ee4a2a4b"
      },
      "source": [
        "fdx = np.sin(2*x)           \r\n",
        "dv1 = -np.sin(2*x)\r\n",
        "dv2 = np.sin(2*x)\r\n",
        "dv3 = -np.sin(2*x)\r\n",
        "dv4 = np.sin(2*x)\r\n",
        "dv5 = -np.sin(2*x)\r\n",
        "dv6 = np.sin(2*x)\r\n",
        "\r\n",
        "F = [fdx, dv1, dv2, dv3, dv4, dv5, dv6]\r\n",
        "\r\n",
        "print(F)\r\n"
      ],
      "execution_count": null,
      "outputs": [
        {
          "output_type": "stream",
          "text": [
            "[1.0, -1.0, 1.0, -1.0, 1.0, -1.0, 1.0]\n"
          ],
          "name": "stdout"
        }
      ]
    },
    {
      "cell_type": "markdown",
      "metadata": {
        "id": "sBY6OEouDW2A"
      },
      "source": [
        "# **PASO 3: Evaluamos la serie de taylor y el error de truncamiento**"
      ]
    },
    {
      "cell_type": "code",
      "metadata": {
        "colab": {
          "base_uri": "https://localhost:8080/"
        },
        "id": "7CQGMITw7kQ_",
        "outputId": "38fe4d00-134f-4b90-bd75-3ef19dc2b112"
      },
      "source": [
        "terminoi = 0           # Arranca con el primer término F\r\n",
        "listaTerminoi = []\r\n",
        "listaError = []\r\n",
        "for i in range(0, grado+1, 1):\r\n",
        "  terminoi = terminoi + F[i] * h ** i / np.math.factorial(i)\r\n",
        "  errori = F[i+1] * h **(i+1) / np.math.factorial(i+1)\r\n",
        "  listaTerminoi.append(terminoi)\r\n",
        "  listaError.append(errori)\r\n",
        "\r\n",
        "print(listaTerminoi)\r\n",
        "print(listaError)\r\n"
      ],
      "execution_count": null,
      "outputs": [
        {
          "output_type": "stream",
          "text": [
            "[1.0, 0.21460183660255172, 0.5230269741365942, 0.4422814619483134, 0.4581358061921289, 0.45564541162193617]\n",
            "[-0.7853981633974483, 0.30842513753404244, -0.08074551218828077, 0.0158543442438155, -0.00249039457019272, 0.00032599188692738996]\n"
          ],
          "name": "stdout"
        }
      ]
    },
    {
      "cell_type": "markdown",
      "metadata": {
        "id": "t6C_0C-HP2UH"
      },
      "source": [
        "# **PASO 4: Generar tabla**"
      ]
    },
    {
      "cell_type": "code",
      "metadata": {
        "colab": {
          "base_uri": "https://localhost:8080/"
        },
        "id": "TiPU9clRR-lL",
        "outputId": "7b368f0a-536b-4f17-9fe8-35b178dded59"
      },
      "source": [
        "from tabulate import  tabulate\r\n",
        "\r\n",
        "table = [[\"0\", listaTerminoi[0], listaError[0]], [\"1\", listaTerminoi[1], listaError[1]], [\"2\", listaTerminoi[2], listaError[2]], [\"3\", listaTerminoi[3], listaError[3]], [\"4\", listaTerminoi[4], listaError[4]], [\"5\", listaTerminoi[5], listaError[5]]]\r\n",
        "print(tabulate(table, headers=[\"Orden\", \"Término\",\"Error\"]))\r\n"
      ],
      "execution_count": null,
      "outputs": [
        {
          "output_type": "stream",
          "text": [
            "  Orden    Término         Error\n",
            "-------  ---------  ------------\n",
            "      0   1         -0.785398\n",
            "      1   0.214602   0.308425\n",
            "      2   0.523027  -0.0807455\n",
            "      3   0.442281   0.0158543\n",
            "      4   0.458136  -0.00249039\n",
            "      5   0.455645   0.000325992\n"
          ],
          "name": "stdout"
        }
      ]
    },
    {
      "cell_type": "markdown",
      "metadata": {
        "id": "6bkhKrkiXuDG"
      },
      "source": [
        "# **PASO 5: Generar gráfica del error**"
      ]
    },
    {
      "cell_type": "code",
      "metadata": {
        "colab": {
          "base_uri": "https://localhost:8080/",
          "height": 265
        },
        "id": "60PFDX_DWPHL",
        "outputId": "a4ce043c-30f9-4c0d-fef1-e5264647a676"
      },
      "source": [
        "import matplotlib.pyplot as plt\r\n",
        "\r\n",
        "plt.plot(range(0, grado+1, 1), listaError, label=\"f(x)=sen(2x)\")\r\n",
        "plt.grid(True)"
      ],
      "execution_count": null,
      "outputs": [
        {
          "output_type": "display_data",
          "data": {
            "image/png": "[encoded data removed]",
            "text/plain": [
              "<Figure size 432x288 with 1 Axes>"
            ]
          },
          "metadata": {
            "tags": [],
            "needs_background": "light"
          }
        }
      ]
    },
    {
      "cell_type": "markdown",
      "metadata": {
        "id": "d1I5dy98cFdL"
      },
      "source": [
        "# **PASO 6: Gráfica comparativa de los polinomios**"
      ]
    },
    {
      "cell_type": "code",
      "metadata": {
        "colab": {
          "base_uri": "https://localhost:8080/",
          "height": 265
        },
        "id": "F7oHvNgzekZZ",
        "outputId": "428467c2-10e7-4fa0-b564-0f2c0e989148"
      },
      "source": [
        "x = np.linspace(0, 2, 100)\r\n",
        "h = x - a\r\n",
        "P5 = np.sin(2*x) - np.sin(2*x)*h**1 / np.math.factorial(1) + np.sin(2*x)*h**2 / np.math.factorial(2) - np.sin(2*x)*h**3 / np.math.factorial(3) + np.sin(2*x)*h**4 / np.math.factorial(4) - np.sin(2*x)*h**5 / np.math.factorial(5)\r\n",
        "P4 = np.sin(2*x) - np.sin(2*x)*h**1 / np.math.factorial(1) + np.sin(2*x)*h**2 / np.math.factorial(2) - np.sin(2*x)*h**3 / np.math.factorial(3) + np.sin(2*x)*h**4 / np.math.factorial(4)\r\n",
        "P3 = np.sin(2*x) - np.sin(2*x)*h**1 / np.math.factorial(1) + np.sin(2*x)*h**2 / np.math.factorial(2) - np.sin(2*x)*h**3 / np.math.factorial(3)\r\n",
        "P2 = np.sin(2*x) - np.sin(2*x)*h**1 / np.math.factorial(1) + np.sin(2*x)*h**2 / np.math.factorial(2)\r\n",
        "P1 = np.sin(2*x) - np.sin(2*x)*h**1 / np.math.factorial(1)\r\n",
        "P0 = np.sin(2*x) * np.ones(len(x))\r\n",
        "funcion = np.sin(2*x)\r\n",
        "\r\n",
        "plt.plot(x, funcion, 'r', x, P5, 'gray', x, P4, 'g', x, P3, 'y', x, P2, 'm', x, P1, 'b', x, P0, 'c')\r\n",
        "plt.legend([\"f(x) = sen(2x)\", \"P5\", \"P4\", \"P3\", \"P2\", \"P1\", \"P0\"])\r\n",
        "plt.grid(True)\r\n",
        "\r\n",
        "\r\n",
        "\r\n"
      ],
      "execution_count": null,
      "outputs": [
        {
          "output_type": "display_data",
          "data": {
            "image/png": "[encoded data removed]",
            "text/plain": [
              "<Figure size 432x288 with 1 Axes>"
            ]
          },
          "metadata": {
            "tags": [],
            "needs_background": "light"
          }
        }
      ]
    },
    {
      "cell_type": "markdown",
      "metadata": {
        "id": "IFhbxnQq4sOX"
      },
      "source": [
        "**LINK DEL VIDEO:**\r\n",
        "https://youtu.be/QYdKUhLJKA4 "
      ]
    }
  ]
}