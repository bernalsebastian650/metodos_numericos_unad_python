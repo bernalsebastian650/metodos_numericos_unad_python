{
  "nbformat": 4,
  "nbformat_minor": 0,
  "metadata": {
    "colab": {
      "name": "G96_Jhon_Sebastian_Bernal_Ej3B.ipynb",
      "provenance": [],
      "collapsed_sections": []
    },
    "kernelspec": {
      "name": "python3",
      "display_name": "Python 3"
    }
  },
  "cells": [
    {
      "cell_type": "markdown",
      "metadata": {
        "id": "AePmt945NTvY"
      },
      "source": [
        "# **Solución de Ecuaciones No Lineales**"
      ]
    },
    {
      "cell_type": "markdown",
      "metadata": {
        "id": "olQEoPBKgNwg"
      },
      "source": [
        "Un sistema de ecuaciones es un conjunto de dos o más ecuaciones que comparten dos o más incógnitas. Las soluciones de un sistema de ecuaciones son todos los valores que son válidos para todas las ecuaciones, o los puntos donde las gráficas de las ecuaciones se intersectan.\r\n",
        "\r\n",
        "![nolineal.jpg](data:image/jpeg;base64,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)"
      ]
    },
    {
      "cell_type": "markdown",
      "metadata": {
        "id": "ZBtV67sKqBBB"
      },
      "source": [
        "**Descripción del Ejercicio**\r\n",
        "\r\n",
        "**B:** \r\n",
        "Encontrar al menos una de las raices de la función\r\n",
        "$$ f(x) =(x-2)^2 -  ln (x)   $$ \r\n",
        "en el intervalo [0,4]"
      ]
    },
    {
      "cell_type": "markdown",
      "metadata": {
        "id": "Ac7sBIEsrPhP"
      },
      "source": [
        "#**Tabla y gráfica**\r\n"
      ]
    },
    {
      "cell_type": "code",
      "metadata": {
        "colab": {
          "base_uri": "https://localhost:8080/"
        },
        "id": "qk57Uv8G8En_",
        "outputId": "341095c3-9035-495b-e83c-2d9f4829825d"
      },
      "source": [
        "from math import log, sqrt\r\n",
        "\r\n",
        "x=0\r\n",
        "Function=0\r\n",
        "print('{:^15}{:^15}'.format('x','F(x)'))\r\n",
        "for i in range (10):\r\n",
        "  if x != 0:\r\n",
        "    Function = (x-2)**2 - log(x)\r\n",
        "  x = x + 1\r\n",
        "  print('{:^15}{:^15.20f}'.format(x-1,Function))\r\n",
        "\r\n"
      ],
      "execution_count": 2,
      "outputs": [
        {
          "output_type": "stream",
          "text": [
            "       x            F(x)      \n",
            "       0       0.00000000000000000000\n",
            "       1       1.00000000000000000000\n",
            "       2       -0.69314718055994528623\n",
            "       3       -0.09861228866810978211\n",
            "       4       2.61370563888010920550\n",
            "       5       7.39056208756589949616\n",
            "       6       14.20824053077194548678\n",
            "       7       23.05408985094468832244\n",
            "       8       33.92055845832016558461\n",
            "       9       46.80277542266377821534\n"
          ],
          "name": "stdout"
        }
      ]
    },
    {
      "cell_type": "code",
      "metadata": {
        "colab": {
          "base_uri": "https://localhost:8080/",
          "height": 555
        },
        "id": "jBkdrUdyBX9G",
        "outputId": "05d7b379-fc5b-43d7-b390-f2d58ab408ca"
      },
      "source": [
        "from math import sqrt, pi\r\n",
        "from matplotlib import pyplot\r\n",
        "from numpy import arange, log\r\n",
        "pyplot.figure(figsize=(16,9)) #Tamaño de la imagen\r\n",
        "\r\n",
        "#funcion para evaluar\r\n",
        "def F(n):\r\n",
        "   return (x-2)**2 - log(x)\r\n",
        "\r\n",
        "x = arange(1,15,0.5) #valores de x donde esta la raiz\r\n",
        "pyplot.ylim(-10,10)   #limitacion de valores del eje y\r\n",
        "\r\n",
        "#Grafico de F\r\n",
        "pyplot.plot(x, [F(i) for i in x])\r\n",
        "\r\n",
        "#ajustes de los intervalos de los ejes 'x' y 'y'\r\n",
        "pyplot.xticks(arange(10, max(x)+1, 1))\r\n",
        "pyplot.xticks(arange(-5, 15+1, 1))\r\n",
        "\r\n",
        "#ejes\r\n",
        "pyplot.axhline(0, color=\"black\")\r\n",
        "pyplot.axvline(0, color=\"black\")\r\n",
        "pyplot.ylabel('y')\r\n",
        "pyplot.xlabel('x')\r\n",
        "\r\n",
        "pyplot.grid() #muestra la cuadricula"
      ],
      "execution_count": 3,
      "outputs": [
        {
          "output_type": "display_data",
          "data": {
            "image/png": "[encoded data removed]",
            "text/plain": [
              "<Figure size 1152x648 with 1 Axes>"
            ]
          },
          "metadata": {
            "tags": [],
            "needs_background": "light"
          }
        }
      ]
    },
    {
      "cell_type": "markdown",
      "metadata": {
        "id": "wI1sucxY6_U7"
      },
      "source": [
        "## Metodo de Bisección "
      ]
    },
    {
      "cell_type": "code",
      "metadata": {
        "colab": {
          "base_uri": "https://localhost:8080/"
        },
        "id": "72VAP_Oz68ig",
        "outputId": "84405bf0-15b5-4775-a41d-523d1ca3d437"
      },
      "source": [
        "from math import sqrt, pi\r\n",
        "from matplotlib import pyplot\r\n",
        "from numpy import arange\r\n",
        "\r\n",
        "listBisec = [None]\r\n",
        "Ri = 3\r\n",
        "Rr = 8/2\r\n",
        "Rs = 4\r\n",
        "i = 0\r\n",
        "Er = 0\r\n",
        "Rra=0\r\n",
        "\r\n",
        "#funcion para evaluar\r\n",
        "def F(n):\r\n",
        "  # if n == 0:\r\n",
        "  #   n=1\r\n",
        "  return (n-2)**2 - log(n)\r\n",
        "\r\n",
        "#funcion para calcular el error relativo\r\n",
        "def error (Rra,Rrn):\r\n",
        "  Erel = abs((Rrn - Rra) / Rrn) * 100\r\n",
        "  return Erel\r\n",
        "\r\n",
        "print('{:^15}{:^15}{:^15}{:^15}{:^15}{:^15}'.format('# iter','Ri','Rs','Rr','F(Rr)','Erel(%)'))\r\n",
        "\r\n",
        "while (i < 41):\r\n",
        "  Er = error(Rra,Rr)\r\n",
        "  Rra = Rr   #Rra sera el Rr anterior para determinar el error relativo\r\n",
        "  if F(Ri) * F(Rr) < 0:\r\n",
        "    Rs = Rr\r\n",
        "  elif F(Ri) * F(Rr) > 0:\r\n",
        "    Ri = Rr\r\n",
        "  elif F(Rr) == 0:\r\n",
        "    print('La raiz es ', Rr)\r\n",
        "  \r\n",
        "  Rr = (Ri + Rs) / 2\r\n",
        "  i = i + 1\r\n",
        "  #condiciones para el primer error relativo\r\n",
        "  if i == 1:\r\n",
        "    print('{:^15}{:^15.6f}{:^15.6f}{:^15.6f}{:^15.6f}'.format(i-1,Ri,Rs,Rr,F(Rr)))\r\n",
        "  elif i > 1:\r\n",
        "    listBisec.append('{:^15.10f}'.format(Er))\r\n",
        "    print('{:^15}{:^15.6f}{:^15.6f}{:^15.6f}{:^15.6f}{:^15.10f}'.format(i-1,Ri,Rs,Rr,F(Rr),Er))\r\n",
        "#print(listBisec)"
      ],
      "execution_count": 26,
      "outputs": [
        {
          "output_type": "stream",
          "text": [
            "    # iter           Ri             Rs             Rr            F(Rr)         Erel(%)    \n",
            "       0          3.000000       4.000000       3.500000       0.997237    \n",
            "       1          3.000000       3.500000       3.250000       0.383845     14.2857142857 \n",
            "       2          3.000000       3.250000       3.125000       0.126191     7.6923076923  \n",
            "       3          3.000000       3.125000       3.062500       0.009675     4.0000000000  \n",
            "       4          3.000000       3.062500       3.031250       -0.045499    2.0408163265  \n",
            "       5          3.031250       3.062500       3.046875       -0.018169    1.0309278351  \n",
            "       6          3.046875       3.062500       3.054688       -0.004312    0.5128205128  \n",
            "       7          3.054688       3.062500       3.058594       0.002665     0.2557544757  \n",
            "       8          3.054688       3.058594       3.056641       -0.000827    0.1277139208  \n",
            "       9          3.056641       3.058594       3.057617       0.000918     0.0638977636  \n",
            "      10          3.056641       3.057617       3.057129       0.000045     0.0319386777  \n",
            "      11          3.056641       3.057129       3.056885       -0.000391    0.0159718895  \n",
            "      12          3.056885       3.057129       3.057007       -0.000173    0.0079865825  \n",
            "      13          3.057007       3.057129       3.057068       -0.000064    0.0039931318  \n",
            "      14          3.057068       3.057129       3.057098       -0.000009    0.0019965260  \n",
            "      15          3.057098       3.057129       3.057114       0.000018     0.0009982531  \n",
            "      16          3.057098       3.057114       3.057106       0.000004     0.0004991240  \n",
            "      17          3.057098       3.057106       3.057102       -0.000002    0.0002495626  \n",
            "      18          3.057102       3.057106       3.057104       0.000001     0.0001247815  \n",
            "      19          3.057102       3.057104       3.057103       -0.000001    0.0000623907  \n",
            "      20          3.057103       3.057104       3.057104       0.000000     0.0000311954  \n",
            "      21          3.057103       3.057104       3.057103       -0.000000    0.0000155977  \n",
            "      22          3.057103       3.057104       3.057104       -0.000000    0.0000077988  \n",
            "      23          3.057104       3.057104       3.057104       0.000000     0.0000038994  \n",
            "      24          3.057104       3.057104       3.057104       -0.000000    0.0000019497  \n",
            "      25          3.057104       3.057104       3.057104       0.000000     0.0000009749  \n",
            "      26          3.057104       3.057104       3.057104       0.000000     0.0000004874  \n",
            "      27          3.057104       3.057104       3.057104       -0.000000    0.0000002437  \n",
            "      28          3.057104       3.057104       3.057104       0.000000     0.0000001219  \n",
            "      29          3.057104       3.057104       3.057104       -0.000000    0.0000000609  \n",
            "      30          3.057104       3.057104       3.057104       -0.000000    0.0000000305  \n",
            "      31          3.057104       3.057104       3.057104       -0.000000    0.0000000152  \n",
            "      32          3.057104       3.057104       3.057104       -0.000000    0.0000000076  \n",
            "      33          3.057104       3.057104       3.057104       0.000000     0.0000000038  \n",
            "      34          3.057104       3.057104       3.057104       -0.000000    0.0000000019  \n",
            "      35          3.057104       3.057104       3.057104       -0.000000    0.0000000010  \n",
            "      36          3.057104       3.057104       3.057104       0.000000     0.0000000005  \n",
            "      37          3.057104       3.057104       3.057104       -0.000000    0.0000000002  \n",
            "      38          3.057104       3.057104       3.057104       -0.000000    0.0000000001  \n",
            "      39          3.057104       3.057104       3.057104       0.000000     0.0000000001  \n",
            "      40          3.057104       3.057104       3.057104       -0.000000    0.0000000000  \n"
          ],
          "name": "stdout"
        }
      ]
    },
    {
      "cell_type": "markdown",
      "metadata": {
        "id": "2uoBOqQsNenP"
      },
      "source": [
        "##Regula Falsi"
      ]
    },
    {
      "cell_type": "code",
      "metadata": {
        "colab": {
          "base_uri": "https://localhost:8080/"
        },
        "id": "mn8RCmoL6gDZ",
        "outputId": "abb531bc-d145-4ef8-c41b-16bef7d97b00"
      },
      "source": [
        "Ri = 3\r\n",
        "Rr = 4\r\n",
        "i = 0\r\n",
        "Er = 0\r\n",
        "listFalsi = [None]\r\n",
        "\r\n",
        "#funcion para evaluar\r\n",
        "def F(n):\r\n",
        "  return (n-2)**2 - log(n)\r\n",
        "\r\n",
        "#funcion para calcular el error relativo\r\n",
        "def error (Rra,Rrn):\r\n",
        "  Erel = abs((Rrn - Rra) / Rrn) * 100\r\n",
        "  return Erel\r\n",
        "\r\n",
        "print('{:^15}{:^15}{:^15}{:^15}{:^15}{:^25}'.format('# iter','Ri','Rs','Rr','F(Rr)','Erel(%)'))\r\n",
        "\r\n",
        "while (i < 26):\r\n",
        "  Er = error(Rra,Rr)\r\n",
        "  Rra = Rr   #Rra sera el Rr anterior para determinar el error relativo\r\n",
        "  if F(Ri) * F(Rr) < 0:\r\n",
        "    Rs = Rr\r\n",
        "  elif F(Ri) * F(Rr) > 0:\r\n",
        "    Ri = Rr\r\n",
        "  elif F(Rr) == 0:\r\n",
        "    print('La raiz es ', Rr)\r\n",
        "  \r\n",
        "  Rr = (F(Rs) * Ri - F(Ri) * Rs) / (F(Rs) - F(Ri))\r\n",
        "  i = i + 1\r\n",
        "  #condiciones para el primer error relativo\r\n",
        "  if i == 1:\r\n",
        "    print('{:^15}{:^15.10f}{:^15.10f}{:^15.10f}{:^15.10f}'.format(i-1,Ri,Rs,Rr,F(Rr)))\r\n",
        "  elif i > 1:\r\n",
        "    listFalsi.append('{:^25.10f}'.format(Er))\r\n",
        "    print('{:^15}{:^15.10f}{:^15.10f}{:^15.10f}{:^15.10f}{:^25.10f}'.format(i-1,Ri,Rs,Rr,F(Rr),Er))\r\n",
        "#print(listFalsi)"
      ],
      "execution_count": 27,
      "outputs": [
        {
          "output_type": "stream",
          "text": [
            "    # iter           Ri             Rs             Rr            F(Rr)              Erel(%)         \n",
            "       0        3.0000000000   4.0000000000   3.0363572012   -0.0366222593 \n",
            "       1        3.0363572012   4.0000000000   3.0496728277   -0.0132212700       31.7368061436      \n",
            "       2        3.0496728277   4.0000000000   3.0544558052   -0.0047243992       0.4366247553       \n",
            "       3        3.0544558052   4.0000000000   3.0561618382   -0.0016819989       0.1565901664       \n",
            "       4        3.0561618382   4.0000000000   3.0567688361   -0.0005980492       0.0558227331       \n",
            "       5        3.0567688361   4.0000000000   3.0569846101   -0.0002125427       0.0198575002       \n",
            "       6        3.0569846101   4.0000000000   3.0570612884   -0.0000755238       0.0070583917       \n",
            "       7        3.0570612884   4.0000000000   3.0570885341   -0.0000268346       0.0025082381       \n",
            "       8        3.0570885341   4.0000000000   3.0570982148   -0.0000095345       0.0008912300       \n",
            "       9        3.0570982148   4.0000000000   3.0571016544   -0.0000033876       0.0003166619       \n",
            "      10        3.0571016544   4.0000000000   3.0571028765   -0.0000012036       0.0001125114       \n",
            "      11        3.0571028765   4.0000000000   3.0571033107   -0.0000004277       0.0000399757       \n",
            "      12        3.0571033107   4.0000000000   3.0571034650   -0.0000001519       0.0000142034       \n",
            "      13        3.0571034650   4.0000000000   3.0571035198   -0.0000000540       0.0000050465       \n",
            "      14        3.0571035198   4.0000000000   3.0571035393   -0.0000000192       0.0000017930       \n",
            "      15        3.0571035393   4.0000000000   3.0571035462   -0.0000000068       0.0000006371       \n",
            "      16        3.0571035462   4.0000000000   3.0571035486   -0.0000000024       0.0000002264       \n",
            "      17        3.0571035486   4.0000000000   3.0571035495   -0.0000000009       0.0000000804       \n",
            "      18        3.0571035495   4.0000000000   3.0571035498   -0.0000000003       0.0000000286       \n",
            "      19        3.0571035498   4.0000000000   3.0571035499   -0.0000000001       0.0000000102       \n",
            "      20        3.0571035499   4.0000000000   3.0571035500   -0.0000000000       0.0000000036       \n",
            "      21        3.0571035500   4.0000000000   3.0571035500   -0.0000000000       0.0000000013       \n",
            "      22        3.0571035500   4.0000000000   3.0571035500   -0.0000000000       0.0000000005       \n",
            "      23        3.0571035500   4.0000000000   3.0571035500   -0.0000000000       0.0000000002       \n",
            "      24        3.0571035500   4.0000000000   3.0571035500   -0.0000000000       0.0000000001       \n",
            "      25        3.0571035500   4.0000000000   3.0571035500   -0.0000000000       0.0000000000       \n"
          ],
          "name": "stdout"
        }
      ]
    },
    {
      "cell_type": "markdown",
      "metadata": {
        "id": "qJURKmZYUiED"
      },
      "source": [
        "##Método de Newton - Rapshon"
      ]
    },
    {
      "cell_type": "code",
      "metadata": {
        "id": "7lnjNeahQdy9"
      },
      "source": [
        "from sympy.interactive import printing\r\n",
        "from sympy import Derivative, diff, simplify, Symbol, sqrt, pi\r\n",
        "\r\n",
        "printing.init_printing(use_latex=\"mathjax\")\r\n",
        "\r\n",
        "# #calculo de la primera derivada de f\r\n",
        "x=Symbol('x')\r\n",
        "# Derivative((x-2)**2 - log(x), x, 1).doit()\r\n"
      ],
      "execution_count": 6,
      "outputs": []
    },
    {
      "cell_type": "markdown",
      "metadata": {
        "id": "DLMtE-bfmvkY"
      },
      "source": [
        "**Derivada**\r\n",
        "![derivada.jpg](data:image/jpeg;base64,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)"
      ]
    },
    {
      "cell_type": "code",
      "metadata": {
        "colab": {
          "base_uri": "https://localhost:8080/"
        },
        "id": "DZjFaVZYZDE_",
        "outputId": "f0556516-eb0b-4b46-8923-9f5c4ee1f7b5"
      },
      "source": [
        "from math import sqrt, pi\r\n",
        "\r\n",
        "Ri = 3\r\n",
        "Rr = 4\r\n",
        "i = 0\r\n",
        "Er = 0\r\n",
        "listRapshon = [None]\r\n",
        "\r\n",
        "#funcion para evaluar\r\n",
        "def F(n):\r\n",
        "  return (n-2)**2 - log(n)\r\n",
        "\r\n",
        "def DF(n):\r\n",
        "  DF = ((2 * n) - (1 / n)-2) #Derivada\r\n",
        "  return DF\r\n",
        " \r\n",
        "#funcion para calcular el error relativo\r\n",
        "def error (Rra,Rrn):\r\n",
        "  Erel = abs((Rrn - Rra) / Rrn) * 100\r\n",
        "  return Erel\r\n",
        "\r\n",
        "print('{:^15}{:^15}{:^20}{:^20}'.format('# iter','Ri','F(Ri)','Erel(%)'))\r\n",
        "\r\n",
        "while (i < 53):\r\n",
        "  Er = error(Rra,Rr)\r\n",
        "  Rra = Rr   #Rra sera el Rr anterior para determinar el error relativo\r\n",
        "  Rr = Ri - (F(Ri) / (DF(Ri)))\r\n",
        "  if i == 0:\r\n",
        "    print('{:^15}{:^15.10f}{:^20.15f}'.format(i,Ri,Rr))\r\n",
        "  elif i > 1:\r\n",
        "    listRapshon.append('{:^25.15f}'.format(Er))\r\n",
        "    print('{:^15}{:^15.10f}{:^20.15f}{:^25.15f}'.format(i-1,Ri,F(Rr),Er))\r\n",
        "  Ri = Rr\r\n",
        "  i = i + 1\r\n",
        "\r\n",
        "print(listRapshon)"
      ],
      "execution_count": 24,
      "outputs": [
        {
          "output_type": "stream",
          "text": [
            "    # iter           Ri              F(Ri)              Erel(%)       \n",
            "       0        3.0000000000   3.026894260545848  \n",
            "       1        3.0411352861   -0.015002756395721     0.468279908603725    \n",
            "       2        3.0486665550   -0.007943762277458     0.247034851542272    \n",
            "       3        3.0526467830   -0.004200938875105     0.130386129896157    \n",
            "       4        3.0547495819   -0.002220161465355     0.068837030172646    \n",
            "       5        3.0558603125   -0.001172935282495     0.036347559279629    \n",
            "       6        3.0564469614   -0.000619562403510     0.019193820130328    \n",
            "       7        3.0567567932   -0.000327231141405     0.010135964009190    \n",
            "       8        3.0569204229   -0.000172823310749     0.005352761987686    \n",
            "       9        3.0570068385   -0.000091272187887     0.002826803914603    \n",
            "      10        3.0570524757   -0.000048202382076     0.001492849448929    \n",
            "      11        3.0570765772   -0.000025456302242     0.000788383817329    \n",
            "      12        3.0570893054   -0.000013443750228     0.000416351476423    \n",
            "      13        3.0570960273   -0.000007099776100     0.000219878566286    \n",
            "      14        3.0570995772   -0.000003749457164     0.000116119694462    \n",
            "      15        3.0571014519   -0.000001980121727     0.000061323788647    \n",
            "      16        3.0571024420   -0.000001045719604     0.000032385613447    \n",
            "      17        3.0571029648   -0.000000552253580     0.000017103118592    \n",
            "      18        3.0571032410   -0.000000291649874     0.000009032303083    \n",
            "      19        3.0571033868   -0.000000154022805     0.000004770036538    \n",
            "      20        3.0571034638   -0.000000081340765     0.000002519097118    \n",
            "      21        3.0571035045   -0.000000042956755     0.000001330356772    \n",
            "      22        3.0571035260   -0.000000022685831     0.000000702572797    \n",
            "      23        3.0571035373   -0.000000011980581     0.000000371034718    \n",
            "      24        3.0571035433   -0.000000006327048     0.000000195946616    \n",
            "      25        3.0571035465   -0.000000003341368     0.000000103481077    \n",
            "      26        3.0571035481   -0.000000001764605     0.000000054649246    \n",
            "      27        3.0571035490   -0.000000000931903     0.000000028860739    \n",
            "      28        3.0571035495   -0.000000000492146     0.000000015241607    \n",
            "      29        3.0571035497   -0.000000000259906     0.000000008049218    \n",
            "      30        3.0571035498   -0.000000000137259     0.000000004250866    \n",
            "      31        3.0571035499   -0.000000000072487     0.000000002244906    \n",
            "      32        3.0571035500   -0.000000000038281     0.000000001185563    \n",
            "      33        3.0571035500   -0.000000000020216     0.000000000626105    \n",
            "      34        3.0571035500   -0.000000000010676     0.000000000330651    \n",
            "      35        3.0571035500   -0.000000000005638     0.000000000174623    \n",
            "      36        3.0571035500   -0.000000000002977     0.000000000092214    \n",
            "      37        3.0571035500   -0.000000000001573     0.000000000048707    \n",
            "      38        3.0571035500   -0.000000000000830     0.000000000025712    \n",
            "      39        3.0571035500   -0.000000000000439     0.000000000013582    \n",
            "      40        3.0571035500   -0.000000000000231     0.000000000007176    \n",
            "      41        3.0571035500   -0.000000000000123     0.000000000003791    \n",
            "      42        3.0571035500   -0.000000000000065     0.000000000001990    \n",
            "      43        3.0571035500   -0.000000000000035     0.000000000001060    \n",
            "      44        3.0571035500   -0.000000000000018     0.000000000000552    \n",
            "      45        3.0571035500   -0.000000000000009     0.000000000000305    \n",
            "      46        3.0571035500   -0.000000000000005     0.000000000000160    \n",
            "      47        3.0571035500   -0.000000000000003     0.000000000000073    \n",
            "      48        3.0571035500   -0.000000000000001     0.000000000000044    \n",
            "      49        3.0571035500   -0.000000000000000     0.000000000000029    \n",
            "      50        3.0571035500   -0.000000000000000     0.000000000000015    \n",
            "      51        3.0571035500   -0.000000000000000     0.000000000000000    \n",
            "[None, '    0.468279908603725    ', '    0.247034851542272    ', '    0.130386129896157    ', '    0.068837030172646    ', '    0.036347559279629    ', '    0.019193820130328    ', '    0.010135964009190    ', '    0.005352761987686    ', '    0.002826803914603    ', '    0.001492849448929    ', '    0.000788383817329    ', '    0.000416351476423    ', '    0.000219878566286    ', '    0.000116119694462    ', '    0.000061323788647    ', '    0.000032385613447    ', '    0.000017103118592    ', '    0.000009032303083    ', '    0.000004770036538    ', '    0.000002519097118    ', '    0.000001330356772    ', '    0.000000702572797    ', '    0.000000371034718    ', '    0.000000195946616    ', '    0.000000103481077    ', '    0.000000054649246    ', '    0.000000028860739    ', '    0.000000015241607    ', '    0.000000008049218    ', '    0.000000004250866    ', '    0.000000002244906    ', '    0.000000001185563    ', '    0.000000000626105    ', '    0.000000000330651    ', '    0.000000000174623    ', '    0.000000000092214    ', '    0.000000000048707    ', '    0.000000000025712    ', '    0.000000000013582    ', '    0.000000000007176    ', '    0.000000000003791    ', '    0.000000000001990    ', '    0.000000000001060    ', '    0.000000000000552    ', '    0.000000000000305    ', '    0.000000000000160    ', '    0.000000000000073    ', '    0.000000000000044    ', '    0.000000000000029    ', '    0.000000000000015    ', '    0.000000000000000    ']\n"
          ],
          "name": "stdout"
        }
      ]
    },
    {
      "cell_type": "markdown",
      "metadata": {
        "id": "Pft5IXegdJwy"
      },
      "source": [
        "##Método de Secante"
      ]
    },
    {
      "cell_type": "code",
      "metadata": {
        "colab": {
          "base_uri": "https://localhost:8080/"
        },
        "id": "-yeSCVwddOe0",
        "outputId": "dc36ec69-cfd5-4028-ed30-24bf1c6d37a1"
      },
      "source": [
        " from math import sqrt, pi\r\n",
        "\r\n",
        " #Funcion para evaluar Fx\r\n",
        "def F(n):\r\n",
        "  return (n-2)**2 - log(n)\r\n",
        "\r\n",
        "#funcion para calcular el error relativo\r\n",
        "def error (Rra,Rrn):\r\n",
        "  Erel = abs((Rrn - Rra) / Rrn) * 100\r\n",
        "  return Erel\r\n",
        "\r\n",
        "Ri_1 = 3\r\n",
        "Ri = 4\r\n",
        "Rr = 3\r\n",
        "i = 0\r\n",
        "Er = 0\r\n",
        "Rra=0\r\n",
        "listSecante = [None]\r\n",
        "\r\n",
        "print('{:^15}{:^15}{:^15}{:^15}{:^20}'.format('# iter','Ri-1','Ri','F(Ri)','Erel(%)'))\r\n",
        "\r\n",
        "while (i < 8):\r\n",
        "  Er = error(Rra,Rr)\r\n",
        "  Rra = Rr   #Rra sera el Rr anterior para determinar el error relativo\r\n",
        "  Rr = Ri - ((F(Ri) * (Ri_1 - Ri)) / ((F(Ri_1)) - (F(Ri))))\r\n",
        "  i = i + 1\r\n",
        "  if i == 1:\r\n",
        "    print('{:^15}{:^15.10f}{:^15.10f}{:^15.10f}'.format(i-1,Ri_1, Ri,Rr))\r\n",
        "  elif i > 1:\r\n",
        "    listSecante.append('{:^20.15f}'.format(Er))\r\n",
        "    print('{:^15}{:^15.10f}{:^15.10f}{:^15.10f}{:^20.15f}'.format(i-1,Ri_1,Ri,F(Rr),Er))\r\n",
        "  Ri_1 = Ri\r\n",
        "  Ri = Rr\r\n",
        "print(listSecante)"
      ],
      "execution_count": 21,
      "outputs": [
        {
          "output_type": "stream",
          "text": [
            "    # iter          Ri-1            Ri            F(Ri)           Erel(%)       \n",
            "       0        3.0000000000   4.0000000000   3.0363572012  \n",
            "       1        4.0000000000   3.0363572012   -0.0132212700  1.197395392304729  \n",
            "       2        3.0363572012   3.0496728277   0.0001652126   0.436624755275379  \n",
            "       3        3.0496728277   3.0571959923   -0.0000007269  0.246080544323596  \n",
            "       4        3.0571959923   3.0571031433   -0.0000000000  0.003037156786640  \n",
            "       5        3.0571031433   3.0571035500   -0.0000000000  0.000013303676110  \n",
            "       6        3.0571035500   3.0571035500   0.0000000000   0.000000000724973  \n",
            "       7        3.0571035500   3.0571035500   0.0000000000   0.000000000000015  \n",
            "[None, ' 1.197395392304729  ', ' 0.436624755275379  ', ' 0.246080544323596  ', ' 0.003037156786640  ', ' 0.000013303676110  ', ' 0.000000000724973  ', ' 0.000000000000015  ']\n"
          ],
          "name": "stdout"
        }
      ]
    },
    {
      "cell_type": "markdown",
      "metadata": {
        "id": "0a9oU-7_nXxN"
      },
      "source": [
        "##Grafica Numero de Iteraciones vs Erel(%)"
      ]
    },
    {
      "cell_type": "code",
      "metadata": {
        "colab": {
          "base_uri": "https://localhost:8080/",
          "height": 551
        },
        "id": "3yDxcTGJnoKK",
        "outputId": "2a613910-3cb7-40fe-8346-53035460bbf2"
      },
      "source": [
        "from matplotlib import pyplot\r\n",
        "from numpy import arange\r\n",
        "\r\n",
        "pyplot.figure(figsize=(16,9)) # Tamaño de la imagen\r\n",
        "\r\n",
        "pyplot.plot(listBisec,color='Y',label='Bisección')\r\n",
        "pyplot.plot(listFalsi,color='g',label='Regula Falsi')\r\n",
        "pyplot.plot(listRapshon,color='r',label='Raphson')\r\n",
        "pyplot.plot(listSecante,color='b',label='Secante')\r\n",
        "\r\n",
        "pyplot.xlabel('# Iteración')\r\n",
        "pyplot.ylabel('Erel (%)')\r\n",
        "\r\n",
        "pyplot.legend(loc=\"upper right\", title=\"Métodos\")\r\n",
        "\r\n",
        "#ajuste de intervalos de ejes 'x' y 'y'\r\n",
        "pyplot.xticks(arange(0,51+1,1))\r\n",
        "pyplot.yticks(arange(0,32+1,1))\r\n",
        "\r\n",
        "pyplot.grid()#Mostrar grafica\r\n",
        "pyplot.show()\r\n"
      ],
      "execution_count": 34,
      "outputs": [
        {
          "output_type": "display_data",
          "data": {
            "image/png": "[encoded data removed]",
            "text/plain": [
              "<Figure size 1152x648 with 1 Axes>"
            ]
          },
          "metadata": {
            "tags": [],
            "needs_background": "light"
          }
        }
      ]
    }
  ]
}