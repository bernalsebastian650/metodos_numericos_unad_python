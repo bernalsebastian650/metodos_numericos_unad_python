{
  "nbformat": 4,
  "nbformat_minor": 0,
  "metadata": {
    "colab": {
      "name": "G96_Jhon_Sebastian_Bernal_Maldonado_Ej1B.ipynb",
      "provenance": [],
      "collapsed_sections": []
    },
    "kernelspec": {
      "name": "python3",
      "display_name": "Python 3"
    }
  },
  "cells": [
    {
      "cell_type": "markdown",
      "metadata": {
        "id": "TvGMigTu_ufn"
      },
      "source": [
        "# SUMAS DE RIEMANN\r\n",
        "\r\n",
        "Es un método para aproximar el área total bajo la gráfica de una curva. Estas sumas toman su nombre del matemático alemanBernhard Riemann.\r\n",
        "Es una operacion sobre una funcion continua y limitada en un intervalo [a; b], donde a y b son llamados los extremos de la integración. La operación consiste en hallar el límite de la suma de productos entre el valor de la función en un punto xi* y el ancho Δx del subintervalo conteniendo al punto."
      ]
    },
    {
      "cell_type": "markdown",
      "metadata": {
        "id": "BnDKr6ZwBB8p"
      },
      "source": [
        "##Sumas de Riemann del punto medio\r\n",
        "\r\n",
        "* En una suma de Riemann de punto medio la altura de cada rectángulo es igual al valor de la función en el punto medio de su base."
      ]
    },
    {
      "cell_type": "markdown",
      "metadata": {
        "id": "vhMPAh445ggI"
      },
      "source": [
        "**Ejercicio 1. Fundamentos en programación**\r\n",
        "\r\n",
        "Se llama Suma de Riemann a la aproximación del área bajo la curva\r\n",
        "de una función en un intervalo [𝑎, 𝑏], mediante la suma de 𝑛\r\n",
        "rectángulos, donde su base es definida por \r\n",
        "\r\n",
        "![BxA.jpg](data:image/jpeg;base64,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)\r\n",
        "\r\n",
        "y su altura está\r\n",
        "dada por la evaluación de la función en los punto Xi. de la partición del\r\n",
        "intervalo. Dicha aproximación se expresa mediante la siguiente\r\n",
        "sumatoria:  $$ A = \\sum_{i=1}^{n}f(x)Δ𝑥$$\r\n",
        "\r\n"
      ]
    },
    {
      "cell_type": "markdown",
      "metadata": {
        "id": "jEe9eTmOAO6x"
      },
      "source": [
        "*  Desarrollar un código en Python empleando la herramienta Google\r\n",
        "Colab, que calcule las suma de Riemann del punto medio"
      ]
    },
    {
      "cell_type": "markdown",
      "metadata": {
        "id": "uTOIQ3khBGGO"
      },
      "source": [
        "La función ha aproximar es $ 𝑓(𝑥) = x^{3} $, en el intervalo [0,2], con 𝑛 =\r\n",
        "3, 10, 25 𝑦 100 particiones. Consigne los resultados en una tabla\r\n",
        "generada directamente con el código de Python que contenga los\r\n",
        "siguientes elementos:  "
      ]
    },
    {
      "cell_type": "markdown",
      "metadata": {
        "id": "giLOIqF9FSar"
      },
      "source": [
        "En la columna Suma deberá imprimirse el resultado arrojado por el\r\n",
        "programa y en la columna Error(%) deberá imprimirse el error\r\n",
        "relativo porcentual dado por la siguiente fórmula: $$ Error =\\frac{ \\ Valor     exacto - Valor aproximado}{Valor exacto}* 100 % $$"
      ]
    },
    {
      "cell_type": "markdown",
      "metadata": {
        "id": "t4Nz59jmPOg2"
      },
      "source": [
        "Haga una gráfica para cada una de las particiones, en donde se\r\n",
        "muestre la función exacta y la aproximada mediante la Suma. Como\r\n",
        "ejemplo se muestra esta gráfica:![gga.jpg](data:image/jpeg;base64,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) "
      ]
    },
    {
      "cell_type": "markdown",
      "metadata": {
        "id": "sKH5UN3LlhYg"
      },
      "source": [
        "¿Cuántas particiones requerirá para obtener un error relativo\r\n",
        "porcentual menor que 0.001?\r\n",
        "\r\n",
        "Realice un análisis de resultados que incluya la teoría, con fórmulas\r\n",
        "creadas en LaTeX en celdas Markdown (no se aceptarán imágenes).\r\n",
        "Cada estudiante deberá investigar sobre la fórmula de la Suma de\r\n",
        "Riemann correspondiente al ejercicio escogido y deberá especificar\r\n",
        "claramente, empleando las normas APA, la fuente bibliográfica de la\r\n",
        "cuál se basó. Análisis de resultados sin referencias bibliográficas según\r\n",
        "normas APA no será aceptado como válido."
      ]
    },
    {
      "cell_type": "markdown",
      "metadata": {
        "id": "iIzFXAeNhzCX"
      },
      "source": [
        "**DESARROLLO**"
      ]
    },
    {
      "cell_type": "markdown",
      "metadata": {
        "id": "iwZHwuQCxbwi"
      },
      "source": [
        "# **Paso 1: Determinar la partición**"
      ]
    },
    {
      "cell_type": "code",
      "metadata": {
        "id": "bHDC5tM-xqvH"
      },
      "source": [
        "#Se define el metodo donde tiene como parametros a,b y n\r\n",
        "def F_particion_intermedias(a, b, n):\r\n",
        "   \r\n",
        "   delta = (b - a) / n\r\n",
        "   particion = [ ]\r\n",
        "\r\n",
        "   for i in range(0, n, 1):          \r\n",
        "     x = (a + delta / 2) + i * delta  # Para las sumas de Riemann intermedias x = (a + delta / 2) + i * delta.\r\n",
        "     particion.append(x)\r\n",
        "   return particion\r\n",
        "\r\n",
        "#F_particion_intermedias(0, 2, 3) "
      ],
      "execution_count": null,
      "outputs": []
    },
    {
      "cell_type": "markdown",
      "metadata": {
        "id": "KfmYp1G01VmS"
      },
      "source": [
        "# **Paso 2: Evaluar los elementos de la partición en la función (Hallar las alturas)**"
      ]
    },
    {
      "cell_type": "code",
      "metadata": {
        "id": "y12dGHUe13CA"
      },
      "source": [
        "def evaluacion_particion(particion):\r\n",
        "\r\n",
        "  # Creamos una lista vacía\r\n",
        "  result = []\r\n",
        "\r\n",
        "  # Creamos un for para que evalue cada uno de los elementos de la partionder en la función\r\n",
        "  for i in range(0,len(particion),1):\r\n",
        "    x = particion[i]\r\n",
        "    y = (x**3)\r\n",
        "    result.append(y)\r\n",
        "    #print(y)\r\n",
        "  return result \r\n",
        "\r\n",
        "#Llamamos la función evaluacion_particion.\r\n",
        "#evaluacion_particion(F_particion_intermedias(0, 2, 3)) "
      ],
      "execution_count": null,
      "outputs": []
    },
    {
      "cell_type": "markdown",
      "metadata": {
        "id": "rhKR_xYP5-Og"
      },
      "source": [
        "# **Paso 3: Multiplicar delta por las alturas - hallar las áreas de los rectangulos**"
      ]
    },
    {
      "cell_type": "code",
      "metadata": {
        "id": "g4rX7yEz6ZSI"
      },
      "source": [
        "def calcular_areas_regt(result, a, b, n):\r\n",
        "  \r\n",
        "  # Creamos una lista vacía para que acumule las áreas de los rectangulos\r\n",
        "  areas_rectangulos = []\r\n",
        "\r\n",
        "  # Generar delta nuevamente\r\n",
        "  delta = (b - a) /n \r\n",
        "\r\n",
        "  # Creamos un for para que vaya multiplicando las alturas por delta para generar las áreas de los rectangulos\r\n",
        "  for i in result:\r\n",
        "    x = i * delta \r\n",
        "    areas_rectangulos.append(x)\r\n",
        "  return areas_rectangulos\r\n",
        "\r\n",
        "#Llamamos la funcion calcular_areas_regt para confirmar que todo vaya bien.\r\n",
        "#calcular_areas_regt(evaluacion_particion(F_particion_intermedias(0, 2, 3)), 0, 2, 3)\r\n"
      ],
      "execution_count": null,
      "outputs": []
    },
    {
      "cell_type": "markdown",
      "metadata": {
        "id": "YxIY-1lr976v"
      },
      "source": [
        "# **Paso 4: Sumar las áreas de los rectángulos**"
      ]
    },
    {
      "cell_type": "code",
      "metadata": {
        "id": "kyGY-_nR-Jk-"
      },
      "source": [
        "def calcular_suma_riemann(areas_rectangulos):\r\n",
        "  # Creamos una variable igual a cero para que almacene la suma\r\n",
        "  sumaRiemman = 0\r\n",
        "\r\n",
        "  for i in areas_rectangulos:\r\n",
        "    sumaRiemman = sumaRiemman + i\r\n",
        "    #           =             +\r\n",
        "  return sumaRiemman\r\n",
        "\r\n",
        "# Llamamos la función calcular_suma_riemann para confirmar que todo vaya bien.\r\n",
        "#calcular_suma_riemann(calcular_areas_regt(evaluacion_particion(F_particion_intermedias(0, 2, 3)), 0, 2, 3))  "
      ],
      "execution_count": null,
      "outputs": []
    },
    {
      "cell_type": "markdown",
      "metadata": {
        "id": "1PFlDu_aYGqs"
      },
      "source": [
        "x = F_particion_intermedias(0, 2, 25)\r\n",
        "y = evaluacion_particion(F_particion_intermedias(0, 2, 25))o 5: Función de la suma de Riemann** "
      ]
    },
    {
      "cell_type": "code",
      "metadata": {
        "colab": {
          "base_uri": "https://localhost:8080/"
        },
        "id": "NkGLyWY-BbJn",
        "outputId": "e74c3937-e4ca-469b-ebaf-9611e14ba9b0"
      },
      "source": [
        "def sumaDeRiemman():\r\n",
        "  a = float(input(\"Ingrese el límite inferior del intervalo: \"))\r\n",
        "  b = float(input(\"Ingrese el límite superior del intervalo: \"))\r\n",
        "  n = int(input(\"Ingrese la cantidad de particiones n: \"))\r\n",
        "\r\n",
        "  print(\"El área de la suma de Riemann para el ejercicio es: \", calcular_suma_riemann(calcular_areas_regt(evaluacion_particion(F_particion_intermedias(a, b, n)), a, b, n)))\r\n",
        "  return calcular_suma_riemann(calcular_areas_regt(evaluacion_particion(F_particion_intermedias(a, b, n)), a, b, n))\r\n",
        "\r\n",
        "sumaDeRiemman() "
      ],
      "execution_count": null,
      "outputs": [
        {
          "output_type": "stream",
          "text": [
            "Ingrese el límite inferior del intervalo: 0\n",
            "Ingrese el límite superior del intervalo: 2\n",
            "Ingrese la cantidad de particiones n: 3\n",
            "El área de la suma de Riemann para el ejercicio es:  3.7777777777777763\n"
          ],
          "name": "stdout"
        },
        {
          "output_type": "execute_result",
          "data": {
            "text/plain": [
              "3.7777777777777763"
            ]
          },
          "metadata": {
            "tags": []
          },
          "execution_count": 49
        }
      ]
    },
    {
      "cell_type": "markdown",
      "metadata": {
        "id": "mZRIXRmeeDKK"
      },
      "source": [
        "# **Paso 6: Función para generar las 4 sumas de Riemann y los 4 errores**"
      ]
    },
    {
      "cell_type": "code",
      "metadata": {
        "colab": {
          "base_uri": "https://localhost:8080/"
        },
        "id": "wWOdLvdAedjQ",
        "outputId": "b6c40467-dfd1-4404-8489-a0161d167514"
      },
      "source": [
        "SDR = [ ]\r\n",
        "\r\n",
        "for i in range(0,4,1):\r\n",
        "  x = sumaDeRiemman()\r\n",
        "  SDR.append(x)\r\n",
        "\r\n",
        "print(SDR)"
      ],
      "execution_count": null,
      "outputs": [
        {
          "output_type": "stream",
          "text": [
            "Ingrese el límite inferior del intervalo: 0\n",
            "Ingrese el límite superior del intervalo: 2\n",
            "Ingrese la cantidad de particiones n: 3\n",
            "El área de la suma de Riemann para el ejercicio es:  3.7777777777777763\n",
            "Ingrese el límite inferior del intervalo: 0\n",
            "Ingrese el límite superior del intervalo: 2\n",
            "Ingrese la cantidad de particiones n: 10\n",
            "El área de la suma de Riemann para el ejercicio es:  3.9800000000000013\n",
            "Ingrese el límite inferior del intervalo: 0\n",
            "Ingrese el límite superior del intervalo: 2\n",
            "Ingrese la cantidad de particiones n: 25\n",
            "El área de la suma de Riemann para el ejercicio es:  3.9968000000000004\n",
            "Ingrese el límite inferior del intervalo: 0\n",
            "Ingrese el límite superior del intervalo: 2\n",
            "Ingrese la cantidad de particiones n: 100\n",
            "El área de la suma de Riemann para el ejercicio es:  3.999800000000001\n",
            "[3.7777777777777763, 3.9800000000000013, 3.9968000000000004, 3.999800000000001]\n"
          ],
          "name": "stdout"
        }
      ]
    },
    {
      "cell_type": "code",
      "metadata": {
        "colab": {
          "base_uri": "https://localhost:8080/"
        },
        "id": "K9iTB-Iphocj",
        "outputId": "e793efd5-7864-4a59-bd70-fa0b0535cdcd"
      },
      "source": [
        "error = []\r\n",
        "\r\n",
        "for i in range(0,4,1):\r\n",
        "  x = (abs(4 - SDR[i]) * 100) / 4 \r\n",
        "  error.append(x)\r\n",
        "print (\" \")\r\n",
        "print(error)"
      ],
      "execution_count": null,
      "outputs": [
        {
          "output_type": "stream",
          "text": [
            " \n",
            "[5.555555555555591, 0.49999999999996714, 0.07999999999999119, 0.004999999999977245]\n"
          ],
          "name": "stdout"
        }
      ]
    },
    {
      "cell_type": "markdown",
      "metadata": {
        "id": "Jq645_16l-pg"
      },
      "source": [
        "# **Paso 7: Generar tabla**"
      ]
    },
    {
      "cell_type": "code",
      "metadata": {
        "colab": {
          "base_uri": "https://localhost:8080/"
        },
        "id": "LrndKYGhmRc4",
        "outputId": "5ec7df90-011c-4cfd-8c84-1f91c9b84fc0"
      },
      "source": [
        "from tabulate import tabulate\r\n",
        "\r\n",
        "sumaRiemman = [[\"3\", SDR[0], error[0]],[\"10\", SDR[1], error[1]],[\"25\", SDR[2], error[2]],[\"100\", SDR[3], error[3]]]\r\n",
        "print(tabulate(sumaRiemman, headers = [\"Particion\", \"Sumas\", \"Error\"], tablefmt = \"francy_grid\"))\r\n"
      ],
      "execution_count": null,
      "outputs": [
        {
          "output_type": "stream",
          "text": [
            "  Particion    Sumas    Error\n",
            "-----------  -------  -------\n",
            "          3  3.77778  5.55556\n",
            "         10  3.98     0.5\n",
            "         25  3.9968   0.08\n",
            "        100  3.9998   0.005\n"
          ],
          "name": "stdout"
        }
      ]
    },
    {
      "cell_type": "markdown",
      "metadata": {
        "id": "nPqmKsaDsSDp"
      },
      "source": [
        "La siguiente solución se plantea a partir de la definición de las sumas de Riemann usando la sumatoria, donde A es el área bajo la curva de la función en el intervalo dado:\r\n",
        "## Aca la sumatoria "
      ]
    },
    {
      "cell_type": "markdown",
      "metadata": {
        "id": "5wiJg-n-Lqf7"
      },
      "source": [
        "# **Paso 8: Gráfica para n = 3**"
      ]
    },
    {
      "cell_type": "code",
      "metadata": {
        "colab": {
          "base_uri": "https://localhost:8080/",
          "height": 295
        },
        "id": "s0Tqm7EoL5xo",
        "outputId": "c1de04ed-6236-44c3-a4ff-644f84de109f"
      },
      "source": [
        "import matplotlib.pyplot as plt\r\n",
        "import numpy as np\r\n",
        "\r\n",
        "x = F_particion_intermedias(0, 2, 3)\r\n",
        "y = evaluacion_particion(F_particion_intermedias(0, 2, 3))\r\n",
        "\r\n",
        "x1 = np.arange(0, 3, 0.01)\r\n",
        "y1 = (x1**3)\r\n",
        "\r\n",
        "plt.plot(x, y, label= \"line L\")\r\n",
        "plt.plot(x1, y1, label = \"line H\")\r\n",
        "plt.vlines(x, 0, y)\r\n",
        "\r\n",
        "plt.plot()\r\n",
        "\r\n",
        "plt.xlabel(\"x axis\")\r\n",
        "plt.ylabel(\"y axis\")\r\n",
        "plt.title(\"Line Graph Example\")\r\n",
        "plt.legend()\r\n",
        "plt.show()"
      ],
      "execution_count": null,
      "outputs": [
        {
          "output_type": "display_data",
          "data": {
            "image/png": "[encoded data removed]",
            "text/plain": [
              "<Figure size 432x288 with 1 Axes>"
            ]
          },
          "metadata": {
            "tags": [],
            "needs_background": "light"
          }
        }
      ]
    },
    {
      "cell_type": "markdown",
      "metadata": {
        "id": "qoxnspowpG_b"
      },
      "source": [
        "# **Paso 9: Gráfica para n = 10**"
      ]
    },
    {
      "cell_type": "code",
      "metadata": {
        "colab": {
          "base_uri": "https://localhost:8080/",
          "height": 295
        },
        "id": "3jUAIVtFpSg9",
        "outputId": "73f79386-9893-43ed-98d6-087fd7490704"
      },
      "source": [
        "import matplotlib.pyplot as plt\r\n",
        "import numpy as np\r\n",
        "\r\n",
        "x = F_particion_intermedias(0, 2, 10)\r\n",
        "y = evaluacion_particion(F_particion_intermedias(0, 2, 10))\r\n",
        "\r\n",
        "x1 = np.arange(0, 3, 0.01)\r\n",
        "y1 = (x1**3)\r\n",
        "\r\n",
        "plt.plot(x, y, label= \"line L\")\r\n",
        "plt.plot(x1, y1, label = \"line H\")\r\n",
        "plt.vlines(x, 0, y)\r\n",
        "\r\n",
        "plt.plot()\r\n",
        "\r\n",
        "plt.xlabel(\"x axis\")\r\n",
        "plt.ylabel(\"y axis\")\r\n",
        "plt.title(\"Line Graph Example\")\r\n",
        "plt.legend()\r\n",
        "plt.show()"
      ],
      "execution_count": null,
      "outputs": [
        {
          "output_type": "display_data",
          "data": {
            "image/png": "[encoded data removed]",
            "text/plain": [
              "<Figure size 432x288 with 1 Axes>"
            ]
          },
          "metadata": {
            "tags": [],
            "needs_background": "light"
          }
        }
      ]
    },
    {
      "cell_type": "markdown",
      "metadata": {
        "id": "2irv2Uqupp-U"
      },
      "source": [
        "# **Paso 10: Gráfica para n = 25**"
      ]
    },
    {
      "cell_type": "code",
      "metadata": {
        "colab": {
          "base_uri": "https://localhost:8080/",
          "height": 295
        },
        "id": "epBPNVAap-AZ",
        "outputId": "a83e44e9-6c5d-451c-e182-2108cb12993d"
      },
      "source": [
        "import matplotlib.pyplot as plt\r\n",
        "import numpy as np\r\n",
        "\r\n",
        "x = F_particion_intermedias(0, 2, 25)\r\n",
        "y = evaluacion_particion(F_particion_intermedias(0, 2, 25))\r\n",
        "\r\n",
        "x1 = np.arange(0, 3, 0.01)\r\n",
        "y1 = (x1**3)\r\n",
        "\r\n",
        "plt.plot(x, y, label= \"line L\")\r\n",
        "plt.plot(x1, y1, label = \"line H\")\r\n",
        "plt.vlines(x, 0, y)\r\n",
        "\r\n",
        "plt.plot()\r\n",
        "\r\n",
        "plt.xlabel(\"x axis\")\r\n",
        "plt.ylabel(\"y axis\")\r\n",
        "plt.title(\"Line Graph Example\")\r\n",
        "plt.legend()\r\n",
        "plt.show()"
      ],
      "execution_count": null,
      "outputs": [
        {
          "output_type": "display_data",
          "data": {
            "image/png": "[encoded data removed]",
            "text/plain": [
              "<Figure size 432x288 with 1 Axes>"
            ]
          },
          "metadata": {
            "tags": [],
            "needs_background": "light"
          }
        }
      ]
    },
    {
      "cell_type": "markdown",
      "metadata": {
        "id": "KgGPyLmWqrEN"
      },
      "source": [
        "# **Paso 11: Gráfica para n = 100**"
      ]
    },
    {
      "cell_type": "code",
      "metadata": {
        "colab": {
          "base_uri": "https://localhost:8080/",
          "height": 295
        },
        "id": "l1mwMlWUOOYa",
        "outputId": "a5207c9f-1afe-454a-80df-733c0b1ef409"
      },
      "source": [
        "import matplotlib.pyplot as plt\r\n",
        "import numpy as np\r\n",
        "\r\n",
        "x = F_particion_intermedias(0, 2, 100)\r\n",
        "y = evaluacion_particion(F_particion_intermedias(0, 2, 100))\r\n",
        "\r\n",
        "x1 = np.arange(0, 3, 0.01)\r\n",
        "y1 = (x1**3)\r\n",
        "\r\n",
        "plt.plot(x, y, label= \"line L\")\r\n",
        "plt.plot(x1, y1, label = \"line H\")\r\n",
        "plt.vlines(x, 0, y)\r\n",
        "\r\n",
        "plt.plot()\r\n",
        "\r\n",
        "plt.xlabel(\"x axis\")\r\n",
        "plt.ylabel(\"y axis\")\r\n",
        "plt.title(\"Line Graph Example\")\r\n",
        "plt.legend()\r\n",
        "plt.show()"
      ],
      "execution_count": null,
      "outputs": [
        {
          "output_type": "display_data",
          "data": {
            "image/png": "[encoded data removed]",
            "text/plain": [
              "<Figure size 432x288 with 1 Axes>"
            ]
          },
          "metadata": {
            "tags": [],
            "needs_background": "light"
          }
        }
      ]
    },
    {
      "cell_type": "markdown",
      "metadata": {
        "id": "zwsggD0xq8lv"
      },
      "source": [
        "# $$DESARROLLO - BASE-3$$"
      ]
    },
    {
      "cell_type": "code",
      "metadata": {
        "colab": {
          "base_uri": "https://localhost:8080/",
          "height": 1000
        },
        "id": "VWrz8wuS5l6o",
        "outputId": "f32bac3e-04c0-4e6d-d3d3-d6a21eeefe82"
      },
      "source": [
        "from tabulate import tabulate\r\n",
        "import matplotlib.pyplot as plt\r\n",
        "import numpy as np\r\n",
        "\r\n",
        "#Se define el metodo donde tiene como parametros a,b y n\r\n",
        "def SumaRapidaRiemann():#a, b, n\r\n",
        "  a = float(input(\"Ingrese el límite inferior del intervalo: \"))\r\n",
        "  b = float(input(\"Ingrese el límite superior del intervalo: \"))\r\n",
        "  n = int(input(\"Ingrese la cantidad de particiones n: \"))\r\n",
        "  arrayX = [ ]\r\n",
        "  arrayY = [ ]\r\n",
        "  arrayXTotal = [ ]\r\n",
        "  arrayYTotal = [ ]\r\n",
        "  respuesta = [ ]\r\n",
        "  #Se declara un contador\r\n",
        "  summR = 0\r\n",
        "  #Se realiza un for para iterar tantas n de veces donde n es el tercer parametro de la funcion\r\n",
        "  for i in range(0, n, 1):\r\n",
        "    delta = (b - a) / n               #delta\r\n",
        "    x = (a + delta / 2) + i * delta   #Paso1\r\n",
        "    arrayX.append(x)\r\n",
        "    y = (x**3)                        #Paso2\r\n",
        "    arrayY.append(y)\r\n",
        "    suma = y * delta                  #Paso3\r\n",
        "    summR = summR + suma              #Paso4\r\n",
        "    arrayXTotal.append(arrayX)\r\n",
        "    arrayYTotal.append(arrayY)\r\n",
        "    arrayX = [ ]\r\n",
        "    arrayY = [ ]\r\n",
        "    \r\n",
        "\r\n",
        "  respuesta.append(summR)\r\n",
        "  respuesta.append(arrayXTotal)\r\n",
        "  respuesta.append(arrayYTotal)\r\n",
        "  print(\"   \")\r\n",
        "  print(\"El área de la suma de Riemann con numero de particiones \",n,\" para el ejercicio es: \", summR)\r\n",
        "  return respuesta #Se devuelve el array resultado\r\n",
        "\r\n",
        "#print(\"La suma de riemann es: \", SumaRapidaRiemann(0, 2, 3))\r\n",
        "#print(SumaRapidaRiemann())\r\n",
        "\r\n",
        "SDR = [ ]\r\n",
        "for i in range(0,4,1):\r\n",
        "  x = SumaRapidaRiemann()\r\n",
        "  SDR.append(x[0])\r\n",
        "  x1 = np.arange(0, 3, 0.01)        #Graficar\r\n",
        "  y1 = (x1**3)\r\n",
        "  plt.plot(x[1], x[2], label= \"line L\")\r\n",
        "  plt.plot(x1, y1, label = \"line H\")\r\n",
        "  plt.vlines(x[1], 0, x[2])\r\n",
        "  plt.plot()\r\n",
        "  plt.xlabel(\"x axis\")\r\n",
        "  plt.ylabel(\"y axis\")\r\n",
        "  plt.title(\"Line Graph Example\")\r\n",
        "  plt.legend()\r\n",
        "  plt.show()\r\n",
        "  x = [ ]\r\n",
        "\r\n",
        "error = []\r\n",
        "for i in range(0,4,1):\r\n",
        "  xE = (abs(4 - SDR[i]) * 100) / 4 \r\n",
        "  error.append(xE)\r\n",
        "\r\n",
        "sumaRiemman = [[\"3\", SDR[0], error[0]],[\"10\", SDR[1], error[1]],[\"25\", SDR[2], error[2]],[\"100\", SDR[3], error[3]]]\r\n",
        "print(tabulate(sumaRiemman, headers = [\"Particion\", \"Sumas\", \"Error\"], tablefmt = \"francy_grid\"))"
      ],
      "execution_count": 2,
      "outputs": [
        {
          "output_type": "stream",
          "text": [
            "Ingrese el límite inferior del intervalo: 0\n",
            "Ingrese el límite superior del intervalo: 2\n",
            "Ingrese la cantidad de particiones n: 3\n",
            "   \n",
            "El área de la suma de Riemann con numero de particiones  3  para el ejercicio es:  3.7777777777777763\n"
          ],
          "name": "stdout"
        },
        {
          "output_type": "display_data",
          "data": {
            "image/png": "[encoded data removed]",
            "text/plain": [
              "<Figure size 432x288 with 1 Axes>"
            ]
          },
          "metadata": {
            "tags": [],
            "needs_background": "light"
          }
        },
        {
          "output_type": "stream",
          "text": [
            "Ingrese el límite inferior del intervalo: 0\n",
            "Ingrese el límite superior del intervalo: 2\n",
            "Ingrese la cantidad de particiones n: 10\n",
            "   \n",
            "El área de la suma de Riemann con numero de particiones  10  para el ejercicio es:  3.9800000000000013\n"
          ],
          "name": "stdout"
        },
        {
          "output_type": "display_data",
          "data": {
            "image/png": "[encoded data removed]",
            "text/plain": [
              "<Figure size 432x288 with 1 Axes>"
            ]
          },
          "metadata": {
            "tags": [],
            "needs_background": "light"
          }
        },
        {
          "output_type": "stream",
          "text": [
            "Ingrese el límite inferior del intervalo: 0\n",
            "Ingrese el límite superior del intervalo: 2\n",
            "Ingrese la cantidad de particiones n: 25\n",
            "   \n",
            "El área de la suma de Riemann con numero de particiones  25  para el ejercicio es:  3.9968000000000004\n"
          ],
          "name": "stdout"
        },
        {
          "output_type": "display_data",
          "data": {
            "image/png": "[encoded data removed]",
            "text/plain": [
              "<Figure size 432x288 with 1 Axes>"
            ]
          },
          "metadata": {
            "tags": [],
            "needs_background": "light"
          }
        },
        {
          "output_type": "stream",
          "text": [
            "Ingrese el límite inferior del intervalo: 0\n",
            "Ingrese el límite superior del intervalo: 2\n",
            "Ingrese la cantidad de particiones n: 100\n",
            "   \n",
            "El área de la suma de Riemann con numero de particiones  100  para el ejercicio es:  3.999800000000001\n"
          ],
          "name": "stdout"
        },
        {
          "output_type": "display_data",
          "data": {
            "image/png": "[encoded data removed]",
            "text/plain": [
              "<Figure size 432x288 with 1 Axes>"
            ]
          },
          "metadata": {
            "tags": [],
            "needs_background": "light"
          }
        },
        {
          "output_type": "stream",
          "text": [
            "  Particion    Sumas    Error\n",
            "-----------  -------  -------\n",
            "          3  3.77778  5.55556\n",
            "         10  3.98     0.5\n",
            "         25  3.9968   0.08\n",
            "        100  3.9998   0.005\n"
          ],
          "name": "stdout"
        }
      ]
    }
  ]
}