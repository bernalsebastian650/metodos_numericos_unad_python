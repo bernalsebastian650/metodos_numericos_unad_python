{
  "nbformat": 4,
  "nbformat_minor": 0,
  "metadata": {
    "colab": {
      "name": "G96_Yeisson_BordaEj2A.ipynb",
      "provenance": [],
      "toc_visible": true
    },
    "kernelspec": {
      "name": "python3",
      "display_name": "Python 3"
    }
  },
  "cells": [
    {
      "cell_type": "markdown",
      "metadata": {
        "id": "W66qi5qhHeCt"
      },
      "source": [
        "# Ejercicio 2: Teoría de Errores\r\n",
        "\r\n",
        "𝑓(𝑥)=𝑐𝑜𝑠(2𝑥), centrado en 𝑥=𝜋/4"
      ]
    },
    {
      "cell_type": "markdown",
      "metadata": {
        "id": "QHznQeSxYdEb"
      },
      "source": [
        "# Paso 1 Definimos Valores de Entrada"
      ]
    },
    {
      "cell_type": "code",
      "metadata": {
        "id": "M0y0afvAYmXb"
      },
      "source": [
        "import math        # importar la libreria math para trabajar funciones matematicas\r\n",
        "          \r\n",
        "a = math.pi/4      # Valor central de la serie 𝜋/4\r\n",
        "x =0.6              # punto donde se predecirá el valor f(x) series de taylor\r\n",
        "h = x - a         # Tamaño de paso\r\n",
        "n = 5          #  grado de la función \r\n"
      ],
      "execution_count": 60,
      "outputs": []
    },
    {
      "cell_type": "markdown",
      "metadata": {
        "id": "2pdcI3sYZucr"
      },
      "source": [
        "# Paso 2 Definimos función y derivadas"
      ]
    },
    {
      "cell_type": "code",
      "metadata": {
        "colab": {
          "base_uri": "https://localhost:8080/"
        },
        "id": "dhRA2u9zZ5gc",
        "outputId": "9906834c-0cb5-4a31-e987-c386de4ecfd4"
      },
      "source": [
        "import numpy as np # importar la libreria numpy\r\n",
        "\r\n",
        "fun = np.cos(2*x)        # función f(x) cos(2x)\r\n",
        "dv_1 = -2*np.sin(2*x)\r\n",
        "dv_2 = -4*np.cos(2*x)\r\n",
        "dv_3 = 8*np.sin(2*x)\r\n",
        "dv_4 = 16*np.cos(2*x)\r\n",
        "dv_5 = -32*np.sin(2*x)   # calculamos la derivada la función para el grado 5\r\n",
        "dv_6 = -64*np.cos(2*x)   # calculamos la derivada para el grado 6, para el hallar el truncacamiento \r\n",
        "\r\n",
        "funcion = [fun, dv_1, dv_2, dv_3, dv_4, dv_5, dv_6] # Guardamos la derivada en un vector\r\n",
        "\r\n",
        "\r\n",
        "print(funcion) "
      ],
      "execution_count": 61,
      "outputs": [
        {
          "output_type": "stream",
          "text": [
            "[0.3623577544766736, -1.8640781719344526, -1.4494310179066945, 7.45631268773781, 5.797724071626778, -29.82525075095124, -23.19089628650711]\n"
          ],
          "name": "stdout"
        }
      ]
    },
    {
      "cell_type": "markdown",
      "metadata": {
        "id": "FXQtYAb21pIf"
      },
      "source": [
        "# Evaluamos serie de Taylor y Error de Truncamiento"
      ]
    },
    {
      "cell_type": "code",
      "metadata": {
        "colab": {
          "base_uri": "https://localhost:8080/"
        },
        "id": "LOpD0pzA2QeJ",
        "outputId": "7f691a9c-d447-4847-9ebe-4d9480e6e2c1"
      },
      "source": [
        "termino = 0           # Inicializamos la variable en 0\r\n",
        "listaTerminos = []    # Lista terminos en vectores\r\n",
        "valorErrores = []     # lista de errores en vectores\r\n",
        "\r\n",
        "for i in range(6): # ciclo for par evaluar la función del indice i hasta grado 6\r\n",
        "\r\n",
        "  termino = termino + funcion[i] * h ** i / np.math.factorial (i)\r\n",
        "  valorError = funcion[i+1] * h ** (i+1)/ np.math.factorial(i+1) # llamamos la función para evaluar el error \r\n",
        "  listaTerminos.append(termino)\r\n",
        "  valorErrores.append(valorError)\r\n",
        "\r\n",
        "  print(listaTerminos)\r\n",
        "  print(valorErrores) # imprimimos los errores en una lista"
      ],
      "execution_count": 62,
      "outputs": [
        {
          "output_type": "stream",
          "text": [
            "[0.3623577544766736]\n",
            "[0.3455966695059204]\n",
            "[0.3623577544766736, 0.707954423982594]\n",
            "[0.3455966695059204, -0.02491026860605729]\n",
            "[0.3623577544766736, 0.707954423982594, 0.6830441553765367]\n",
            "[0.3455966695059204, -0.02491026860605729, -0.007919342841335067]\n",
            "[0.3623577544766736, 0.707954423982594, 0.6830441553765367, 0.6751248125352016]\n",
            "[0.3455966695059204, -0.02491026860605729, -0.007919342841335067, 0.00028540922810851046]\n",
            "[0.3623577544766736, 0.707954423982594, 0.6830441553765367, 0.6751248125352016, 0.6754102217633101]\n",
            "[0.3455966695059204, -0.02491026860605729, -0.007919342841335067, 0.00028540922810851046, 5.4441489087495895e-05]\n",
            "[0.3623577544766736, 0.707954423982594, 0.6830441553765367, 0.6751248125352016, 0.6754102217633101, 0.6754646632523976]\n",
            "[0.3455966695059204, -0.02491026860605729, -0.007919342841335067, 0.00028540922810851046, 5.4441489087495895e-05, -1.3080296929385654e-06]\n"
          ],
          "name": "stdout"
        }
      ]
    },
    {
      "cell_type": "markdown",
      "metadata": {
        "id": "4_dOTEuy-NOy"
      },
      "source": [
        "# Paso 4 Generar tabla "
      ]
    },
    {
      "cell_type": "code",
      "metadata": {
        "colab": {
          "base_uri": "https://localhost:8080/"
        },
        "id": "ndRL4aGX-R0q",
        "outputId": "de9f1951-e2ec-4e6d-fe72-2f6fb2d6bdae"
      },
      "source": [
        "from tabulate import tabulate   # importar tabla\r\n",
        "\r\n",
        "tablaSerieTaylor = [[\"0\", listaTerminos[0], valorErrores[0]],[\"2\",listaTerminos[2],valorErrores[2]],[\"3\",listaTerminos[3], valorErrores[3]],[\"4\", listaTerminos[4], valorErrores[4]],[\"5\", listaTerminos[5],valorErrores[5]]]\r\n",
        "print(tabulate(tablaSerieTaylor,headers = [\"Orden\",\"Termino\",\"Error\"])) # Imprimimos la tabla con los datos de orden termino y error "
      ],
      "execution_count": null,
      "outputs": [
        {
          "output_type": "stream",
          "text": [
            "  Orden    Termino         Error\n",
            "-------  ---------  ------------\n",
            "      0   0.362358   0.345597\n",
            "      2   0.683044  -0.00791934\n",
            "      3   0.675125   0.000285409\n",
            "      4   0.67541    5.44415e-05\n",
            "      5   0.675465  -1.30803e-06\n"
          ],
          "name": "stdout"
        }
      ]
    },
    {
      "cell_type": "markdown",
      "metadata": {
        "id": "kFnf8-6MBNjo"
      },
      "source": [
        "# Graficar el error "
      ]
    },
    {
      "cell_type": "code",
      "metadata": {
        "colab": {
          "base_uri": "https://localhost:8080/",
          "height": 281
        },
        "id": "uKY-TLwSBQoY",
        "outputId": "610ea95c-e0d7-40f3-fd20-e4162e7c8799"
      },
      "source": [
        "import matplotlib.pyplot as plt #importar grafica \r\n",
        "\r\n",
        "plt.plot(range(0,n+1), valorErrores,label =\"f(x)= cos(2x)\") # llamamos la variable valor error con los datos obtenidos de la función \r\n",
        "plt.grid(True) # pintamos el error \r\n",
        "plt.title(\"Grafica\") # titulo de la grafica\r\n",
        "plt.legend()\r\n",
        "plt.show() # Se muestra la grafica"
      ],
      "execution_count": null,
      "outputs": [
        {
          "output_type": "display_data",
          "data": {
            "image/png": "[encoded data removed]",
            "text/plain": [
              "<Figure size 432x288 with 1 Axes>"
            ]
          },
          "metadata": {
            "tags": [],
            "needs_background": "light"
          }
        }
      ]
    },
    {
      "cell_type": "markdown",
      "metadata": {
        "id": "4PgkH3fqCvx7"
      },
      "source": [
        "# Grafica comparativa polinomios"
      ]
    },
    {
      "cell_type": "code",
      "metadata": {
        "colab": {
          "base_uri": "https://localhost:8080/",
          "height": 265
        },
        "id": "nOLFkQIcC0er",
        "outputId": "23d50388-4728-4541-9436-acc42800900e"
      },
      "source": [
        "x = np.linspace(0, 2, 100) # espacio del vector de 0 hasta 2 de todas las funciones \r\n",
        "h = x - a\r\n",
        "funcion = np.cos(2*x)\r\n",
        "P5 = np.cos(2*a) - 2*np.sin(2*a)*h**1/ np.math.factorial(1) - 4*np.cos(2*x)*h**2 / np.math.factorial(2) + 8*np.sin(2*x)*h**3 / np.math.factorial(3) + 16*np.cos(2*x)*h**4 / np.math.factorial(4) - 32*np.cos(2*x)*h**5 / np.math.factorial(5)\r\n",
        "P4 = np.cos(2*a) - 2*np.sin(2*a)*h**1/ np.math.factorial(1) - 4*np.cos(2*x)*h**2 / np.math.factorial(2) + 8*np.sin(2*x)*h**3 / np.math.factorial(3) + 16*np.cos(2*x)*h**4 / np.math.factorial(4)\r\n",
        "P3 = np.cos(2*a) - 2*np.sin(2*a)*h**1/ np.math.factorial(1) - 4*np.cos(2*x)*h**2 / np.math.factorial(2) + 8*np.sin(2*x)*h**3 / np.math.factorial(3)\r\n",
        "P2 = np.cos(2*a) - 2*np.sin(2*a)*h**1/ np.math.factorial(1) - 4*np.cos(2*x)*h**2 / np.math.factorial(2)\r\n",
        "P1 = np.cos(2*a) - 2*np.sin(2*a)*h**1/ np.math.factorial(1)\r\n",
        "P0 = np.cos(2*a) * np.ones(len(x)) # almacenamos todos los polinomios \r\n",
        "\r\n",
        "plt.plot(x, funcion, 'r', x, P5, 'gray', x, P4, 'g', x, P3, 'y', x, P2, 'm', x, P1, 'b', x, P0, 'c',)\r\n",
        "plt.legend([\"f(x) = sqrt(3)\", \"P5\", \"P4\", \"P3\", \"P2\", \"P1\", \"P0\"])\r\n",
        "plt.grid(True) # pintamos la grafica de los polinomios"
      ],
      "execution_count": null,
      "outputs": [
        {
          "output_type": "display_data",
          "data": {
            "image/png": "[encoded data removed]",
            "text/plain": [
              "<Figure size 432x288 with 1 Axes>"
            ]
          },
          "metadata": {
            "tags": [],
            "needs_background": "light"
          }
        }
      ]
    }
  ]
}