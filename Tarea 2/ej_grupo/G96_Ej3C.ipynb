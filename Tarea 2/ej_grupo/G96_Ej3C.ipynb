{
  "nbformat": 4,
  "nbformat_minor": 0,
  "metadata": {
    "colab": {
      "name": "G96_Omar Hernando Rojas García_Ej3C.ipynb",
      "provenance": [],
      "collapsed_sections": [
        "p_hfBqkO62-w",
        "6sq2ikc07eKH",
        "-9pIrAcRk2TV"
      ]
    },
    "kernelspec": {
      "name": "python3",
      "display_name": "Python 3"
    }
  },
  "cells": [
    {
      "cell_type": "markdown",
      "metadata": {
        "id": "ZVMDeS1Y0z_O"
      },
      "source": [
        "# **SOLUCION DE ECUACIONES NO LINEALES**"
      ]
    },
    {
      "cell_type": "markdown",
      "metadata": {
        "id": "ahzoSLha1Tmo"
      },
      "source": [
        "Llamamos sistema no lineal a un sistema de ecuaciones en el que una o ambas de las ecuaciones que forman el sistema es una ecuación no lineal, es decir, cuando alguna de las incógnitas que forman parte de la ecuación no son de primer grado."
      ]
    },
    {
      "cell_type": "markdown",
      "metadata": {
        "id": "p_hfBqkO62-w"
      },
      "source": [
        "## **Ejercicio 3: Solucion de Ecuaciones no Lineales**"
      ]
    },
    {
      "cell_type": "markdown",
      "metadata": {
        "id": "6sq2ikc07eKH"
      },
      "source": [
        "## Descripción del Ejercicio"
      ]
    },
    {
      "cell_type": "markdown",
      "metadata": {
        "id": "4sgoMsho7rYW"
      },
      "source": [
        "# C: Para el estudio de vibraciones forzadas, no amortizadas, aparece la función  $$h(x) = xsenx $$"
      ]
    },
    {
      "cell_type": "markdown",
      "metadata": {
        "id": "Vbxc2PcH8PtS"
      },
      "source": [
        "* Halle el menor valor positivo de x, tal que h(x) = 1 "
      ]
    },
    {
      "cell_type": "markdown",
      "metadata": {
        "id": "RUe0_owE_vIH"
      },
      "source": [
        "## Tabla gráfica "
      ]
    },
    {
      "cell_type": "code",
      "metadata": {
        "colab": {
          "base_uri": "https://localhost:8080/"
        },
        "id": "raV7b-RAAjC4",
        "outputId": "5b8d56ea-942a-4dfe-cc65-b4cc815665c5"
      },
      "source": [
        "from math import sin\r\n",
        "x = 1\r\n",
        "Funcion = 0\r\n",
        "print('{:^15}{:^15}'.format('x','h(x)'))\r\n",
        "for i in range(20):\r\n",
        "    funcion = x * sin(x)\r\n",
        "    x = x + 1\r\n",
        "    print('{:^15}{:^15.10f}'.format(x - 1, funcion))"
      ],
      "execution_count": 3,
      "outputs": [
        {
          "output_type": "stream",
          "text": [
            "       x            h(x)      \n",
            "       1        0.8414709848  \n",
            "       2        1.8185948537  \n",
            "       3        0.4233600242  \n",
            "       4        -3.0272099812 \n",
            "       5        -4.7946213733 \n",
            "       6        -1.6764929892 \n",
            "       7        4.5989061910  \n",
            "       8        7.9148659730  \n",
            "       9        3.7090663672  \n",
            "      10        -5.4402111089 \n",
            "      11       -10.9998922721 \n",
            "      12        -6.4388750160 \n",
            "      13        5.4621714787  \n",
            "      14        13.8685029797 \n",
            "      15        9.7543176024  \n",
            "      16        -4.6064530666 \n",
            "      17       -16.3437573620 \n",
            "      18       -13.5177704419 \n",
            "      19        2.8476669836  \n",
            "      20        18.2589050146 \n"
          ],
          "name": "stdout"
        }
      ]
    },
    {
      "cell_type": "code",
      "metadata": {
        "colab": {
          "base_uri": "https://localhost:8080/",
          "height": 538
        },
        "id": "_CbvwPztFK4u",
        "outputId": "e09c57f7-4cec-492c-c559-c9fd518c2daa"
      },
      "source": [
        "from matplotlib import pyplot\r\n",
        "from numpy import arange\r\n",
        "from math import  sin\r\n",
        "pyplot.figure(figsize=(16,9))    # Tamaño de la imagen\r\n",
        "\r\n",
        "# funcion para evaluar\r\n",
        "\r\n",
        "def h(x):\r\n",
        "    return x * sin(x)\r\n",
        "\r\n",
        "x = arange(3,4,0.5)           # Valores donde esta la raíz\r\n",
        "pyplot.ylim(-10,10)             # Limitación de valores del eje y\r\n",
        "\r\n",
        "\r\n",
        "# Grafico de h.\r\n",
        "pyplot.plot(x,[h(i) for i in x])\r\n",
        "\r\n",
        "# Ajuste de los intervalos de los ejes 'x'y'y'\r\n",
        "pyplot.xticks(arange(10, max(x)+1, 1))\r\n",
        "pyplot.yticks(arange(-10, 10 + 1, 1))\r\n",
        "\r\n",
        "# Ejes\r\n",
        "pyplot.axhline(0, color=\"black\")\r\n",
        "pyplot.axvline(0, color=\"black\")\r\n",
        "pyplot.ylabel('y')\r\n",
        "pyplot.xlabel('x')\r\n",
        "\r\n",
        "pyplot.grid()                  # muestra la cuadricula\r\n",
        "\r\n",
        "\r\n",
        "\r\n"
      ],
      "execution_count": 4,
      "outputs": [
        {
          "output_type": "display_data",
          "data": {
            "image/png": "[encoded data removed]",
            "text/plain": [
              "<Figure size 1152x648 with 1 Axes>"
            ]
          },
          "metadata": {
            "tags": [],
            "needs_background": "light"
          }
        }
      ]
    },
    {
      "cell_type": "markdown",
      "metadata": {
        "id": "-9pIrAcRk2TV"
      },
      "source": [
        "# Aproximación de raices\r\n",
        "\r\n",
        "Métodos para aproximar raices de ecuaciones\r\n",
        "\r\n",
        "* Bisección\r\n",
        "* Regula felsi\r\n",
        "* Newton - Raphson\r\n",
        "* Seante "
      ]
    },
    {
      "cell_type": "markdown",
      "metadata": {
        "id": "g-Fo-QgelluN"
      },
      "source": [
        "# **Metodo de Biseción**\r\n",
        "\r\n",
        "* Si $ f(R{i}) f(R{d}) < 0, la raíz se encuentra en el intervalo [R{i}, R{d}] $\r\n",
        "* Si $ f(R{i}) f(R{d}) > 0, la raíz se encuentra en el intervalo [R{i}, R{d}] $\r\n"
      ]
    },
    {
      "cell_type": "markdown",
      "metadata": {
        "id": "dXWKDlD3npU7"
      },
      "source": [
        "Aproximación de la raiz $$ R{n} =\\frac{ \\ R{i} + R{d}}{2} $$"
      ]
    },
    {
      "cell_type": "markdown",
      "metadata": {
        "id": "Nn8T27xpowqF"
      },
      "source": [
        "Error relativo $$ |\\frac{ \\ R{n} - R{n} - 1}{R{n}}* 100|  $$"
      ]
    },
    {
      "cell_type": "code",
      "metadata": {
        "colab": {
          "base_uri": "https://localhost:8080/"
        },
        "id": "0zwIvol88HO9",
        "outputId": "cac2e1f6-b702-422a-8fae-6f1583d1a1e3"
      },
      "source": [
        "Ri = 3\r\n",
        "Rr = 7/2\r\n",
        "Rs = 4\r\n",
        "i = 0\r\n",
        "Er = 0\r\n",
        "Rra = 0\r\n",
        "\r\n",
        "def h(x):\r\n",
        "    return x * sin(x)\r\n",
        "\r\n",
        "# Funcion para calcular el error relativo\r\n",
        "def error(Rra, Rrn):\r\n",
        "    Erel = abs((Rrn - Rra) / Rrn) * 100\r\n",
        "    return Erel\r\n",
        "\r\n",
        "print('{:^15}{:^15}{:^15}{:^15}{:^15}{:^15}'.format('# iter','Ri','Rs','Rr','h(Ri)','Erel(%)'))\r\n",
        "\r\n",
        "while (i < 10):\r\n",
        "    Er = error(Rra,Rr)\r\n",
        "    Rra = Rr                       # Rra será el Rr anterior para determinar el error relativo\r\n",
        "\r\n",
        "    if h(Ri) * h(Rr) < 0:\r\n",
        "          Rs = Rr\r\n",
        "    elif h(Ri) * h(Rr) > 0:\r\n",
        "          Ri = Rr\r\n",
        "    elif (Rr) == 0:\r\n",
        "        print('La raíz es:', Rr)\r\n",
        "\r\n",
        "    Rr = (Ri + Rs) / 2\r\n",
        "    i = i + 1\r\n",
        "\r\n",
        "    # Condicional para el primer Error relativo\r\n",
        "    if i == 1:\r\n",
        "      print('{:^15}{:^15.6f}{:^15.6f}{:^15.6f}{:^15.6f}'.format(i-1,Ri,Rs,Rr,h(Rr)))\r\n",
        "    elif i > 1:\r\n",
        "      print('{:^15}{:^15.6f}{:^15.6f}{:^15.6f}{:^15.6f}{:^25.10f}'.format(i-1,Ri,Rs,Rr,h(Rr),Er))\r\n",
        "      \r\n",
        "\r\n",
        "\r\n"
      ],
      "execution_count": 5,
      "outputs": [
        {
          "output_type": "stream",
          "text": [
            "    # iter           Ri             Rs             Rr            h(Ri)         Erel(%)    \n",
            "       0          3.000000       3.500000       3.250000       -0.351634   \n",
            "       1          3.000000       3.250000       3.125000       0.051850          7.6923076923       \n",
            "       2          3.125000       3.250000       3.187500       -0.146278         4.0000000000       \n",
            "       3          3.125000       3.187500       3.156250       -0.046261         1.9607843137       \n",
            "       4          3.125000       3.156250       3.140625       0.003039          0.9900990099       \n",
            "       5          3.140625       3.156250       3.148438       -0.021550         0.4975124378       \n",
            "       6          3.140625       3.148438       3.144531       -0.009240         0.2481389578       \n",
            "       7          3.140625       3.144531       3.142578       -0.003097         0.1242236025       \n",
            "       8          3.140625       3.142578       3.141602       -0.000028         0.0621504040       \n",
            "       9          3.140625       3.141602       3.141113       0.001506          0.0310848617       \n"
          ],
          "name": "stdout"
        }
      ]
    },
    {
      "cell_type": "markdown",
      "metadata": {
        "id": "n6hr5n1GPVTS"
      },
      "source": [
        "# Regula Falsi"
      ]
    },
    {
      "cell_type": "markdown",
      "metadata": {
        "id": "E0Y-uW-yPeZV"
      },
      "source": [
        "A partir de un intervalo $[a{k},b{k}]$ se calcula un punto inferior \r\n",
        "\r\n",
        "$$ C_{k} =\\frac{ \\ f(b_{k})a_{k} - f(a_{k})b_{k}}{f(b_{k}) f(a_{k})} $$"
      ]
    },
    {
      "cell_type": "markdown",
      "metadata": {
        "id": "jnhJ7AZfR15T"
      },
      "source": [
        "Este punto es la intersección de la recta que pasa por $(a,f(a_{k})) y (b,f(b{_k})) $ con el eje x"
      ]
    },
    {
      "cell_type": "markdown",
      "metadata": {
        "id": "1b4R85VrUBdD"
      },
      "source": [
        "Si $f(C_{k})$ es suficientemente pequeño es la raíz buscada, si no se btoma el intervalo $[a_{k+1}, b_{k+1}] $ donde $[a_{k},c_{k}]$ si $f(a_{k})f(c_{k})<0$ en caso contrario $[c_{k},b_{k}]$"
      ]
    },
    {
      "cell_type": "code",
      "metadata": {
        "id": "KnLnI-1Tit5q",
        "colab": {
          "base_uri": "https://localhost:8080/"
        },
        "outputId": "dfee0739-5530-4ddb-bb39-7ed5e0866b7a"
      },
      "source": [
        "Ri = 3\r\n",
        "Rr = 4\r\n",
        "i = 0\r\n",
        "Er = 0\r\n",
        "\r\n",
        "def h(x):\r\n",
        "    return x * sin(x)\r\n",
        "\r\n",
        "# Funcion para calcular el error relativo\r\n",
        "def error(Rra, Rrn):\r\n",
        "    Erel = abs((Rrn - Rra) / Rrn) * 100\r\n",
        "    return Erel\r\n",
        "\r\n",
        "print('{:^15}{:^15}{:^15}{:^15}{:^15}{:^25}'.format('# iter','Ri','Rs','Rr','h(Ri)','Erel(%)'))\r\n",
        "\r\n",
        "while (i < 11):\r\n",
        "    Er = error(Rra,Rr)\r\n",
        "    Rra = Rr                       # Rra será el Rr anterior para determinar el error relativo\r\n",
        "\r\n",
        "    if h(Ri) * h(Rr) < 0:\r\n",
        "          Rs = Rr\r\n",
        "    elif h(Ri) * h(Rr) > 0:\r\n",
        "          Ri = Rr\r\n",
        "    elif (Rr) == 0:\r\n",
        "        print('La raíz es:', Rr)\r\n",
        "\r\n",
        "    Rr = (h(Rs) * Ri - h(Ri) * Rs) / (h(Rs) - h(Ri))\r\n",
        "    i = i + 1\r\n",
        "\r\n",
        "    # Condicional para el primer Error relativo\r\n",
        "    if i == 1:\r\n",
        "      print('{:^15}{:^15.10f}{:^15.10f}{:^15.10f}{:^15.10f}'.format(i-1,Ri,Rs,Rr,h(Rr)))\r\n",
        "    elif i > 1:\r\n",
        "      print('{:^15}{:^15.10f}{:^15.10f}{:^15.10f}{:^15.10f}{:^15.10f}'.format(i-1,Ri,Rs,Rr,h(Rr),Er))"
      ],
      "execution_count": 6,
      "outputs": [
        {
          "output_type": "stream",
          "text": [
            "    # iter           Ri             Rs             Rr            h(Ri)              Erel(%)         \n",
            "       0        3.0000000000   4.0000000000   3.1226927793   0.0590149874  \n",
            "       1        3.1226927793   4.0000000000   3.1394687030   0.0066680714   28.0945735840 \n",
            "       2        3.1394687030   4.0000000000   3.1413600394   0.0007307248   0.5343555000  \n",
            "       3        3.1413600394   4.0000000000   3.1415672527   0.0000797986   0.0602075667  \n",
            "       4        3.1415672527   4.0000000000   3.1415898808   0.0000087110   0.0065958566  \n",
            "       5        3.1415898808   4.0000000000   3.1415923509   0.0000009509   0.0007202742  \n",
            "       6        3.1415923509   4.0000000000   3.1415926206   0.0000001038   0.0000786270  \n",
            "       7        3.1415926206   4.0000000000   3.1415926500   0.0000000113   0.0000085828  \n",
            "       8        3.1415926500   4.0000000000   3.1415926532   0.0000000012   0.0000009369  \n",
            "       9        3.1415926532   4.0000000000   3.1415926535   0.0000000001   0.0000001023  \n",
            "      10        3.1415926535   4.0000000000   3.1415926536   0.0000000000   0.0000000112  \n"
          ],
          "name": "stdout"
        }
      ]
    },
    {
      "cell_type": "markdown",
      "metadata": {
        "id": "nxbJfAYSepxc"
      },
      "source": [
        "# **Método de Newton - Raphson**\r\n",
        "\r\n",
        "Para que sea efectivo es necesario seleccionar un valor inicial cerca de la raíz.  Se halla la recta tangente en el valor inicial. La intersección de la rect tangente con el eje x es la aproximación de la raíz.  $$ R_{i+1} = R_{i} - \\frac{ \\ f(R_{i})}{f(R_{i})} $$\r\n"
      ]
    },
    {
      "cell_type": "code",
      "metadata": {
        "colab": {
          "base_uri": "https://localhost:8080/",
          "height": 38
        },
        "id": "o8mSzOqmhlJ0",
        "outputId": "5de42b23-f6c1-4a1e-9791-84328d8d7767"
      },
      "source": [
        "from sympy.interactive import printing\r\n",
        "from sympy import Derivative, diff, sympify, symbols\r\n",
        "printing.init_printing(use_latex = \"mathjax\")\r\n",
        "\r\n",
        "# Calculo de la primera derivada de h\r\n",
        "\r\n",
        "x = symbols ('x')\r\n",
        "Derivative('x * sin(x)', x, 1).doit()"
      ],
      "execution_count": 7,
      "outputs": [
        {
          "output_type": "execute_result",
          "data": {
            "text/latex": "$\\displaystyle x \\cos{\\left(x \\right)} + \\sin{\\left(x \\right)}$",
            "text/plain": [
              "x⋅cos(x) + sin(x)"
            ]
          },
          "metadata": {
            "tags": []
          },
          "execution_count": 7
        }
      ]
    },
    {
      "cell_type": "code",
      "metadata": {
        "colab": {
          "base_uri": "https://localhost:8080/"
        },
        "id": "RKWlbuUdkNGg",
        "outputId": "8876c270-4410-4e5d-d44a-177e71bae42e"
      },
      "source": [
        "from math import sin\r\n",
        "\r\n",
        "Ri = 3\r\n",
        "Rr = 4\r\n",
        "i = 0\r\n",
        "Er = 0\r\n",
        "\r\n",
        "def F(n):\r\n",
        "    return x * sin(x)\r\n",
        "\r\n",
        "def Dh(x):\r\n",
        "  dh = ((x * sin(x)) / sin(x)) + (sin(x))\r\n",
        "  return dh\r\n",
        "\r\n",
        "# Funcion para calcular el error relativo\r\n",
        "def error(Rra, Rrn):\r\n",
        "    Erel = abs((Rrn - Rra) / Rrn) * 100\r\n",
        "    return Erel\r\n",
        "\r\n",
        "print('{:^15}{:^15}{:^20}{:^20}'.format('# iter','Ri','h(Ri)','Erel(%)'))\r\n",
        "\r\n",
        "while (i < 11):\r\n",
        "    Er = error(Rra,Rr)\r\n",
        "    Rra = Rr                       # Rra será el Rr anterior para determinar el error relativo\r\n",
        "    Rr = Ri - (h(Ri) / (Dh(Ri)))\r\n",
        "    # Condicional para el primer Error relativo\r\n",
        "    if i == 0:\r\n",
        "      print ('{:^15}{:^15.10f}{:^20.15f}'.format(i,Ri,Rr))\r\n",
        "    elif i > 1:\r\n",
        "      print ('{:^15}{:^15.10f}{:^20.7f}{:^12.7f}'.format(i-1,Ri,h(Rr),Er))\r\n",
        "    Ri = Rr\r\n",
        "    i = i + 1  "
      ],
      "execution_count": 8,
      "outputs": [
        {
          "output_type": "stream",
          "text": [
            "    # iter           Ri              h(Ri)              Erel(%)       \n",
            "       0        3.0000000000   2.865220041547826  \n",
            "       1        2.6160791277       1.7810199       9.5234472  \n",
            "       2        2.1951406575       1.6019303       19.1759225 \n",
            "       3        1.6027483681       0.8237377       36.9610290 \n",
            "       4        0.9871512082       0.2727148       62.3609792 \n",
            "       5        0.5349482803       0.0740939       84.5320837 \n",
            "       6        0.2739134528       0.0189330       95.2982867 \n",
            "       7        0.1378151727       0.0047595       98.7542064 \n",
            "       8        0.0690167190       0.0011915       99.6837501 \n",
            "       9        0.0345220595       0.0002980       99.9206304 \n"
          ],
          "name": "stdout"
        }
      ]
    },
    {
      "cell_type": "markdown",
      "metadata": {
        "id": "c5wg0pVqG_65"
      },
      "source": [
        "# Método Secante\r\n",
        "\r\n",
        "A partir de un intervalo $[a_{k}, b_{k}]$ se calcula un punto interior  \r\n",
        "$$ C_{k} =\\frac{ \\ f(b_{k})a_{k} - f(a_{k})b_{k}}{f(b_{k}) f(a_{k})} $$"
      ]
    },
    {
      "cell_type": "markdown",
      "metadata": {
        "id": "lw-GdLArIKgr"
      },
      "source": [
        "Este punto es la intersección de la recta que pasa por $(a,f(a_{k}))$ y $(b,f(b_{k}))$ con el eje x"
      ]
    },
    {
      "cell_type": "code",
      "metadata": {
        "colab": {
          "base_uri": "https://localhost:8080/"
        },
        "id": "trwxe5DJJ0aC",
        "outputId": "18de0a4c-f1aa-4bcb-8780-e86ae89a3d28"
      },
      "source": [
        "from math import sin\r\n",
        "\r\n",
        "Ri_1 = 4\r\n",
        "Ri = 3\r\n",
        "Rr = 4\r\n",
        "i = 0\r\n",
        "Er = 0\r\n",
        "Rra = 0\r\n",
        "\r\n",
        "def h(x):\r\n",
        "    return x * sin(x)\r\n",
        "\r\n",
        "# Funcion para calcular el error relativo\r\n",
        "def error(Rra, Rrn):\r\n",
        "    Erel = abs((Rrn - Rra) / Rrn) * 100\r\n",
        "    return Erel\r\n",
        "\r\n",
        "print('{:^15}{:^15}{:^15}{:^15}{:^15}{:^25}'.format('# iter','Ri','Rs','Rr','h(Ri)','Erel(%)'))\r\n",
        "\r\n",
        "while (i < 11):\r\n",
        "    Er = error(Rra,Rr)\r\n",
        "    Rra = Rr                       # Rra será el Rr anterior para determinar el error relativo\r\n",
        "    Rr = Ri - ((h(Ri) * (Ri_1 - Ri)) / ((h(Ri_1)) - (h(Ri))))\r\n",
        "    i = i + 1 \r\n",
        "    if i == 1:\r\n",
        "      print('{:^15}{:^15.10f}{:^15.10f}{:^15.10f}'.format(i-1,Ri,Rs,Rr,h(Rr)))\r\n",
        "    elif i > 1:\r\n",
        "      print('{:^15}{:^15.10f}{:^15.10f}{:^15.10f}{:^15.10f}{:^15.10f}'.format(i-1,Ri,Rs,Rr,h(Rr),Er))\r\n",
        "\r\n",
        "    \r\n",
        "  \r\n",
        "\r\n",
        "    "
      ],
      "execution_count": 9,
      "outputs": [
        {
          "output_type": "stream",
          "text": [
            "    # iter           Ri             Rs             Rr            h(Ri)              Erel(%)         \n",
            "       0        3.0000000000   4.0000000000   3.1226927793  \n",
            "       1        3.0000000000   4.0000000000   3.1226927793   0.0590149874   28.0945735840 \n",
            "       2        3.0000000000   4.0000000000   3.1226927793   0.0590149874   0.0000000000  \n",
            "       3        3.0000000000   4.0000000000   3.1226927793   0.0590149874   0.0000000000  \n",
            "       4        3.0000000000   4.0000000000   3.1226927793   0.0590149874   0.0000000000  \n",
            "       5        3.0000000000   4.0000000000   3.1226927793   0.0590149874   0.0000000000  \n",
            "       6        3.0000000000   4.0000000000   3.1226927793   0.0590149874   0.0000000000  \n",
            "       7        3.0000000000   4.0000000000   3.1226927793   0.0590149874   0.0000000000  \n",
            "       8        3.0000000000   4.0000000000   3.1226927793   0.0590149874   0.0000000000  \n",
            "       9        3.0000000000   4.0000000000   3.1226927793   0.0590149874   0.0000000000  \n",
            "      10        3.0000000000   4.0000000000   3.1226927793   0.0590149874   0.0000000000  \n"
          ],
          "name": "stdout"
        }
      ]
    },
    {
      "cell_type": "markdown",
      "metadata": {
        "id": "9dPbrRLO52es"
      },
      "source": [
        "# **Gráfica Número de Iteraciones vs Erel %**"
      ]
    },
    {
      "cell_type": "code",
      "metadata": {
        "colab": {
          "base_uri": "https://localhost:8080/",
          "height": 279
        },
        "id": "EooKhDF-6tDb",
        "outputId": "9f577213-3e8f-4eb8-e01c-4e2899202b7f"
      },
      "source": [
        "from matplotlib import pyplot\r\n",
        "from numpy import arange\r\n",
        "\r\n",
        "pyplot.plot([None, 7.6923076923, 4.0000000000, 1.9607843137, 0.9900990099, 0.4975124378, 0.2481389578 , 0.1242236025, 0.0621504040, 0.0310848617],color = 'b', label = \"Bisección\")\r\n",
        "pyplot.plot([None, 28.0945735840, 0.5343555000, 0.0602075667, 0.0065958566, 0.0007202742, 0.0000786270, 0.0000085828, 0.0000009369, 0.0000001023, 0.0000000112],color = 'g', label = \"Regula Falsi\")\r\n",
        "pyplot.plot([None, 9.5234472, 19.1759225, 36.9610290, 62.3609792, 84.5320837, 95.2982867, 98.7542064, 99.6837501, 99.9206304],color = 'r', label = \"Newton - Raphson\")\r\n",
        "pyplot.plot([None, 28.0945735840 , 0.0000000000, 0.0000000000, 0.0000000000, 0.0000000000, 0.0000000000, 0.0000000000, 0.0000000000, 0.0000000000,0.0000000000],color = 'b', label = \"secante\")\r\n",
        "\r\n",
        "pyplot.xlabel ('# Iteración')\r\n",
        "pyplot.ylabel (' Erel(%)')\r\n",
        "\r\n",
        "pyplot.legend(loc=\"upper right\", title='Métodos', frameon = True)\r\n",
        "\r\n",
        "\r\n",
        "#Ajuste de los intervalos de los ejes 'x' y 'y'\r\n",
        "pyplot.xticks(arange(0, 20 + 1, 1))\r\n",
        "pyplot.yticks(arange(0, 5 + 1, 1))\r\n",
        "\r\n",
        "pyplot.grid()          # Muestra la cuadricula\r\n",
        "pyplot.show()\r\n",
        "\r\n",
        "\r\n",
        "\r\n"
      ],
      "execution_count": 11,
      "outputs": [
        {
          "output_type": "display_data",
          "data": {
            "image/png": "[encoded data removed]",
            "text/plain": [
              "<Figure size 432x288 with 1 Axes>"
            ]
          },
          "metadata": {
            "tags": [],
            "needs_background": "light"
          }
        }
      ]
    }
  ]
}