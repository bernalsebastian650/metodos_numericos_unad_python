{
  "nbformat": 4,
  "nbformat_minor": 0,
  "metadata": {
    "colab": {
      "name": "G96_Omar Hernando Rojas García_Ej2C.ipynb",
      "provenance": [],
      "collapsed_sections": []
    },
    "kernelspec": {
      "name": "python3",
      "display_name": "Python 3"
    }
  },
  "cells": [
    {
      "cell_type": "markdown",
      "metadata": {
        "id": "AePmt945NTvY"
      },
      "source": [
        "# **SERIES DE TAYLOR**"
      ]
    },
    {
      "cell_type": "markdown",
      "metadata": {
        "id": "4DaLL1P_Nhtp"
      },
      "source": [
        "La serie de Taylor es una serie funcional y surge de una ecuación en la cual se puede encontrar una solución aproximada a una función. Es a menudo útil en situaciones físicas donde se desee obtener el valor aproximado de la función alrededor del punto de expansión x0. Se puede evaluar término a término en términos de las derivadas de la función. "
      ]
    },
    {
      "cell_type": "markdown",
      "metadata": {
        "id": "__JE-DQUBbab"
      },
      "source": [
        " $$ T = \\sum_{i=0}^{n} \\frac{\\ f^i(x)*x^i}{i!}$$"
      ]
    },
    {
      "cell_type": "markdown",
      "metadata": {
        "id": "FhH9GcvmdoNN"
      },
      "source": [
        "Serie que es convenientemente util dado que podemos conocer el valor de la función en un punto sólo con saber las derivadas de dicha función y cuánto vale la función y sus derivadas. $$ f(x_{i}+1) = f(x_{i}) + \\frac{\\ f'(x_{i})} {1i} h + \\frac{\\ f''(x_{i})} {2i} h^2 + \\frac{\\ f'''(x_{i})} {3i} h^3 + ... + \\frac{\\ f^n(x_{i})} {ni} h^n  $$ "
      ]
    },
    {
      "cell_type": "markdown",
      "metadata": {
        "id": "69DZBAyZkRqH"
      },
      "source": [
        "Que tiene la forma de un polinomio: $$ P_{n}(x) = a_{0} + a_{1}x + a_{2}x^2 + a_{3}x^3 +...+ a_{n}x^n  $$"
      ]
    },
    {
      "cell_type": "markdown",
      "metadata": {
        "id": "ZBtV67sKqBBB"
      },
      "source": [
        "**Ejercicio 2. Teoría de errores**\r\n",
        "\r\n",
        "**Descripción del Ejercicio**\r\n",
        "\r\n",
        "**C:** $$ f(x) =\\sqrt{x} , centrado x = \\frac{3} {2}   $$ "
      ]
    },
    {
      "cell_type": "markdown",
      "metadata": {
        "id": "O1cwGWpMqjDU"
      },
      "source": [
        "* Determine los polinomios de Taylor desde el grado cero (0) hasta\r\n",
        "el grado cinco (5). \r\n",
        "\r\n",
        "* Realice una gráfica comparativa con la evaluación de los\r\n",
        "polinomios solicitados en el numeral anterior y determine cuál es\r\n",
        "el error de truncamiento resultante en cada uno de los polinomios\r\n",
        "hallados. Haga una gráfica del comportamiento del error para\r\n",
        "cada polinomio.\r\n",
        "\r\n",
        "* Haga un análisis de resultados basándose en la teoría y en los\r\n",
        "resultados obtenidos. Debe incluir referencias a la bibliografía\r\n",
        "empleada usando las normas APA. Comentarios sin referencias no\r\n",
        "serán tenidos en cuenta.\r\n"
      ]
    },
    {
      "cell_type": "markdown",
      "metadata": {
        "id": "UUVhA5fstfYR"
      },
      "source": [
        "$$ **DESARROLLO** $$"
      ]
    },
    {
      "cell_type": "markdown",
      "metadata": {
        "id": "gYoKWYqPsAyr"
      },
      "source": [
        "# **PASO 1: Definimos los valores de entrada**"
      ]
    },
    {
      "cell_type": "code",
      "metadata": {
        "id": "2iXuQqUNrdZs"
      },
      "source": [
        "a = 0              # Valor central de la serie\r\n",
        "x = 3/2              # Punto donde se va a preceder el valor f(x)\r\n",
        "h = x - a          # Tamaño de paso\r\n",
        "grado = 5          # 6 términos\r\n"
      ],
      "execution_count": 39,
      "outputs": []
    },
    {
      "cell_type": "markdown",
      "metadata": {
        "id": "9NHw2XbZwgjI"
      },
      "source": [
        "# **PASO 2: Definimos la función y las derivadas**"
      ]
    },
    {
      "cell_type": "code",
      "metadata": {
        "id": "9vJMz2f15UU3"
      },
      "source": [
        "import numpy as np\r\n",
        "\r\n",
        "fdx = np.sqrt(3)              # f(x) = sqrt(3)\r\n",
        "dv1 = -np.sqrt(3)\r\n",
        "dv2 = np.sqrt(3)\r\n",
        "dv3 = -np.sqrt(3)\r\n",
        "dv4 = np.sqrt(3)\r\n",
        "dv5 = -np.sqrt(3)\r\n",
        "dv6 = np.sqrt(3)\r\n",
        "\r\n",
        "F = [fdx, dv1, dv2, dv3, dv4, dv5, dv6]\r\n",
        "\r\n",
        "#print(F)\r\n"
      ],
      "execution_count": 40,
      "outputs": []
    },
    {
      "cell_type": "markdown",
      "metadata": {
        "id": "sBY6OEouDW2A"
      },
      "source": [
        "# **PASO 3: Evaluamos la serie de taylor y el error de truncamiento**"
      ]
    },
    {
      "cell_type": "code",
      "metadata": {
        "colab": {
          "base_uri": "https://localhost:8080/"
        },
        "id": "7CQGMITw7kQ_",
        "outputId": "ebe55d1f-9898-4aff-82eb-7be4ed12faed"
      },
      "source": [
        "terminoi = 0           # Arranca con el primer término F\r\n",
        "lisTeri = []\r\n",
        "listError = []\r\n",
        "for i in range(0, grado+1, 1):\r\n",
        "  terminoi = terminoi + F[i] * h ** i / np.math.factorial(i)\r\n",
        "  errori = F[i+1] * h **(i+1) / np.math.factorial(i+1)\r\n",
        "  lisTeri.append(terminoi)\r\n",
        "  listError.append(errori)\r\n",
        "\r\n",
        "print(lisTeri)\r\n",
        "print(listError)\r\n"
      ],
      "execution_count": 41,
      "outputs": [
        {
          "output_type": "stream",
          "text": [
            "[1.7320508075688772, -0.8660254037844388, 1.082531754730548, 0.10825317547305457, 0.47360764269461464, 0.36400130252814666]\n",
            "[-2.598076211353316, 1.9485571585149868, -0.9742785792574934, 0.36535446722156006, -0.109606340166468, 0.027401585041617]\n"
          ],
          "name": "stdout"
        }
      ]
    },
    {
      "cell_type": "markdown",
      "metadata": {
        "id": "t6C_0C-HP2UH"
      },
      "source": [
        "# **PASO 4: Generar tabla**"
      ]
    },
    {
      "cell_type": "code",
      "metadata": {
        "colab": {
          "base_uri": "https://localhost:8080/"
        },
        "id": "TiPU9clRR-lL",
        "outputId": "0b7a03e8-d87c-4641-b462-ccf9db7aecd2"
      },
      "source": [
        "from tabulate import  tabulate\r\n",
        "\r\n",
        "Taseta = [[\"0\", lisTeri[0], listError[0], [\"1\", lisTeri[1], listError[1], [\"2\", lisTeri[2], listError[2], [\"3\", lisTeri[3], listError[3], [\"4\", lisTeri[4], listError[4], [\"5\", lisTeri[5], listError[5]]]]]]]]\r\n",
        "print(tabulate(Taseta, headers=[\"orden, término,\"]))\r\n"
      ],
      "execution_count": 42,
      "outputs": [
        {
          "output_type": "stream",
          "text": [
            "                       orden, término,\n",
            "--  -------  --------  ---------------------------------------------------------------------------------------------------------------------------------------------------------------------------------------------------------------------------------------------\n",
            " 0  1.73205  -2.59808  ['1', -0.8660254037844388, 1.9485571585149868, ['2', 1.082531754730548, -0.9742785792574934, ['3', 0.10825317547305457, 0.36535446722156006, ['4', 0.47360764269461464, -0.109606340166468, ['5', 0.36400130252814666, 0.027401585041617]]]]]\n"
          ],
          "name": "stdout"
        }
      ]
    },
    {
      "cell_type": "markdown",
      "metadata": {
        "id": "6bkhKrkiXuDG"
      },
      "source": [
        "# **PASO 5: Generar gráfica del error**"
      ]
    },
    {
      "cell_type": "code",
      "metadata": {
        "colab": {
          "base_uri": "https://localhost:8080/",
          "height": 265
        },
        "id": "60PFDX_DWPHL",
        "outputId": "e0406b9e-8148-4dfa-94b0-e53d6e417a45"
      },
      "source": [
        "import matplotlib.pyplot as plt\r\n",
        "\r\n",
        "plt.plot(range(0, grado+1, 1), listError, label=\"f(x)=sqrt(3)\")\r\n",
        "plt.grid(True)"
      ],
      "execution_count": 48,
      "outputs": [
        {
          "output_type": "display_data",
          "data": {
            "image/png": "[encoded data removed]",
            "text/plain": [
              "<Figure size 432x288 with 1 Axes>"
            ]
          },
          "metadata": {
            "tags": [],
            "needs_background": "light"
          }
        }
      ]
    },
    {
      "cell_type": "markdown",
      "metadata": {
        "id": "d1I5dy98cFdL"
      },
      "source": [
        "# **PASO 6: Gráfica comparativa de los polinomios**"
      ]
    },
    {
      "cell_type": "code",
      "metadata": {
        "colab": {
          "base_uri": "https://localhost:8080/",
          "height": 267
        },
        "id": "F7oHvNgzekZZ",
        "outputId": "c9e37648-a80d-48ee-a7e0-61f690191e05"
      },
      "source": [
        "x = np.linspace(0, 2, 1)\r\n",
        "h = x - a\r\n",
        "P5 = np.sqrt(3) - np.sqrt(3)*h**1 / np.math.factorial(1) + np.sqrt(3)*h**2 / np.math.factorial(2) - np.sqrt(3)*h**3 / np.math.factorial(3) + np.sqrt(3)*h**4 / np.math.factorial(4) - np.sqrt(3)*h**5 / np.math.factorial(5)\r\n",
        "P4 = np.sqrt(3) - np.sqrt(3)*h**1 / np.math.factorial(1) + np.sqrt(3)*h**2 / np.math.factorial(2) - np.sqrt(3)*h**3 / np.math.factorial(3) + np.sqrt(3)*h**4 / np.math.factorial(4)\r\n",
        "P3 = np.sqrt(3) - np.sqrt(3)*h**1 / np.math.factorial(1) + np.sqrt(3)*h**2 / np.math.factorial(2) - np.sqrt(3)*h**3 / np.math.factorial(3)\r\n",
        "P2 = np.sqrt(3) - np.sqrt(3)*h**1 / np.math.factorial(1) + np.sqrt(3)*h**2 / np.math.factorial(2)\r\n",
        "P1 = np.sqrt(3) - np.sqrt(3)*h**1 / np.math.factorial(1)\r\n",
        "P0 = np.sqrt(3) * np.ones(len(x))\r\n",
        "funcion = np.sqrt(3)\r\n",
        "\r\n",
        "plt.plot(x, funcion, 'r', x, P5, 'gray', x, P4, 'g', x, P3, 'y', x, P2, 'm', x, P1, 'b', x, P0, 'c',)\r\n",
        "plt.legend([\"f(x) = sqrt(3)\", \"P5\", \"P4\", \"P3\", \"P2\", \"P1\", \"P0\"])\r\n",
        "plt.grid(True)\r\n",
        "\r\n",
        "\r\n",
        "\r\n"
      ],
      "execution_count": 49,
      "outputs": [
        {
          "output_type": "display_data",
          "data": {
            "image/png": "[encoded data removed]",
            "text/plain": [
              "<Figure size 432x288 with 1 Axes>"
            ]
          },
          "metadata": {
            "tags": [],
            "needs_background": "light"
          }
        }
      ]
    }
  ]
}