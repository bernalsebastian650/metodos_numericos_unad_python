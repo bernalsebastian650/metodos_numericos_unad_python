{
  "nbformat": 4,
  "nbformat_minor": 0,
  "metadata": {
    "colab": {
      "name": "G96_Jhon_Sebastian_Bernal_Ej2B.ipynb",
      "provenance": [],
      "collapsed_sections": []
    },
    "kernelspec": {
      "name": "python3",
      "display_name": "Python 3"
    },
    "language_info": {
      "name": "python"
    }
  },
  "cells": [
    {
      "cell_type": "markdown",
      "metadata": {
        "id": "0I-U8yXB-5cs"
      },
      "source": [
        "#**EJERCICIO 2. Integración Numérica**"
      ]
    },
    {
      "cell_type": "markdown",
      "metadata": {
        "id": "iB0pMK3CEehK"
      },
      "source": [
        "#**$$DESARROLLO$$**\n"
      ]
    },
    {
      "cell_type": "markdown",
      "metadata": {
        "id": "425M0CUv5TK3"
      },
      "source": [
        "#**Métodos De Integración Numérica**"
      ]
    },
    {
      "cell_type": "markdown",
      "metadata": {
        "id": "XJgfiPl75OnR"
      },
      "source": [
        "#**Paso 1: Definimos la función a integrar**"
      ]
    },
    {
      "cell_type": "code",
      "metadata": {
        "id": "4FL3MlpZ7EHt"
      },
      "source": [
        "import numpy as np \n",
        "import math as mt                                   #Se importa la libreria\n",
        "\n",
        "def f(x):                                           #Se define f(x)\n",
        "  return (np.log(3+x))  "
      ],
      "execution_count": 4,
      "outputs": []
    },
    {
      "cell_type": "markdown",
      "metadata": {
        "id": "W2VzO4Cm_1pK"
      },
      "source": [
        "#**Paso 2: Definimos las funciones para los direferentes métodos**"
      ]
    },
    {
      "cell_type": "code",
      "metadata": {
        "id": "W4GHqAyP36_e"
      },
      "source": [
        "# Trapecio simple\n",
        "def TrapecioSimple(a, b):\n",
        "  return (b - a) * (f(a) + f(b))/2\n",
        "def ErrorTrapecioSimple(IR, a, b):\n",
        "  return (abs(IR - TrapecioSimple(a, b)) / IR) * 100\n",
        "# Trapecio compuesto \n",
        "def Trapecio(a, b, x): \n",
        "  suma = 0\n",
        "  for i in range(1, n):\n",
        "    suma = suma + 2 * f(x[i])\n",
        "  return (b - a) / (2*n) * (f(a) + suma + f(b))\n",
        "def ErrorTrapecio(IR, a, b, x):\n",
        "  return (abs(IR - Trapecio(a,b, x)) / IR) * 100\n",
        "\n",
        "# Simpson 1/3 simple\n",
        "def Simpson13Simple(x):\n",
        "  return (x[2] - x[0]) / 6 * (f(x[0]) + 4 * f(x[1]) + f(x[2]))\n",
        "def ErrorSimpson13Simple(IR, x):\n",
        "  return (abs(IR - Simpson13Simple(x)) / IR) * 100\n",
        "# Simpson 1/3 compuesto\n",
        "def Simpson13(a, b, x):\n",
        "  suma = 0\n",
        "  for i in range(1, n, 2):\n",
        "    suma = suma + 4 * f(x[i])\n",
        "  for i in range(2, n-1, 2):\n",
        "    suma = suma + 2 * f(x[i])\n",
        "  return (b - a ) / (3*n) * (f(a) + suma + f(b))\n",
        "def ErrorSimpson13(IR, a, b, x):\n",
        "  return (abs(IR - Simpson13(a, b, x)) / IR) * 100\n",
        "\n",
        "# Simpson 3/8 simple\n",
        "def Simpson38Simple(x): # [x0 x1 x2]\n",
        "  return (x[3] - x[0]) / 8 * (f(x[0]) + 3 * f(x[1]) + 3 * f(x[2]) + f(x[3]))\n",
        "def ErrorSimpson38Simple(IR, x):\n",
        "  return (abs(IR - Simpson38Simple(x)) / IR) * 100\n",
        "# Simpson 3/8 compuesto\n",
        "def Simpson38(a, b, x):\n",
        "  suma = 0\n",
        "  m = int(n/3)\n",
        "  for i in range(0, m):\n",
        "    suma = suma + 3 * f(x[3*i+1]) + 3 * f(x[3*i+2])\n",
        "  for i in range(0, m-1):\n",
        "    suma = suma + 2 *f(x[3*i+3])\n",
        "  return (3/8)*((b -a ) / n) * (f(a) + suma + f(b))\n",
        "def ErrorSimpson38(IR, a, b, x):\n",
        "  return (abs(IR - Simpson38(a, b, x)) / IR) * 100\n",
        "\n",
        "def calcularErrorReal()\n"
      ],
      "execution_count": 5,
      "outputs": []
    },
    {
      "cell_type": "markdown",
      "metadata": {
        "id": "lZSuxorn3cNV"
      },
      "source": [
        "#**Paso 3: Definimos las entradas**"
      ]
    },
    {
      "cell_type": "code",
      "metadata": {
        "id": "aGZbgEZt3vvo"
      },
      "source": [
        "a = 0.1\n",
        "b = 3.1\n",
        "IR = 0.948522\n"
      ],
      "execution_count": 8,
      "outputs": []
    },
    {
      "cell_type": "markdown",
      "metadata": {
        "id": "Lsc6wIvODHpj"
      },
      "source": [
        "#**Paso 4: Evaluamos las reglas simples**"
      ]
    },
    {
      "cell_type": "code",
      "metadata": {
        "colab": {
          "base_uri": "https://localhost:8080/"
        },
        "id": "NW8zhkv7DQtr",
        "outputId": "d73e38aa-4c9e-4d81-da45-2a146941cdd2"
      },
      "source": [
        "# Trapecio Simple\n",
        "print(\"La integral aproximada por la regla de trapecio simple es:\", TrapecioSimple(a, b), \"; Error (%):\", ErrorTrapecioSimple(IR, a, b))\n",
        "# Simpson 1/3 simple\n",
        "n = 2            # numero de segmentos \n",
        "x = np.linspace(a, b, n+1)\n",
        "print(\"La integral aproximada por la regla de simpson 1/3 simple es:\", Simpson13Simple(x), \"; Error (%):\", ErrorSimpson13Simple(IR, x))\n",
        "# Simpson 3/8 simple\n",
        "n = 3           # numero de segmentos \n",
        "x = np.linspace(a, b, n+1)\n",
        "print(\"La integral aproximada por la regla de simpson 3/8 simple es:\", Simpson38Simple(x), \"; Error (%):\", ErrorSimpson38Simple(IR, x))\n"
      ],
      "execution_count": 9,
      "outputs": [
        {
          "output_type": "stream",
          "text": [
            "La integral aproximada por la regla de trapecio simple es: 4.409536324005549 ; Error (%): 364.88498147702944\n",
            "La integral aproximada por la regla de simpson 1/3 simple es: 4.521958048325281 ; Error (%): 376.7372868868915\n",
            "La integral aproximada por la regla de simpson 3/8 simple es: 4.522640033621997 ; Error (%): 376.8091866737932\n"
          ],
          "name": "stdout"
        }
      ]
    },
    {
      "cell_type": "markdown",
      "metadata": {
        "id": "0id_GI2BPoYr"
      },
      "source": [
        "#**Paso 5: Evaluamos las reglas compuestas**"
      ]
    },
    {
      "cell_type": "code",
      "metadata": {
        "id": "GbWK3tiAP7QM",
        "colab": {
          "base_uri": "https://localhost:8080/"
        },
        "outputId": "3508d4a3-708c-4d74-9001-cee2825dfe9a"
      },
      "source": [
        "# Trapecio Compuesto \n",
        "n = 10 # numero de segmentos\n",
        "x = np.linspace(a, b, n+1)             # n+1 puntos\n",
        "print(\"La integral aproximada por la regla de trapecio compuesta es:\", Trapecio(a, b, x), \"; Error (%):\", ErrorTrapecio(IR, a, b, x))\n",
        "# Simpson 1/3 simple\n",
        "n = 10           # numero de segmentos  (par)\n",
        "x = np.linspace(a, b, n+1)\n",
        "print(\"La integral aproximada por la regla de simpson 1/3 compuesta es:\", Simpson13(a, b, x), \"; Error (%):\",  ErrorSimpson13(IR, a, b, x))\n",
        "# Simpson 3/8 simple\n",
        "n = 10          # numero de segmentos (multiplos de 3)\n",
        "h = (b - a) / n\n",
        "x = np.linspace(a, b, n+1)\n",
        "print(\"La integral aproximada por la regla de simpson 3/8 compuesta es:\", Simpson38(a, b, x), \"; Error (%):\",ErrorSimpson38(IR, a, b, x))\n",
        "\n",
        "#Simpson 3/8 simple(pares)\n",
        "n = 10                          # numero de segmentos (multiplo de 3)"
      ],
      "execution_count": 10,
      "outputs": [
        {
          "output_type": "stream",
          "text": [
            "La integral aproximada por la regla de trapecio compuesta es: 4.522025766125009 ; Error (%): 376.7444261835792\n",
            "La integral aproximada por la regla de simpson 1/3 compuesta es: 4.5232123719587 ; Error (%): 376.86952669086224\n",
            "La integral aproximada por la regla de simpson 3/8 compuesta es: 3.9938972513648965 ; Error (%): 321.06532598768365\n"
          ],
          "name": "stdout"
        }
      ]
    },
    {
      "cell_type": "code",
      "metadata": {
        "id": "A290aI4KS_Yw",
        "colab": {
          "base_uri": "https://localhost:8080/"
        },
        "outputId": "656c5295-42d6-47a1-f1ff-4308a54159d3"
      },
      "source": [
        "# Trapecio Compuesto \n",
        "n = 16 # numero de segmentos\n",
        "x = np.linspace(a, b, n+1)             # n+1 puntos\n",
        "print(\"La integral aproximada por la regla de trapecio compuesta es:\", Trapecio(a, b, x), \"; Error (%):\", ErrorTrapecio(IR, a, b, x))\n",
        "# Simpson 1/3 simple\n",
        "n = 16           # numero de segmentos  (par)\n",
        "x = np.linspace(a, b, n+1)\n",
        "print(\"La integral aproximada por la regla de simpson 1/3 compuesta es:\", Simpson13(a, b, x), \"; Error (%):\",  ErrorSimpson13(IR, a, b, x))\n",
        "# Simpson 3/8 simple\n",
        "n = 16          # numero de segmentos (multiplos de 3)\n",
        "h = (b - a) / n\n",
        "x = np.linspace(a, b, n+1)\n",
        "print(\"La integral aproximada por la regla de simpson 3/8 compuesta es:\", Simpson38(a, b, x), \"; Error (%):\",ErrorSimpson38(IR, a, b, x))\n",
        "\n",
        "#Simpson 3/8 simple(pares)\n",
        "n = 16                          # numero de segmentos (multiplo de 3)"
      ],
      "execution_count": 11,
      "outputs": [
        {
          "output_type": "stream",
          "text": [
            "La integral aproximada por la regla de trapecio compuesta es: 4.5227502747287005 ; Error (%): 376.8208090828363\n",
            "La integral aproximada por la regla de simpson 1/3 compuesta es: 4.523214560398944 ; Error (%): 376.86975741194664\n",
            "La integral aproximada por la regla de simpson 3/8 compuesta es: 4.18926674125567 ; Error (%): 341.6625804415364\n"
          ],
          "name": "stdout"
        }
      ]
    },
    {
      "cell_type": "markdown",
      "metadata": {
        "id": "MiS-ksMsTRz5"
      },
      "source": [
        "#**Paso 5: Cuadratura de Gauss**"
      ]
    },
    {
      "cell_type": "code",
      "metadata": {
        "id": "4SuJ7pH0TftX",
        "colab": {
          "base_uri": "https://localhost:8080/"
        },
        "outputId": "abe26330-2605-49eb-8f3a-23947cc711ab"
      },
      "source": [
        "# con dos puntos\n",
        "xd_0 = -0.577350269\n",
        "xd_1 =  0.577350269\n",
        "C0 = 1\n",
        "C1 = 1\n",
        "dx = (b - a) / 2 #b dxd\n",
        "x0 = ((b + a ) + (b - a) * xd_0) / 2\n",
        "x1 = ((b + a ) + (b - a) * xd_1) / 2\n",
        "F0 = f(x0)* dx\n",
        "F1 = f(x1) * dx\n",
        "ICG2 = C0 * F0 + C1 * F1\n",
        "\n",
        "print(\"La integral aproximada por el método de cuadratura de Gauss con 2 puntos es: \" , ICG2, \"; Error (%)\" , (abs(IR -ICG2) / IR) * 100)\n",
        "\n",
        "# con tres puntos \n",
        "xd_0 = -0.774596669\n",
        "xd_1 =  0\n",
        "xd_2 =  0.774596669  \n",
        "C0 = 0.55555\n",
        "C1 = 0.88888\n",
        "C2 = 0.55555\n",
        "dx = (b - a) / 2 #b dxd\n",
        "x0 = ((b + a ) + (b - a) * xd_0) / 2\n",
        "x1 = ((b + a ) + (b - a) * xd_1) / 2\n",
        "x2 = ((b + a ) + (b - a) * xd_1) / 2\n",
        "F0 = f(x0) * dx\n",
        "F1 = f(x1) * dx\n",
        "F2 = f(x1) * dx\n",
        "ICG3 = C0 * F0 + C1 * F1 + C2 * F2\n",
        "\n",
        "print(\"La integral aproximada por el método de cuadratura de Gauss con 3 puntos es: \" , ICG3, \"; Error (%)\" , (abs(IR -ICG3) / IR) * 100)"
      ],
      "execution_count": 12,
      "outputs": [
        {
          "output_type": "stream",
          "text": [
            "La integral aproximada por el método de cuadratura de Gauss con 2 puntos es:  4.5240374652688375 ; Error (%) 376.95651395211047\n",
            "La integral aproximada por el método de cuadratura de Gauss con 3 puntos es:  4.335512340756063 ; Error (%) 357.0808416416344\n"
          ],
          "name": "stdout"
        }
      ]
    }
  ]
}