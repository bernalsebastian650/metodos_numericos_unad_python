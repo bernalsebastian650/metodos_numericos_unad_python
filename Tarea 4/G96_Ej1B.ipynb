{
  "nbformat": 4,
  "nbformat_minor": 0,
  "metadata": {
    "colab": {
      "name": "G96_Jhon_Sebastian_Bernal_Ej1B.ipynb",
      "provenance": [],
      "collapsed_sections": []
    },
    "kernelspec": {
      "name": "python3",
      "display_name": "Python 3"
    },
    "language_info": {
      "name": "python"
    }
  },
  "cells": [
    {
      "cell_type": "markdown",
      "metadata": {
        "id": "IhQuJo2N-iLm"
      },
      "source": [
        "#**Ejercicio 1: Diferenciación Numérica**"
      ]
    },
    {
      "cell_type": "markdown",
      "metadata": {
        "id": "vm_dYKkGiPd7"
      },
      "source": [
        "#**$$DESARROLLO$$**"
      ]
    },
    {
      "cell_type": "markdown",
      "metadata": {
        "id": "1yKyp7pFkdAQ"
      },
      "source": [
        "#Diferencias finitas - Primera Derevida\n",
        "\n"
      ]
    },
    {
      "cell_type": "markdown",
      "metadata": {
        "id": "ouLaiLSdlkqU"
      },
      "source": [
        "#**Paso 1**"
      ]
    },
    {
      "cell_type": "code",
      "metadata": {
        "id": "4P5_HjkLlv_S"
      },
      "source": [
        "import numpy as np                                 #Importamos la libreria de numpy\n",
        "\n",
        "def f(x):                                          #Definimos la funcion\n",
        "   return np.cos(x)                            #Retorna resultado al llamar la funcion "
      ],
      "execution_count": 26,
      "outputs": []
    },
    {
      "cell_type": "markdown",
      "metadata": {
        "id": "mCP30tbCoHJx"
      },
      "source": [
        "#**Paso 2**"
      ]
    },
    {
      "cell_type": "code",
      "metadata": {
        "id": "rqRoCGPDoP3X"
      },
      "source": [
        "#Esquema df primera derivada Foward\n",
        "#f prima Forward\n",
        "\n",
        "def fpf(x0, h):                                    #Definimos la de diferencial de f prima   Forward          \n",
        "    return (f(x0 + h) -f(x0)) / h                  #Retorna resultado al llamar la funcion  "
      ],
      "execution_count": 2,
      "outputs": []
    },
    {
      "cell_type": "code",
      "metadata": {
        "id": "LA8GywlBpmpK"
      },
      "source": [
        "#Esquema df primera derivada Foward df primera derivada central\n",
        "\n",
        "def fpc(x0, h):                                   #Definimos la funcion de diferencial de primera  derivada  central\n",
        "    return (f(x0 + h) - f(x0 - h)) / (2 * h)      #Retorna resultado al llamar la funcion "
      ],
      "execution_count": 27,
      "outputs": []
    },
    {
      "cell_type": "code",
      "metadata": {
        "id": "Te1cB0h4rFW_"
      },
      "source": [
        "#Esquema df primera derivada Backward\n",
        "\n",
        "def fpb(x0, h):                                    #Definimos la funcion de diferencial de prima   Backward\n",
        "    return (f(x0) - f(x0 - h)) / h                 #Retorna resultado al llamar la funcion "
      ],
      "execution_count": 28,
      "outputs": []
    },
    {
      "cell_type": "markdown",
      "metadata": {
        "id": "c9BThABM2047"
      },
      "source": [
        "#**Paso 3**\n",
        "\n"
      ]
    },
    {
      "cell_type": "code",
      "metadata": {
        "id": "jyJZHVNj4Mx-",
        "colab": {
          "base_uri": "https://localhost:8080/"
        },
        "outputId": "169801c6-61ef-4a49-877a-de077f643ee8"
      },
      "source": [
        "#Ingreso de datos y ejecución de las derivadas\n",
        "x = (27.5 * np.pi) / 180                                   #Se Converte grados en radianes\n",
        "h = 0.5                                                    #Tamaño de paso segun el ejercicio \n",
        "print(\"El valor de x en radianes es:\", x)                  #Se imprime x"
      ],
      "execution_count": 29,
      "outputs": [
        {
          "output_type": "stream",
          "text": [
            "El valor de x en radianes es: 0.4799655442984406\n"
          ],
          "name": "stdout"
        }
      ]
    },
    {
      "cell_type": "code",
      "metadata": {
        "colab": {
          "base_uri": "https://localhost:8080/"
        },
        "id": "KnvDevcU6HE2",
        "outputId": "d44325cd-7aa2-43ca-9d17-8dc1c97b10b7"
      },
      "source": [
        "fpf(x, h)                                                  #Esta es a primera derivada de la funcion csc(x) hacia adelante"
      ],
      "execution_count": 30,
      "outputs": [
        {
          "output_type": "execute_result",
          "data": {
            "text/plain": [
              "-0.6599193427462278"
            ]
          },
          "metadata": {
            "tags": []
          },
          "execution_count": 30
        }
      ]
    },
    {
      "cell_type": "code",
      "metadata": {
        "colab": {
          "base_uri": "https://localhost:8080/"
        },
        "id": "gMJy5OKT6vM7",
        "outputId": "fc2e4344-b4c0-4a3a-9d7f-717a97accc09"
      },
      "source": [
        "fpc (x,h)                                                  #Esta es a primera derivada de la funcion csc(x) central"
      ],
      "execution_count": 31,
      "outputs": [
        {
          "output_type": "execute_result",
          "data": {
            "text/plain": [
              "-0.44274815519989996"
            ]
          },
          "metadata": {
            "tags": []
          },
          "execution_count": 31
        }
      ]
    },
    {
      "cell_type": "code",
      "metadata": {
        "colab": {
          "base_uri": "https://localhost:8080/"
        },
        "id": "ScpZMBEO7GRp",
        "outputId": "121ecbc8-a6c6-412c-9a45-9367c545df5c"
      },
      "source": [
        "fpb(x, h)                                                  #Esta es a primera derivada de la funcion csc(x) hacia atras"
      ],
      "execution_count": 32,
      "outputs": [
        {
          "output_type": "execute_result",
          "data": {
            "text/plain": [
              "-0.22557696765357216"
            ]
          },
          "metadata": {
            "tags": []
          },
          "execution_count": 32
        }
      ]
    },
    {
      "cell_type": "markdown",
      "metadata": {
        "id": "A2DYgGKm7nme"
      },
      "source": [
        "#**Paso 4.1 - Tabla para primera derivada hacia adelante**"
      ]
    },
    {
      "cell_type": "markdown",
      "metadata": {
        "id": "DbyPiFv377HO"
      },
      "source": [
        "#Elemeto 1: Definimos la derivada real"
      ]
    },
    {
      "cell_type": "code",
      "metadata": {
        "id": "1aE-lrTp74bY"
      },
      "source": [
        "#Definimos la derivada y guardamos el valor en la variable DR\n",
        "\n",
        "DR = -(np.sin(x))                                         #Se define la derivada analitica cotagente "
      ],
      "execution_count": 34,
      "outputs": []
    },
    {
      "cell_type": "markdown",
      "metadata": {
        "id": "HsFui61QDWN4"
      },
      "source": [
        "#Elemeto 2: El error relativo porcentual"
      ]
    },
    {
      "cell_type": "code",
      "metadata": {
        "id": "X6f4pMboDpDC"
      },
      "source": [
        "def ErrorRP(DR, x, h):                                            #Se define el error relativo porcentual\n",
        "  return(abs(DR - fpf(x, h)) / DR) * 100                          "
      ],
      "execution_count": 33,
      "outputs": []
    },
    {
      "cell_type": "code",
      "metadata": {
        "colab": {
          "base_uri": "https://localhost:8080/"
        },
        "id": "PQXbS1sAEhQA",
        "outputId": "2ffadb86-1ee7-461d-9237-47e754f13354"
      },
      "source": [
        "from tabulate import tabulate                                     #Se define la tabla ´para mostrar el tamaño de h, la aproximacion de la derivada y el error\n",
        "\n",
        "DFinitas = [[\"0.5\", fpf(x, 0.5), ErrorRP(DR, x, 0.5)], [\"0.05\", fpf(x, 0.05), ErrorRP(DR, x, 0.05)],[\"0.01\", fpf(x, 0.01), ErrorRP(DR, x, 0.01)]]\n",
        "print(tabulate(DFinitas, headers = [\"tamaño h\", \"Derivada aprox\", \"Error(%)\"], tablefmt = \"francy_grid\"))"
      ],
      "execution_count": 35,
      "outputs": [
        {
          "output_type": "stream",
          "text": [
            "  tamaño h    Derivada aprox    Error(%)\n",
            "----------  ----------------  ----------\n",
            "      0.5          -0.659919  -42.9174\n",
            "      0.05         -0.483727   -4.75979\n",
            "      0.01         -0.466176   -0.958816\n"
          ],
          "name": "stdout"
        }
      ]
    },
    {
      "cell_type": "markdown",
      "metadata": {
        "id": "_374FRAlEhQY"
      },
      "source": [
        "# **Análisis:** Segun la primera derivada hacia adelante podemos observar  que entre mayor sea el tamaño de h el error relativo porcentual es mayor."
      ]
    },
    {
      "cell_type": "markdown",
      "metadata": {
        "id": "lZVwhKSYGP6Y"
      },
      "source": [
        "#**Paso 4.2 - Tabla para primera derivada hacia atrás**"
      ]
    },
    {
      "cell_type": "code",
      "metadata": {
        "id": "nTrp7oAvFL8o"
      },
      "source": [
        "def ErrorRP(DR, x, h):                                                  #Se Define el error relativo porcentual\n",
        "  return(abs(DR - fpb(x, h)) / DR) * 100                               "
      ],
      "execution_count": 36,
      "outputs": []
    },
    {
      "cell_type": "code",
      "metadata": {
        "colab": {
          "base_uri": "https://localhost:8080/"
        },
        "id": "p7LUGU29b60L",
        "outputId": "f44ee2d3-fa28-4b9d-b044-74fdd8d605b8"
      },
      "source": [
        "from tabulate import tabulate\n",
        "\n",
        "DFinitas = [[\"0.5\", fpb(x, 0.5), ErrorRP(DR, x, 0.5)], [\"0.05\", fpb(x, 0.05), ErrorRP(DR, x, 0.05)],[\"0.01\", fpb(x, 0.01), ErrorRP(DR, x, 0.01)]]\n",
        "print(tabulate(DFinitas, headers = [\"tamaño h\", \"Derivada aprox\", \"Error(%)\"], tablefmt = \"francy_grid\"))"
      ],
      "execution_count": 37,
      "outputs": [
        {
          "output_type": "stream",
          "text": [
            "  tamaño h    Derivada aprox    Error(%)\n",
            "----------  ----------------  ----------\n",
            "      0.5          -0.225577   -51.1472\n",
            "      0.05         -0.439386    -4.84312\n",
            "      0.01         -0.457306    -0.96215\n"
          ],
          "name": "stdout"
        }
      ]
    },
    {
      "cell_type": "code",
      "metadata": {
        "id": "br6qaq5uBk0u"
      },
      "source": [
        ""
      ],
      "execution_count": 13,
      "outputs": []
    },
    {
      "cell_type": "markdown",
      "metadata": {
        "id": "JL3w_epKNF_Y"
      },
      "source": [
        "# **Análisis:** Segun la primera derivada hacia atras podemos observar  que entre mayor sea derivada aproximada, el error relativo porcentual es mayor."
      ]
    },
    {
      "cell_type": "markdown",
      "metadata": {
        "id": "QSOMfdL3dckf"
      },
      "source": [
        "#**Paso 4.2 - Tabla para primera derivada centrada**"
      ]
    },
    {
      "cell_type": "code",
      "metadata": {
        "id": "MvTYcAwjnphl"
      },
      "source": [
        "def ErrorRP(DR, x, h):                                                    #Se define el error relativo porcentual\n",
        "  return(abs(DR - fpc(x, h)) / DR) * 100                            "
      ],
      "execution_count": 38,
      "outputs": []
    },
    {
      "cell_type": "code",
      "metadata": {
        "colab": {
          "base_uri": "https://localhost:8080/"
        },
        "id": "Ol6KmpYNnpVd",
        "outputId": "d108584c-cc98-4499-c65c-94a9a87e6af0"
      },
      "source": [
        "from tabulate import tabulate\n",
        "\n",
        "DFinitas = [[\"0.5\", fpc(x, 0.5), ErrorRP(DR, x, 0.5)], [\"0.05\", fpc(x, 0.05), ErrorRP(DR, x, 0.05)],[\"0.01\", fpc(x, 0.01), ErrorRP(DR, x, 0.01)]]\n",
        "print(tabulate(DFinitas, headers = [\"tamaño h\", \"Derivada aprox\", \"Error(%)\"], tablefmt = \"francy_grid\"))"
      ],
      "execution_count": 39,
      "outputs": [
        {
          "output_type": "stream",
          "text": [
            "  tamaño h    Derivada aprox     Error(%)\n",
            "----------  ----------------  -----------\n",
            "      0.5          -0.442748  -4.11489\n",
            "      0.05         -0.461556  -0.0416615\n",
            "      0.01         -0.461741  -0.00166666\n"
          ],
          "name": "stdout"
        }
      ]
    },
    {
      "cell_type": "markdown",
      "metadata": {
        "id": "dC9tRvJONt80"
      },
      "source": [
        "# **Análisis:** Segun la primera derivada centrada podemos observar  que entre mayor sea el tamaño de h el error relativo porcentual es mayor.\n"
      ]
    },
    {
      "cell_type": "markdown",
      "metadata": {
        "id": "j3iT0yhnob-F"
      },
      "source": [
        "#**Diferencias finitas - Segunda Derevida**"
      ]
    },
    {
      "cell_type": "markdown",
      "metadata": {
        "id": "APDuTxLxp6VH"
      },
      "source": [
        "#**Paso 1**"
      ]
    },
    {
      "cell_type": "code",
      "metadata": {
        "id": "9z-j_tizqXj8"
      },
      "source": [
        "#Se definine nuestros esquemas para la segunda derivada\n",
        "#Esquema df seguda derivada de Forward\n",
        "\n",
        "def fsf(x0, h):                                                    #Se define la segunda derevida fsf\n",
        "    return (f(x0) - 2 * f(x0 + h) + f(x0 + 2 * h)) / h ** 2        "
      ],
      "execution_count": 40,
      "outputs": []
    },
    {
      "cell_type": "code",
      "metadata": {
        "id": "V9kTMIFNrK2J"
      },
      "source": [
        "#Esquema df segunda derivada central\n",
        "\n",
        "def fsc(x0, h):                                                     #Se define la segunda derevida fsc\n",
        "    return (f(x0 - h) - 2 * f(x0) + f(x0 + h)) / h ** 2                  "
      ],
      "execution_count": 41,
      "outputs": []
    },
    {
      "cell_type": "code",
      "metadata": {
        "id": "xivwkAharR26"
      },
      "source": [
        "#Esquema df segunda derivada Backward\n",
        "\n",
        "def fsb(x0, h):                                                      #Se define la segunda derevida fsb\n",
        "    return (f(x0 - 2 * h) - 2 * f(x0 - h) + f(x0)) / h ** 2      "
      ],
      "execution_count": 42,
      "outputs": []
    },
    {
      "cell_type": "markdown",
      "metadata": {
        "id": "E5Mf-MNLrzGE"
      },
      "source": [
        "#**Paso 2.1: Tabla de la segunda derivada hacia adelante**"
      ]
    },
    {
      "cell_type": "code",
      "metadata": {
        "id": "G7ElJ9g3sBk6"
      },
      "source": [
        "#Se Define la segunda derivada real\n",
        "SDR = -(np.cos(x))                  #Se define la segunda derivada del ejercicio"
      ],
      "execution_count": 43,
      "outputs": []
    },
    {
      "cell_type": "code",
      "metadata": {
        "id": "_CXYxBh55TE9"
      },
      "source": [
        "def ErrorRP(SDR, x, h):                                            #Se define el error relativo porcentual\n",
        "  return(abs(SDR - fsf(x, h)) / SDR) * 100                        "
      ],
      "execution_count": 44,
      "outputs": []
    },
    {
      "cell_type": "code",
      "metadata": {
        "colab": {
          "base_uri": "https://localhost:8080/"
        },
        "id": "JAsUei_o5Vpk",
        "outputId": "b44c368e-5618-4441-f349-b7845e798ac0"
      },
      "source": [
        "DFinitas = [[\"0.5\", fsf(x, 0.5), ErrorRP(DR, x, 0.5)], [\"0.05\", fsf(x, 0.05), ErrorRP(DR, x, 0.05)],[\"0.01\", fsf(x, 0.01), ErrorRP(DR, x, 0.01)]]\n",
        "print(tabulate(DFinitas, headers = [\"tamaño h\", \"Derivada aprox\", \"Error(%)\"], tablefmt = \"francy_grid\"))"
      ],
      "execution_count": 45,
      "outputs": [
        {
          "output_type": "stream",
          "text": [
            "  tamaño h    Derivada aprox    Error(%)\n",
            "----------  ----------------  ----------\n",
            "      0.5          -0.545542    -18.147\n",
            "      0.05         -0.862645    -86.8213\n",
            "      0.01         -0.882342    -91.087\n"
          ],
          "name": "stdout"
        }
      ]
    },
    {
      "cell_type": "markdown",
      "metadata": {
        "id": "AYtBvIW5OiNL"
      },
      "source": [
        "# **Análisis:** Según la segunda derivada hacia adelante podemos observar  que entre mayor sea el tamaño de h el error relativo porcentual es mayor."
      ]
    },
    {
      "cell_type": "markdown",
      "metadata": {
        "id": "7IcuTmgR98hY"
      },
      "source": [
        "#**Paso 2.2 - Tabla de la segunda derivada hacia atras**"
      ]
    },
    {
      "cell_type": "code",
      "metadata": {
        "id": "JZg63Rbg-WBt"
      },
      "source": [
        "def ErrorRP(SDR, x, h):                                                 #Se define el error relativo porcentual\n",
        "  return(abs(SDR - fsb(x, h)) / SDR) * 100                     "
      ],
      "execution_count": 46,
      "outputs": []
    },
    {
      "cell_type": "code",
      "metadata": {
        "colab": {
          "base_uri": "https://localhost:8080/"
        },
        "id": "5vDyD9WD-Yx_",
        "outputId": "22176570-a95c-43e4-d6bf-6a8afb679e90"
      },
      "source": [
        "DFinitas = [[\"0.5\", fsb(x, 0.5), ErrorRP(DR, x, 0.5)], [\"0.05\", fsb(x, 0.05), ErrorRP(DR, x, 0.05)],[\"0.01\", fsb(x, 0.01), ErrorRP(DR, x, 0.01)]]\n",
        "print(tabulate(DFinitas, headers = [\"tamaño h\", \"Derivada aprox\", \"Error(%)\"], tablefmt = \"francy_grid\"))"
      ],
      "execution_count": 47,
      "outputs": [
        {
          "output_type": "stream",
          "text": [
            "  tamaño h    Derivada aprox    Error(%)\n",
            "----------  ----------------  ----------\n",
            "      0.5          -0.979143    -112.051\n",
            "      0.05         -0.908791     -96.815\n",
            "      0.01         -0.891576     -93.087\n"
          ],
          "name": "stdout"
        }
      ]
    },
    {
      "cell_type": "markdown",
      "metadata": {
        "id": "-gq3txFfPbvl"
      },
      "source": [
        "# **Análisis:** Según la segunda derivada hacia atrás podemos observar que entre menor sea el tamaño de h el error relativo porcentual es mayor.\n",
        "\n"
      ]
    },
    {
      "cell_type": "markdown",
      "metadata": {
        "id": "pJKnDTU7-k3X"
      },
      "source": [
        "#**Paso 2.3: Tabla de la segunda derivada central**"
      ]
    },
    {
      "cell_type": "code",
      "metadata": {
        "id": "9cODxUGF-yag"
      },
      "source": [
        "def ErrorRP(SDR, x, h):                                                           #Se define el error relativo porcentual\n",
        "  return(abs(SDR - fsc(x, h)) / SDR) * 100                                    "
      ],
      "execution_count": 48,
      "outputs": []
    },
    {
      "cell_type": "code",
      "metadata": {
        "colab": {
          "base_uri": "https://localhost:8080/"
        },
        "id": "l5m3IQrh-1gL",
        "outputId": "993ad45f-db84-4ae4-f019-7b4c129e5469"
      },
      "source": [
        "DFinitas = [[\"0.5\", fsc(x, 0.5), ErrorRP(DR, x, 0.5)], [\"0.05\", fsc(x, 0.05), ErrorRP(DR, x, 0.05)],[\"0.01\", fsc(x, 0.01), ErrorRP(DR, x, 0.01)]]\n",
        "print(tabulate ( DFinitas, headers = [\"tamaño h\", \" erivada aprox\", \"Error(%)\"], tablefmt = \" francy_grid\"))"
      ],
      "execution_count": 49,
      "outputs": [
        {
          "output_type": "stream",
          "text": [
            "  tamaño h     erivada aprox    Error(%)\n",
            "----------  ----------------  ----------\n",
            "      0.5          -0.868685    -88.1294\n",
            "      0.05         -0.886826    -92.0582\n",
            "      0.01         -0.887003    -92.0966\n"
          ],
          "name": "stdout"
        }
      ]
    },
    {
      "cell_type": "markdown",
      "metadata": {
        "id": "O7cspaaUP1s6"
      },
      "source": [
        "# **Análisis:** Según la segunda derivada central podemos observar  que entre mayor sea el tamaño de h el error relativo porcentual es mayor."
      ]
    },
    {
      "cell_type": "markdown",
      "metadata": {
        "id": "MoOts3JH5njB"
      },
      "source": [
        "# **Video:** https://youtu.be/bOKRiEqyxtg"
      ]
    }
  ]
}