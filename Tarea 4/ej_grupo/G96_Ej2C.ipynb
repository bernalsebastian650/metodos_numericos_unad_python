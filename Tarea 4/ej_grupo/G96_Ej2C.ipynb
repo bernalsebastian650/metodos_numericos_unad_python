{
  "nbformat": 4,
  "nbformat_minor": 0,
  "metadata": {
    "colab": {
      "name": "G96_Omar Hernando Rojas García_Ej2C..ipynb",
      "provenance": [],
      "collapsed_sections": []
    },
    "kernelspec": {
      "name": "python3",
      "display_name": "Python 3"
    },
    "language_info": {
      "name": "python"
    }
  },
  "cells": [
    {
      "cell_type": "markdown",
      "metadata": {
        "id": "oGVdWTgzrCRT"
      },
      "source": [
        "# $$ Métodos de Integración Numérica $$\n",
        "\n",
        "La integración​ numérica constituye una amplia gama de algoritmos para calcular el valor numérico de una integral definida y, por extensión, el término se usa a veces para describir algoritmos numéricos para resolver ecuaciones diferenciales.\n",
        "\n",
        "El problema básico considerado por la integración numérica es calcular una solución aproximada a la integral definida:  $$ \\int_{a}^{b}{f(x)dx} $$\n",
        "\n",
        "Este problema también puede ser enunciado como un problema de valor inicial para una ecuación diferencial ordinaria, como sigue: $$ y'(x) = f(x),  y(a) = 0 $$"
      ]
    },
    {
      "cell_type": "markdown",
      "metadata": {
        "id": "mpRbkdNZPQh_"
      },
      "source": [
        "# **Métodos de Integración Numérica**\n",
        "\n",
        "**Descripción del ejercicio:**\n",
        "\n",
        "Dadas las siguientes integrales,\n",
        "\n",
        "**C**. y = $$\\int_{1}^{\\pi}{\\sqrt cos(x)^2 dx} $$"
      ]
    },
    {
      "cell_type": "markdown",
      "metadata": {
        "id": "NneEWI3SMPWX"
      },
      "source": [
        "  **Paso 1: Definimos la función a integrar**"
      ]
    },
    {
      "cell_type": "code",
      "metadata": {
        "id": "7RNGrSiXMyGm"
      },
      "source": [
        "import numpy as np\n",
        "\n",
        "def f(x):\n",
        "  return 1 / (x**2 + np.cos(x))"
      ],
      "execution_count": null,
      "outputs": []
    },
    {
      "cell_type": "markdown",
      "metadata": {
        "id": "OZG1gA0SNwCa"
      },
      "source": [
        "**Paso 2: Definimos los métodos para las diferentes funciones**\n",
        "**Reglas simples:**  $$ I \\approx = (b -a) \\dfrac{\\ f(a) + f(b)} {2} $$\n"
      ]
    },
    {
      "cell_type": "markdown",
      "metadata": {
        "id": "cxwGC75FSGWl"
      },
      "source": [
        "**Simpson 1/3 simple:**  $$ I \\approx = \\dfrac{\\ (b - a)} {6}[f(x_{0}) + 4f(x_{1})+f(x_{2})] $$"
      ]
    },
    {
      "cell_type": "markdown",
      "metadata": {
        "id": "jGh-vvGqUG6d"
      },
      "source": [
        "**Simpson 3/8 simple:**  $$ I \\approx = \\dfrac{\\ (b - a)} {8}[f(x_{0}) + 3f(x_{1})+3f(x_{2})+ f(x_{3})] $$"
      ]
    },
    {
      "cell_type": "markdown",
      "metadata": {
        "id": "5f9Liy-6bAka"
      },
      "source": [
        "**Reglas Compuestas:** $$ I \\approx = \\dfrac{\\ h} {2}[f(x_{0}) + 2{\\sum_{i=1}^{n-1}f(x_{i})} + f(x_{n})] $$"
      ]
    },
    {
      "cell_type": "markdown",
      "metadata": {
        "id": "P2Jzgqv3duPy"
      },
      "source": [
        "**Simpson 1/3 compuesta:** $$ I \\approx = \\dfrac{\\ (b-a)} {3n}[f(x_{0}) + 4{\\sum_{i=1,3,5,...}^{n-1}f(x_{i})} + 2{\\sum_{i=2,4,6,...}^{n-2}f(x_{i})+ f(x_{n})}] $$"
      ]
    },
    {
      "cell_type": "markdown",
      "metadata": {
        "id": "JB0YuB8Vfkgq"
      },
      "source": [
        "**Simpson 1/3 compuesta:** $$ I \\approx = \\dfrac{\\ (3h)} {8}[f(x_{0})+3{\\sum_{i=0}^{\\dfrac{\\ n}{3}-1}f(x_{3i+1})}+3{\\sum_{i=0}^{\\dfrac{\\ n}{3}-1}f(x_{3i+2})+2{\\sum_{i=0}^{\\dfrac{\\ n}{3}-2}f(x_{3i+3})+f(x_{n})}}] $$"
      ]
    },
    {
      "cell_type": "markdown",
      "metadata": {
        "id": "o7MPMdtekRo5"
      },
      "source": [
        "**Cuadratura de Gauss (2 y 3 puntos)**  $$ I \\approx = C_{0} F(x_{0})+C_{1} F(x_{1})+C_{2} F(x_{2})$$\n",
        "\n",
        "donde F es f(x) elevada en $$x_{i} = \\dfrac{\\ (b+a)+(b-a)}{2}x_{di} $$ \n",
        "\n",
        "y $$ d_{x} = \\dfrac{\\ (b - a)}{2}dx_{d} $$"
      ]
    },
    {
      "cell_type": "code",
      "metadata": {
        "id": "XDy29b8MzJtz"
      },
      "source": [
        "# Trapecio Simple\n",
        "\n",
        "def TrapecioSimple(a, b):\n",
        "  return (b - a)*(f(a) + f(b)) / 2\n",
        "def ErrorTrapecioSimple(IR, a, b):\n",
        "  return (abs(IR - TrapecioSimple(a, b)) / IR) * 100\n",
        "\n",
        "# Trapecio Compuesto\n",
        "def TrapecioC(a, b, x):\n",
        "  suma = 0 \n",
        "  for i in range(1, n):\n",
        "    suma = suma + 2 * f(x[i])\n",
        "  return (b - a) / (2 * n) * (f(a) + suma + f(b))\n",
        "def ErrorTrapecioC(IR, a, b, x):\n",
        "  return (abs(IR - TrapecioC(a, b, x)) / IR) * 100\n",
        "\n",
        "# Simpson 1/3 Simple\n",
        "\n",
        "def Simpson13Simple(x):                                      # [x0 x1 x2]\n",
        "  return (x[2] - x[0]) / 6 * (f(x[0]) + 4 * f(x[1]) + f(x[2]))\n",
        "def ErrorSimpson13Simple(IR, x):\n",
        "  return (abs(IR - Simpson13Simple(x)) / IR) * 100\n",
        "\n",
        "# Simpson 1/3 Compuesto\n",
        "def Simpson13C(a, b, x):\n",
        "  suma = 0 \n",
        "  for i in range(1, n, 2):\n",
        "    suma = suma + 4 * f(x[i])\n",
        "  for i in range(2, n-1, 2):\n",
        "    suma = suma + 2 * f(x[i])\n",
        "  return (b - a) / (3 * n) * (f(a) + suma + f(b))\n",
        "def ErrorSimpson13C(IR, a, b, x):\n",
        "  return (abs(IR - Simpson13C(a, b, x)) / IR) * 100\n",
        "\n",
        "\n",
        "# Simpson 3/8 Simple\n",
        "\n",
        "def Simpson38Simple(x):                                      # [x0 x1 x2]\n",
        "  return (x[3] - x[0]) / 8 * (f(x[0]) + 3 * f(x[1]) + 3 * f(x[2]) + f(x[3]))\n",
        "def ErrorSimpson38Simple(IR, x):\n",
        "  return (abs(IR - Simpson38Simple(x)) / IR) * 100\n",
        "\n",
        "# simpson 3/8 Compuesto\n",
        "\n",
        "def Simpson38C(a, b, x):\n",
        "  suma = 0 \n",
        "  m = int(n / 3)\n",
        "  for i in range(0, m):\n",
        "    suma = suma + 3 * f(x[3 * i + 1]) + 3 * f(x[3 * i + 2])\n",
        "  for i in range(0, m-1):\n",
        "    suma = suma + 2 * f(x[3 * i +3])\n",
        "  return (3 / 8)*((b - a) /  m) * (f(a) + suma + f(b))\n",
        "def ErrorSimpson38C(IR, a, b, x):\n",
        "  return (abs(IR - Simpson38C(a, b, x)) / IR) * 100\n",
        "\n"
      ],
      "execution_count": null,
      "outputs": []
    },
    {
      "cell_type": "markdown",
      "metadata": {
        "id": "KDWO2_Ffw9wy"
      },
      "source": [
        "**Paso 3: Definimos las entradas** "
      ]
    },
    {
      "cell_type": "code",
      "metadata": {
        "id": "F8lF5xvBxFLb"
      },
      "source": [
        "a = 1\n",
        "b = np.pi\n",
        "IR = 0.648699"
      ],
      "execution_count": null,
      "outputs": []
    },
    {
      "cell_type": "markdown",
      "metadata": {
        "id": "qFvQqaNw_ikx"
      },
      "source": [
        "**Paso 4: Evaluamos las reglas Simples**"
      ]
    },
    {
      "cell_type": "code",
      "metadata": {
        "colab": {
          "base_uri": "https://localhost:8080/"
        },
        "id": "Lpsfg1icCJK1",
        "outputId": "f058486d-07b7-4fd2-c52f-ff88329f1e9c"
      },
      "source": [
        "# Trapecio Simple\n",
        "print(\"La integral aproximada para la regla de Trapecio Simple es: \", TrapecioSimple(a, b), \";Error(%): \", ErrorTrapecioSimple(IR, a, b))\n",
        "\n",
        "# Simpson 1/3 Simple\n",
        "n = 2                                                  # número de segmentos\n",
        "x = np.linspace(a, b, n+1)\n",
        "print(\"La integral aproximada para la regla de Simpson 1/3 Simple es: \", Simpson13Simple(x), \";Error(%): \", ErrorSimpson13Simple(IR, x))\n",
        "\n",
        "# Simpson 3/8 Simple\n",
        "n = 3                                                  # número de segmentos\n",
        "x = np.linspace(a, b, n+1)\n",
        "print(\"La Integral apróximada para la regla de Simpson 3/8 Simple es: \", Simpson38Simple(x), \"; Error(%): \", ErrorSimpson38Simple(IR, x))\n"
      ],
      "execution_count": null,
      "outputs": [
        {
          "output_type": "stream",
          "text": [
            "La integral aproximada para la regla de Trapecio Simple es:  0.8159123269058809 ;Error(%):  25.77672031340897\n",
            "La integral aproximada para la regla de Simpson 1/3 Simple es:  0.6468234781694601 ;Error(%):  0.28912050589564053\n",
            "La Integral apróximada para la regla de Simpson 3/8 Simple es:  0.647641870120357 ; Error(%):  0.16296153988876427\n"
          ],
          "name": "stdout"
        }
      ]
    },
    {
      "cell_type": "markdown",
      "metadata": {
        "id": "iYzh6Ac8cWer"
      },
      "source": [
        "**Paso 5: Evaluamos las reglas Compuestas**"
      ]
    },
    {
      "cell_type": "code",
      "metadata": {
        "id": "eqVGTysRcdp4",
        "colab": {
          "base_uri": "https://localhost:8080/"
        },
        "outputId": "db1bff0f-7e8e-4bb8-e944-314a336d23b0"
      },
      "source": [
        "# Trapecio Compuesto\n",
        "n = 18                                               # Número de segmentos\n",
        "x = np.linspace(a, b, n+1)\n",
        "print(\"La integral aproximada para la regla de Trapecio Compuesto es: \", TrapecioC(a, b, x), \";Error(%): \", ErrorTrapecioC(IR, a, b, x))\n",
        "\n",
        "# Simpson 1/3 Compuesto\n",
        "n = 18                                               # n es par, es dcir multiplo de 2\n",
        "x = np.linspace(a, b, n+1)\n",
        "print(\"La integral aproximada para la regla de Simpson 1/3 Compuesto es: \", Simpson13C(a, b, x), \";Error(%): \", ErrorSimpson13C(IR, a, b, x))\n",
        "\n",
        "# Simpson 3/8 Compuesto\n",
        "m = 18                                               # n debe ser multiplo de 3 \n",
        "x = np.linspace(a, b, n+1)\n",
        "print(\"La integral aproximada para la regla de Simpson 3/8 Compuesto es: \", Simpson38C(a, b, x), \";Error(%): \", ErrorSimpson38C(IR, a, b, x))"
      ],
      "execution_count": null,
      "outputs": [
        {
          "output_type": "stream",
          "text": [
            "La integral aproximada para la regla de Trapecio Compuesto es:  0.6491819291511037 ;Error(%):  0.07444579860670449\n",
            "La integral aproximada para la regla de Simpson 1/3 Compuesto es:  0.648698947651231 ;Error(%):  8.069808799812997e-06\n",
            "La integral aproximada para la regla de Simpson 3/8 Compuesto es:  1.9460933581709632 ;Error(%):  199.9994385949359\n"
          ],
          "name": "stdout"
        }
      ]
    },
    {
      "cell_type": "markdown",
      "metadata": {
        "id": "yhev4MOrM-dk"
      },
      "source": [
        "**Paso 6: Cuadratura de Gauss**"
      ]
    },
    {
      "cell_type": "code",
      "metadata": {
        "colab": {
          "base_uri": "https://localhost:8080/"
        },
        "id": "ahwTldYJNKaO",
        "outputId": "901e99c7-1664-46c6-959a-b24517db6817"
      },
      "source": [
        "# Con dos puntos\n",
        "\n",
        "xd_0 = -0.577350269\n",
        "xd_1 = 0.577350269\n",
        "C0 = 1\n",
        "C1 = 1\n",
        "dx = (b - a) / 2                           #dxd\n",
        "x0= ((b + a) + (b - a) * xd_0) / 2\n",
        "x1= ((b + a) + (b - a) * xd_1) / 2\n",
        "F0 = f(x0) * dx\n",
        "F1 = f(x1) * dx\n",
        "ICG2 = C0 * F0 + C1 * F1\n",
        "\n",
        "print(\"La integral aproximada por el método de cuadratura de Gauss con dos puntos es: \", ICG2, \"; Error (%)\", (abs(IR - ICG2) / IR) * 100)\n",
        "\n",
        "# Con tres puntos\n",
        "\n",
        "xd_0 = -0.774596669\n",
        "xd_1 = 0\n",
        "xd_2 = 0.774596669\n",
        "C0 = 0.555555555\n",
        "C1 = 0.888888888\n",
        "C2 = 0.555555555\n",
        "dx = (b - a) / 2                           #dxd\n",
        "x0= ((b + a) + (b - a) * xd_0) / 2\n",
        "x1= ((b + a) + (b - a) * xd_1) / 2\n",
        "x2= ((b + a) + (b - a) * xd_2) / 2\n",
        "F0 = f(x0) * dx\n",
        "F1 = f(x1) * dx\n",
        "F2 = f(x2) * dx\n",
        "\n",
        "ICG3 = C0 * F0 + C1 * F1 + C2 * F2\n",
        "\n",
        "print(\"La integral aproximada por el método de cuadratura de Gauss con tres puntos es: \", ICG3, \"; Error (%)\", (abs(IR - ICG3) / IR) * 100)\n"
      ],
      "execution_count": null,
      "outputs": [
        {
          "output_type": "stream",
          "text": [
            "La integral aproximada por el método de cuadratura de Gauss con dos puntos es:  0.6497491457733844 ; Error (%) 0.16188490708084316\n",
            "La integral aproximada por el método de cuadratura de Gauss con tres puntos es:  0.6489182838054446 ; Error (%) 0.033803629332642554\n"
          ],
          "name": "stdout"
        }
      ]
    },
    {
      "cell_type": "markdown",
      "metadata": {
        "id": "dieS8wVxfA5i"
      },
      "source": [
        "**Paso 7: Se tabulan los resultados**"
      ]
    },
    {
      "cell_type": "code",
      "metadata": {
        "id": "r1b-A5ndczH3"
      },
      "source": [
        "from tabulate import tabulate\n",
        "\n",
        "Table =[[\"TrapecioSimple\", TrapecioSimple[2],IR [0.648699], ErrorTrapecioSimple[25.77672031340897], [\"TrapecioCompuesto\", TrapecioC[18], IR[0.648699], ErrorTrapecioC[0.07444579860670449], [\"Simpson13Simple\", Simpson13Simple[2], IR[0.648699], ErrorSimpson13C[0.28912050589564053], [\"Simpson38Simple\", Simpson38Simple[3], IR[0.648699], ErrorSimpson38Simple[0.16296153988876427], [\"Simpson13Compuesto\", Simpson13C[18], IR[0.648699], ErrorSimpson13C[8.069808799812997], [\"Simpson38Compuesto\", Simpson38C[18], IR[0.648699], ErrorSimpson38C[199.9994385949359]]]]]]]]\n",
        "print(tabulate(Table, headers=[\"Nombre del Método, Valor de n, Valor de Integral, Error(%)\"]))"
      ],
      "execution_count": null,
      "outputs": []
    },
    {
      "cell_type": "markdown",
      "metadata": {
        "id": "ebZJJT8Ie-0-"
      },
      "source": [
        "![image.png](data:image/png;base64,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)"
      ]
    },
    {
      "cell_type": "markdown",
      "metadata": {
        "id": "fjj_S10SfNkN"
      },
      "source": [
        "**Paso 8: Se analizan los resultados**"
      ]
    },
    {
      "cell_type": "markdown",
      "metadata": {
        "id": "kk8ajevwu4yt"
      },
      "source": [
        "Teniendo en cuenta los resultados arrojados por la tabla y luego de realizar el desarrollo de la función por cada uno de los métodos de integración vistos tales como; Trapecio Simple, Trapecio Compuesto, Simpson Simple 1/3 y 3/8, y Simpson Compuesto 1/3 y 3/8; Se puede decir que el método mas efectivo para determinar el Error porcentual menor es el de Trapecio Compuesto conociendo el valosr de nuestra Integral Real que es de 0.64899, y cuando el valor de n, es multiplo de 3 y es par; si el numero no cumple esta condición no se podra realizar satisfactoriamente el método y nos arrojara un valor grande; Por otro lado no se trabaja el valor pedido en la guía de actividades ya que no nos muestra los valores que menos no acerca al Error mínimo"
      ]
    },
    {
      "cell_type": "markdown",
      "metadata": {
        "id": "PDGpHZ-AfeCX"
      },
      "source": [
        "**Paso 9: Bibliografía**"
      ]
    },
    {
      "cell_type": "markdown",
      "metadata": {
        "id": "ggK1HpAwxZZL"
      },
      "source": [
        "* Canale, R. P. y P. Canale, R. (2007). Métodos numéricos para \n",
        "ingenieros (5a. ed.). México D.F, México: McGraw-Hill Interamericana. (pp. 619–639, 655–663). "
      ]
    }
  ]
}