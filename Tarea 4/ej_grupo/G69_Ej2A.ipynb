{
  "nbformat": 4,
  "nbformat_minor": 0,
  "metadata": {
    "colab": {
      "name": "G69_Yeisson_Borda_Ej2A.ipynb",
      "provenance": []
    },
    "kernelspec": {
      "name": "python3",
      "display_name": "Python 3"
    },
    "language_info": {
      "name": "python"
    }
  },
  "cells": [
    {
      "cell_type": "markdown",
      "metadata": {
        "id": "vtvcHejwqvBB"
      },
      "source": [
        "# Integración Numérica\n",
        "\n",
        "# Ejercicio 2 \n",
        "\n",
        "![imagen.png](data:image/png;base64,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)"
      ]
    },
    {
      "cell_type": "code",
      "metadata": {
        "id": "t-hiFZGgq-OM"
      },
      "source": [
        "import numpy as np\n",
        "\n",
        "def f(x):                                  # definios el ejercicio 2A en el f(X)\n",
        "  return np.cos(x)/(1+x** 3)"
      ],
      "execution_count": 4,
      "outputs": []
    },
    {
      "cell_type": "markdown",
      "metadata": {
        "id": "HwEKpT3wsGfU"
      },
      "source": [
        "# Paso 2: Definimos los esquemas"
      ]
    },
    {
      "cell_type": "code",
      "metadata": {
        "id": "J2UMa_h4sLQc"
      },
      "source": [
        "# Trapecio simple\n",
        "def TrapecioSimple(a, b):\n",
        "  return (b - a) * (f(a) + f(b))/2\n",
        "def ErrorTrapecioSimple(IR, a, b):\n",
        "  return (abs(IR - TrapecioSimple(a, b)) / IR) * 100\n",
        "# Trapecio compuesto \n",
        "def Trapecio(a, b, x):\n",
        "  suma = 0\n",
        "  for i in range(1, n):\n",
        "    suma = suma + 2 * f(x[i])\n",
        "  return (b - a) / (2*n) * (f(a) + suma + f(b))\n",
        "def ErrorTrapecio(IR, a, b, x):\n",
        "  return (abs(IR - Trapecio(a,b, x)) / IR) * 100\n",
        "\n",
        "# Simpson 1/3 simple\n",
        "def Simpson13Simple(x): # [x0 x1 x2]\n",
        "  return (x[2] - x[0]) / 6 * (f(x[0]) + 4 * f(x[1]) + f(x[2]))\n",
        "def ErrorSimpson13Simple(IR, x):\n",
        "  return (abs(IR - Simpson13Simple(x)) / IR) * 100\n",
        "# Simpson 1/3 compuesto\n",
        "def Simpson13(a, b, x):\n",
        "  suma = 0\n",
        "  for i in range(1, n, 2):\n",
        "    suma = suma + 4 * f(x[i])\n",
        "  for i in range(2, n-1, 2):\n",
        "    suma = suma + 2 * f(x[i])\n",
        "  return (b - a ) / (3*n) * (f(a) + suma + f(b))\n",
        "def ErrorSimpson13(IR, a, b, x):\n",
        "  return (abs(IR - Simpson13(a, b, x)) / IR) * 100\n",
        "\n",
        "# Simpson 3/8 simple\n",
        "def Simpson38Simple(x): # [x0 x1 x2]\n",
        "  return (x[3] - x[0]) / 8 * (f(x[0]) + 3 * f(x[1]) + 3 * f(x[2]) + f(x[3]))\n",
        "def ErrorSimpson38Simple(IR, x):\n",
        "  return (abs(IR - Simpson38Simple(x)) / IR) * 100\n",
        "# Simpson 3/8 compuesto\n",
        "def Simpson38(a, b, x):\n",
        "  suma = 0\n",
        "  m = int(n/3)\n",
        "  for i in range(0, m):\n",
        "    suma = suma + 3 * f(x[3*i+1]) + 3 * f(x[3*i+2])\n",
        "  for i in range(0, m-1):\n",
        "    suma = suma + 2 *f(x[3*i+3])\n",
        "  return (3/8)*((b -a ) / n) * (f(a) + suma + f(b))\n",
        "def ErrorSimpson38(IR, a, b, x):\n",
        "  return (abs(IR - Simpson38(a, b, x)) / IR) * 100"
      ],
      "execution_count": 5,
      "outputs": []
    },
    {
      "cell_type": "markdown",
      "metadata": {
        "id": "aheLYspit8Vz"
      },
      "source": [
        "# Paso 3: Definimos entras "
      ]
    },
    {
      "cell_type": "code",
      "metadata": {
        "id": "rGgNxhX1uOjt"
      },
      "source": [
        "a = 0\n",
        "b = 1\n",
        "IR = 0.725276"
      ],
      "execution_count": 6,
      "outputs": []
    },
    {
      "cell_type": "markdown",
      "metadata": {
        "id": "eJz9W8cQ0IB7"
      },
      "source": [
        "#Paso 4: Evaluamos las reglas simples"
      ]
    },
    {
      "cell_type": "code",
      "metadata": {
        "colab": {
          "base_uri": "https://localhost:8080/"
        },
        "id": "5opSIuaR0mCx",
        "outputId": "b3ff9542-0768-4dc5-ebf6-eb14e083a4db"
      },
      "source": [
        "# Trapecio Simple\n",
        "print(\"La integral aproximada por la regla de trapecio simple es:\", TrapecioSimple(a, b), \"; Error (%):\", ErrorTrapecioSimple(IR, a, b))\n",
        "# Simpson 1/3 simple\n",
        "n = 2            # numero de segmentos \n",
        "x = np.linspace(a, b, n+1)\n",
        "print(\"La integral aproximada por la regla de simpson 1/3 simple es:\", Simpson13Simple(x), \"; Error (%):\", ErrorSimpson13Simple(IR, x))\n",
        "# Simpson 3/8 simple\n",
        "n = 3           # numero de segmentos \n",
        "x = np.linspace(a, b, n+1)\n",
        "print(\"La integral aproximada por la regla de simpson 3/8 simple es:\", Simpson38Simple(x), \"; Error (%):\", ErrorSimpson38Simple(IR, x))\n"
      ],
      "execution_count": 8,
      "outputs": [
        {
          "output_type": "stream",
          "text": [
            "La integral aproximada por la regla de trapecio simple es: 0.6350755764670349 ; Error (%): 12.436703204430463\n",
            "La integral aproximada por la regla de simpson 1/3 simple es: 0.7317407843870103 ; Error (%): 0.8913550685546272\n",
            "La integral aproximada por la regla de simpson 3/8 simple es: 0.7278180331785444 ; Error (%): 0.3504918373894077\n"
          ],
          "name": "stdout"
        }
      ]
    },
    {
      "cell_type": "markdown",
      "metadata": {
        "id": "A4gqQxxr1VQ7"
      },
      "source": [
        "# Paso 5: Evaluar reglas compuestas"
      ]
    },
    {
      "cell_type": "code",
      "metadata": {
        "colab": {
          "base_uri": "https://localhost:8080/"
        },
        "id": "T79p7oro17Cy",
        "outputId": "c4b30f8d-dc2e-4e01-c503-29e5d34fc6f7"
      },
      "source": [
        "# Trapecio Compuesto \n",
        "n = 10 # numero de segmentos\n",
        "x = np.linspace(a, b, n+1)             # n+1 puntos\n",
        "print(\"La integral aproximada por la regla de trapecio compuesta es:\", Trapecio(a, b, x), \"; Error (%):\", ErrorTrapecio(IR, a, b, x))\n",
        "# Simpson 1/3 simple\n",
        "n = 10           # numero de segmentos  (par)\n",
        "x = np.linspace(a, b, n+1)\n",
        "print(\"La integral aproximada por la regla de simpson 1/3 compuesta es:\", Simpson13(a, b, x), \"; Error (%):\",  ErrorSimpson13(IR, a, b, x))\n",
        "# Simpson 3/8 simple\n",
        "n = 10          # numero de segmentos (multiplos de 3)\n",
        "h = (b - a) / n\n",
        "x = np.linspace(a, b, n+1)\n",
        "print(\"La integral aproximada por la regla de simpson 3/8 compuesta es:\", Simpson38(a, b, x), \"; Error (%):\",ErrorSimpson38(IR, a, b, x))\n",
        "\n",
        "#Simpson 3/8 simple(pares)\n",
        "n = 10                          # numero de segmentos (multiplo de 3)"
      ],
      "execution_count": 9,
      "outputs": [
        {
          "output_type": "stream",
          "text": [
            "La integral aproximada por la regla de trapecio compuesta es: 0.7245864243332321 ; Error (%): 0.09507768997843193\n",
            "La integral aproximada por la regla de simpson 1/3 compuesta es: 0.7252794001619006 ; Error (%): 0.0004688093774770958\n",
            "La integral aproximada por la regla de simpson 3/8 compuesta es: 0.6905627574836813 ; Error (%): 4.7862113893633165\n"
          ],
          "name": "stdout"
        }
      ]
    },
    {
      "cell_type": "code",
      "metadata": {
        "colab": {
          "base_uri": "https://localhost:8080/"
        },
        "id": "NA5L_Rzv3jYj",
        "outputId": "cc16f6e4-0b01-4f8c-9779-52b9b49a00bd"
      },
      "source": [
        "# Trapecio Compuesto \n",
        "n = 16 # numero de segmentos\n",
        "x = np.linspace(a, b, n+1)             # n+1 puntos\n",
        "print(\"La integral aproximada por la regla de trapecio compuesta es:\", Trapecio(a, b, x), \"; Error (%):\", ErrorTrapecio(IR, a, b, x))\n",
        "# Simpson 1/3 simple\n",
        "n = 16           # numero de segmentos  (par)\n",
        "x = np.linspace(a, b, n+1)\n",
        "print(\"La integral aproximada por la regla de simpson 1/3 compuesta es:\", Simpson13(a, b, x), \"; Error (%):\",  ErrorSimpson13(IR, a, b, x))\n",
        "# Simpson 3/8 simple\n",
        "n = 16          # numero de segmentos (multiplos de 3)\n",
        "h = (b - a) / n\n",
        "x = np.linspace(a, b, n+1)\n",
        "print(\"La integral aproximada por la regla de simpson 3/8 compuesta es:\", Simpson38(a, b, x), \"; Error (%):\",ErrorSimpson38(IR, a, b, x))\n",
        "\n",
        "#Simpson 3/8 simple(pares)\n",
        "n = 16                          # numero de segmentos (multiplo de 3)"
      ],
      "execution_count": 10,
      "outputs": [
        {
          "output_type": "stream",
          "text": [
            "La integral aproximada por la regla de trapecio compuesta es: 0.7250066527553007 ; Error (%): 0.03713720634617603\n",
            "La integral aproximada por la regla de simpson 1/3 compuesta es: 0.7252762356285447 ; Error (%): 3.2488121029214765e-05\n",
            "La integral aproximada por la regla de simpson 3/8 compuesta es: 0.7054505028739914 ; Error (%): 2.7335107084763144\n"
          ],
          "name": "stdout"
        }
      ]
    },
    {
      "cell_type": "markdown",
      "metadata": {
        "id": "fZWQpQFe3zdL"
      },
      "source": [
        "#Paso 5: Cuadratura de Gauss"
      ]
    },
    {
      "cell_type": "code",
      "metadata": {
        "colab": {
          "base_uri": "https://localhost:8080/"
        },
        "id": "hY1BhPsp3-4B",
        "outputId": "97b66e0c-6e08-4ee3-e17c-945fc7fd66b6"
      },
      "source": [
        "# con dos puntos\n",
        "xd_0 = -0.577350269\n",
        "xd_1 =  0.577350269\n",
        "C0 = 1\n",
        "C1 = 1\n",
        "dx = (b - a) / 2 #b dxd\n",
        "x0 = ((b + a ) + (b - a) * xd_0) / 2\n",
        "x1 = ((b + a ) + (b - a) * xd_1) / 2\n",
        "F0 = f(x0)* dx\n",
        "F1 = f(x1) * dx\n",
        "ICG2 = C0 * F0 + C1 * F1\n",
        "\n",
        "print(\"La integral aproximada por el método de cuadratura de Gauss con 2 puntos es: \" , ICG2, \"; Error (%)\" , (abs(IR -ICG2) / IR) * 100)\n",
        "\n",
        "# con tres puntos \n",
        "xd_0 = -0.774596669\n",
        "xd_1 =  0\n",
        "xd_2 =  0.774596669  \n",
        "C0 = 0.55555\n",
        "C1 = 0.88888\n",
        "C2 = 0.55555\n",
        "dx = (b - a) / 2 #b dxd\n",
        "x0 = ((b + a ) + (b - a) * xd_0) / 2\n",
        "x1 = ((b + a ) + (b - a) * xd_1) / 2\n",
        "x2 = ((b + a ) + (b - a) * xd_1) / 2\n",
        "F0 = f(x0) * dx\n",
        "F1 = f(x1) * dx\n",
        "F2 = f(x1) * dx\n",
        "ICG3 = C0 * F0 + C1 * F1 + C2 * F2\n",
        "\n",
        "print(\"La integral aproximada por el método de cuadratura de Gauss con 3 puntos es: \" , ICG3, \"; Error (%)\" , (abs(IR -ICG3) / IR) * 100)"
      ],
      "execution_count": 11,
      "outputs": [
        {
          "output_type": "stream",
          "text": [
            "La integral aproximada por el método de cuadratura de Gauss con 2 puntos es:  0.7207223906933454 ; Error (%) 0.6278450281899035\n",
            "La integral aproximada por el método de cuadratura de Gauss con 3 puntos es:  0.8389989189146607 ; Error (%) 15.679950655289943\n"
          ],
          "name": "stdout"
        }
      ]
    }
  ]
}