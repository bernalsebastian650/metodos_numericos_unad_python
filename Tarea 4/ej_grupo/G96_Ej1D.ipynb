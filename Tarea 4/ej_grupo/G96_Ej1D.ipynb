{
  "nbformat": 4,
  "nbformat_minor": 0,
  "metadata": {
    "colab": {
      "name": "G96_Alexandra_Vargas_Vargas_Ej1D.ipynb",
      "provenance": []
    },
    "kernelspec": {
      "name": "python3",
      "display_name": "Python 3"
    },
    "language_info": {
      "name": "python"
    }
  },
  "cells": [
    {
      "cell_type": "markdown",
      "metadata": {
        "id": "3cBIcJNr9VvB"
      },
      "source": [
        "#**UNIDAD 3. Tarea 4 - Diferenciación e Integración Numérica y Ecuaciones Diferenciales Ordinarias**"
      ]
    },
    {
      "cell_type": "markdown",
      "metadata": {
        "id": "IhQuJo2N-iLm"
      },
      "source": [
        "#**EJERCICIO 1. Diferenciación Numérica**"
      ]
    },
    {
      "cell_type": "markdown",
      "metadata": {
        "id": "9rInWQ8X_QHe"
      },
      "source": [
        "##**Diferenciación numérica**\n",
        " \n",
        "Se consideran algunas técnicas de aproximación para derivar una función$ f(x) $dada. Las reglas que resultan son de grande importancia para la solución de ecuaciones diferenciales. Pueden ser utilizadas para obtener aproximaciones numéricas de una derivada a partir de los valores de la función.\n",
        " \n",
        "Pero el método de diferenciación numérica basado en interpolación numérica es un proceso inestable y no se puede esperar una buena aproximación aun cuando la información original está bien aproximada, por lo que el error$ f\"(x) – p\"(x)$ puede ser muy grande especialmente cuando los valores de $f(x) $tengan perturbaciones.\n"
      ]
    },
    {
      "cell_type": "markdown",
      "metadata": {
        "id": "Ouu5XEeK_7tE"
      },
      "source": [
        "##**Descripción del ejercicio:**##\n",
        "Dadas las siguientes funciones trigonométricas:\n",
        "\n",
        "#**D:**  $ 𝑓(𝑥) = 𝑐𝑜𝑡(𝑥)$\n",
        "* Determinar el valor aproximado de la primera y segunda\n",
        "derivada empleando esquemas de diferencia finita hacia\n",
        "adelante, hacia atrás y central, en el punto 𝑥 = 27.5°, con ℎ = 0.5,\n",
        "ℎ = 0.05 y ℎ = 0.01. Tenga presente que el argumento de las trigonométricas debe ser en radianes cuando se\n",
        "realizan cálculos en computador.\n",
        "* Genere una tabla comparativa con los resultados obtenidos y la\n",
        "respuesta analítica, y en una columna independiente calcule el\n",
        "error relativo para cada uno de los esquemas y cada tamaño de\n",
        "paso ℎ. Para obtener la solución analítica puede emplear algún\n",
        "software de ayuda como GeoGebra o WolgramAlpha (debe\n",
        "referenciarlo siguiendo las normas APA).\n",
        "* Realice un análisis de resultados indicando claramente, y de\n",
        "forma argumentada, cuál considera es el mejor esquema y\n",
        "tamaño de paso. Básese en la teoría estudiada y referénciela\n",
        "siguiendo las normas APA.\n",
        "* Realizar un vídeo donde explique la forma como fue desarrollado\n",
        "el ejercicio 1 seleccionado. La realización del vídeo puede ser con\n",
        "la cámara del celular, cámara del pc u otra alternativa que se le\n",
        "facilite. El estudiante debe aparecer en la grabación de frente y\n",
        "mostrar a la cámara su documento de identificación, ocultando el\n",
        "número de este (En la imagen se debe ver claramente el nombre\n",
        "y apellidos del estudiante).\n",
        "Deberá compartir el enlace del vídeo a YouTube, u otra\n",
        "plataforma de vídeos, y adjuntar el enlace debajo de la solución\n",
        "del ejercicio en el documento final a entregar. El vídeo no debe\n",
        "superar los 5 minutos de duración.\n"
      ]
    },
    {
      "cell_type": "markdown",
      "metadata": {
        "id": "vm_dYKkGiPd7"
      },
      "source": [
        "#**$$DESARROLLO$$**"
      ]
    },
    {
      "cell_type": "markdown",
      "metadata": {
        "id": "1yKyp7pFkdAQ"
      },
      "source": [
        "#**$$Diferencias finitas - Primera Derivada$$**\n",
        "\n"
      ]
    },
    {
      "cell_type": "markdown",
      "metadata": {
        "id": "ouLaiLSdlkqU"
      },
      "source": [
        "#**Paso 1: Importamos Numpy y definimos la función**"
      ]
    },
    {
      "cell_type": "code",
      "metadata": {
        "id": "4P5_HjkLlv_S"
      },
      "source": [
        "import numpy as np                                 # Importamos librerias de numpy\n",
        "\n",
        "def f(x):                                          # Definimos la funcion cotangente\n",
        "   return 1 / np.tan(x)                            # Generamos la funcion cotagente"
      ],
      "execution_count": null,
      "outputs": []
    },
    {
      "cell_type": "markdown",
      "metadata": {
        "id": "mCP30tbCoHJx"
      },
      "source": [
        "#**Paso 2: Definimos nuestros esquemas de derivadas**"
      ]
    },
    {
      "cell_type": "code",
      "metadata": {
        "id": "rqRoCGPDoP3X"
      },
      "source": [
        "# Esquema df primera derivada Foward\n",
        "# f prima Forward\n",
        "\n",
        "def fpf(x0, h):                                    # Definimos la  diferencial de f prima   Forward          \n",
        "    return (f(x0 + h) -f(x0)) / h                  # Definimos las diferencias finitas progresivas "
      ],
      "execution_count": null,
      "outputs": []
    },
    {
      "cell_type": "code",
      "metadata": {
        "id": "LA8GywlBpmpK"
      },
      "source": [
        "# Esquema df primera derivada central\n",
        "\n",
        "def fpc(x0, h):                                   # Definimos la de diferencial de f prima   center\n",
        "    return (f(x0 + h) - f(x0 - h)) / (2 * h)      # Definimos las diferencias finitas centradas "
      ],
      "execution_count": null,
      "outputs": []
    },
    {
      "cell_type": "code",
      "metadata": {
        "id": "Te1cB0h4rFW_"
      },
      "source": [
        "# Esquema df primera derivada Backward\n",
        "\n",
        "def fpb(x0, h):                                    # Definimos la de diferencial de f prima   Backward\n",
        "    return (f(x0) - f(x0 - h)) / h                 # Definimos las diferencias finitas regresivas"
      ],
      "execution_count": null,
      "outputs": []
    },
    {
      "cell_type": "markdown",
      "metadata": {
        "id": "2UNgZ1MV2lxc"
      },
      "source": [
        "![EJ1D.PNG](data:image/png;base64,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)"
      ]
    },
    {
      "cell_type": "markdown",
      "metadata": {
        "id": "c9BThABM2047"
      },
      "source": [
        "#**Paso 3: Ingreso de datos y ejecución de las derivadas**"
      ]
    },
    {
      "cell_type": "code",
      "metadata": {
        "id": "jyJZHVNj4Mx-",
        "colab": {
          "base_uri": "https://localhost:8080/"
        },
        "outputId": "3b12c2d8-40f6-4d6b-e2c3-2f5b851c3776"
      },
      "source": [
        "x = (27.5 * np.pi) / 180                                   # Convertimos grados a radianes\n",
        "h = 0.5                                                    # Tamaño de paso segun el ejercicio \n",
        "print(\"El valor de x en radianes es:\", x)                  # Imprimimos x"
      ],
      "execution_count": null,
      "outputs": [
        {
          "output_type": "stream",
          "text": [
            "El valor de x en radianes es: 0.4799655442984406\n"
          ],
          "name": "stdout"
        }
      ]
    },
    {
      "cell_type": "code",
      "metadata": {
        "colab": {
          "base_uri": "https://localhost:8080/"
        },
        "id": "KnvDevcU6HE2",
        "outputId": "d4b43d29-67eb-49f0-8b62-a27bf000ab63"
      },
      "source": [
        "fpf(x, h)                                                  # Esta es la primera derivada de la funcion cot(x) hacia adelante"
      ],
      "execution_count": null,
      "outputs": [
        {
          "output_type": "execute_result",
          "data": {
            "text/plain": [
              "-2.5004451701982546"
            ]
          },
          "metadata": {
            "tags": []
          },
          "execution_count": 6
        }
      ]
    },
    {
      "cell_type": "code",
      "metadata": {
        "colab": {
          "base_uri": "https://localhost:8080/"
        },
        "id": "gMJy5OKT6vM7",
        "outputId": "c359fa32-3e1c-492e-8758-c4b1161b44d6"
      },
      "source": [
        "fpc (x,h)                                                  # Esta es la primera derivada de la funcion cot(x)  central"
      ],
      "execution_count": null,
      "outputs": [
        {
          "output_type": "execute_result",
          "data": {
            "text/plain": [
              "50.5780901015687"
            ]
          },
          "metadata": {
            "tags": []
          },
          "execution_count": 7
        }
      ]
    },
    {
      "cell_type": "code",
      "metadata": {
        "colab": {
          "base_uri": "https://localhost:8080/"
        },
        "id": "ScpZMBEO7GRp",
        "outputId": "973cf7ba-cdbe-41ee-a925-a5e96eec1300"
      },
      "source": [
        "fpb(x, h)                                                  # Esta es la primera derivada de la funcion cot(x) hacia atras"
      ],
      "execution_count": null,
      "outputs": [
        {
          "output_type": "execute_result",
          "data": {
            "text/plain": [
              "103.65662537333566"
            ]
          },
          "metadata": {
            "tags": []
          },
          "execution_count": 8
        }
      ]
    },
    {
      "cell_type": "markdown",
      "metadata": {
        "id": "A2DYgGKm7nme"
      },
      "source": [
        "#**Paso 4.1: Tabla para primera derivada hacia adelante**"
      ]
    },
    {
      "cell_type": "markdown",
      "metadata": {
        "id": "DbyPiFv377HO"
      },
      "source": [
        "##**Elemeto 1: Definimos la derivada real**"
      ]
    },
    {
      "cell_type": "code",
      "metadata": {
        "id": "1aE-lrTp74bY"
      },
      "source": [
        "# Definimos la derivada y guardamos el valor en  la variable DR\n",
        "\n",
        "DR = -(1 / np.sin(x)**2)                                         # Agregamos derivada analitica cotagente "
      ],
      "execution_count": null,
      "outputs": []
    },
    {
      "cell_type": "markdown",
      "metadata": {
        "id": "HsFui61QDWN4"
      },
      "source": [
        "##**Elemeto 2: El error relativo porcentual**"
      ]
    },
    {
      "cell_type": "code",
      "metadata": {
        "id": "X6f4pMboDpDC"
      },
      "source": [
        "def ErrorRP(DR, x, h):                                            # Definimos el error relativo porcentual\n",
        "  return(abs(DR - fpf(x, h)) / DR) * 100                          # Derivada hacia adelante fpf"
      ],
      "execution_count": null,
      "outputs": []
    },
    {
      "cell_type": "code",
      "metadata": {
        "colab": {
          "base_uri": "https://localhost:8080/"
        },
        "id": "PQXbS1sAEhQA",
        "outputId": "031989ed-257a-48d8-dd1f-3a91ea373910"
      },
      "source": [
        "from tabulate import tabulate\n",
        "\n",
        "DFinitas = [[\"0.5\", fpf(x, 0.5), ErrorRP(DR, x, 0.5)], [\"0.05\", fpf(x, 0.05), ErrorRP(DR, x, 0.05)],[\"0.01\", fpf(x, 0.01), ErrorRP(DR, x, 0.01)]]\n",
        "print(tabulate(DFinitas, headers = [\"tamaño h\", \"Derivada aprox\", \"Error(%)\"], tablefmt = \"francy_grid\"))"
      ],
      "execution_count": null,
      "outputs": [
        {
          "output_type": "stream",
          "text": [
            "  tamaño h    Derivada aprox    Error(%)\n",
            "----------  ----------------  ----------\n",
            "      0.5           -2.50045   -46.6876\n",
            "      0.05          -4.28242    -8.69378\n",
            "      0.01          -4.60192    -1.88157\n"
          ],
          "name": "stdout"
        }
      ]
    },
    {
      "cell_type": "markdown",
      "metadata": {
        "id": "_374FRAlEhQY"
      },
      "source": [
        "####**Análisis:** *Segun la primera derivada hacia adelante podemos observar  que entre mayor sea el tamaño de h el error relativo porcentual es mayor (h 0.5 = -42.2711, h 0.05 = -1.12995, h 0.01 = -6.24659)*"
      ]
    },
    {
      "cell_type": "markdown",
      "metadata": {
        "id": "lZVwhKSYGP6Y"
      },
      "source": [
        "#**Paso 4.2: Tabla para primera derivada hacia atrás**"
      ]
    },
    {
      "cell_type": "code",
      "metadata": {
        "id": "nTrp7oAvFL8o"
      },
      "source": [
        "def ErrorRP(DR, x, h):                                                  # Definimos el error relativo porcentual\n",
        "  return(abs(DR - fpb(x, h)) / DR) * 100                                # Derivada hacia atras fpb"
      ],
      "execution_count": null,
      "outputs": []
    },
    {
      "cell_type": "code",
      "metadata": {
        "colab": {
          "base_uri": "https://localhost:8080/"
        },
        "id": "p7LUGU29b60L",
        "outputId": "6ffc6c85-342b-4799-8581-7efa7b45f4b5"
      },
      "source": [
        "from tabulate import tabulate\n",
        "\n",
        "DFinitas = [[\"0.5\", fpb(x, 0.5), ErrorRP(DR, x, 0.5)], [\"0.05\", fpb(x, 0.05), ErrorRP(DR, x, 0.05)],[\"0.01\", fpb(x, 0.01), ErrorRP(DR, x, 0.01)]]\n",
        "print(tabulate(DFinitas, headers = [\"tamaño h\", \"Derivada aprox\", \"Error(%)\"], tablefmt = \"francy_grid\"))"
      ],
      "execution_count": null,
      "outputs": [
        {
          "output_type": "stream",
          "text": [
            "  tamaño h    Derivada aprox     Error(%)\n",
            "----------  ----------------  -----------\n",
            "      0.5          103.657    -2310.08\n",
            "      0.05          -5.19331    -10.7276\n",
            "      0.01          -4.7822      -1.96207\n"
          ],
          "name": "stdout"
        }
      ]
    },
    {
      "cell_type": "markdown",
      "metadata": {
        "id": "JL3w_epKNF_Y"
      },
      "source": [
        "####**Análisis:** *Segun la primera derivada hacia atras podemos observar  que entre mayor sea el tamaño de h el error relativo porcentual es mayor (h 0.5 = -2493.17, h 0.05 = -19.9003, h 0.01 = -10.4086)*"
      ]
    },
    {
      "cell_type": "markdown",
      "metadata": {
        "id": "QSOMfdL3dckf"
      },
      "source": [
        "#**Paso 4.2: Tabla para primera derivada centrada**"
      ]
    },
    {
      "cell_type": "code",
      "metadata": {
        "id": "MvTYcAwjnphl"
      },
      "source": [
        "def ErrorRP(DR, x, h):                                                    # Definimos el error relativo porcentual\n",
        "  return(abs(DR - fpc(x, h)) / DR) * 100                                  # Derivada hacia atras fpc"
      ],
      "execution_count": null,
      "outputs": []
    },
    {
      "cell_type": "code",
      "metadata": {
        "colab": {
          "base_uri": "https://localhost:8080/"
        },
        "id": "Ol6KmpYNnpVd",
        "outputId": "493e84ab-f46c-4c0b-87e7-4f57be229657"
      },
      "source": [
        "from tabulate import tabulate\n",
        "\n",
        "DFinitas = [[\"0.5\", fpc(x, 0.5), ErrorRP(DR, x, 0.5)], [\"0.05\", fpc(x, 0.05), ErrorRP(DR, x, 0.05)],[\"0.01\", fpc(x, 0.01), ErrorRP(DR, x, 0.01)]]\n",
        "print(tabulate(DFinitas, headers = [\"tamaño h\", \"Derivada aprox\", \"Error(%)\"], tablefmt = \"francy_grid\"))"
      ],
      "execution_count": null,
      "outputs": [
        {
          "output_type": "stream",
          "text": [
            "  tamaño h    Derivada aprox       Error(%)\n",
            "----------  ----------------  -------------\n",
            "      0.5           50.5781   -1178.38\n",
            "      0.05          -4.73787     -1.0169\n",
            "      0.01          -4.69206     -0.0402525\n"
          ],
          "name": "stdout"
        }
      ]
    },
    {
      "cell_type": "markdown",
      "metadata": {
        "id": "dC9tRvJONt80"
      },
      "source": [
        "####**Análisis:** *Segun la primera derivada centrada podemos observar  que entre mayor sea el tamaño de h el error relativo porcentual es mayor (h 0.5 = -1267.72, h 0.05 = -9.38517, h 0.01 = -8.32762)*\n"
      ]
    },
    {
      "cell_type": "markdown",
      "metadata": {
        "id": "j3iT0yhnob-F"
      },
      "source": [
        "#**$$Diferencias finitas - Segunda Derivada$$**"
      ]
    },
    {
      "cell_type": "markdown",
      "metadata": {
        "id": "APDuTxLxp6VH"
      },
      "source": [
        "#**Paso 1: Definimos nuestros esquemas para la segunda derivada**"
      ]
    },
    {
      "cell_type": "code",
      "metadata": {
        "id": "9z-j_tizqXj8"
      },
      "source": [
        "# Esquema df seguda derivada de Foward\n",
        "\n",
        "def fsf(x0, h):                                                      # Definimos segunda derevida fsf\n",
        "    return (f(x0) - 2 * f(x0 + h) + f(x0 + 2 * h)) / h ** 2          # Segunda derivada hacia adelante"
      ],
      "execution_count": null,
      "outputs": []
    },
    {
      "cell_type": "code",
      "metadata": {
        "id": "V9kTMIFNrK2J"
      },
      "source": [
        "# Esquema df segunda derivada central\n",
        "\n",
        "def fsc(x0, h):                                                      # Definimos segunda derevida fsc\n",
        "    return (f(x0 - h) - 2 *(f(x0) + f(x0) + h)) / h ** 2             # Segunda derivada central          "
      ],
      "execution_count": null,
      "outputs": []
    },
    {
      "cell_type": "code",
      "metadata": {
        "id": "xivwkAharR26"
      },
      "source": [
        "# Esquema df segunda derivada Backward\n",
        "\n",
        "def fsb(x0, h):                                                      # Definimos segunda derevida fsb\n",
        "    return (f(x0 - 2 * h) - 2 * f(x0 - h) + f(x0)) / h ** 2          # Segunda derivada hacia atras "
      ],
      "execution_count": null,
      "outputs": []
    },
    {
      "cell_type": "markdown",
      "metadata": {
        "id": "WqY9-Bgy1iS-"
      },
      "source": [
        "![EJ1D..PNG](data:image/png;base64,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)"
      ]
    },
    {
      "cell_type": "markdown",
      "metadata": {
        "id": "E5Mf-MNLrzGE"
      },
      "source": [
        "#**Paso 2.1: Tabla de la segunda derivada hacia adelante**"
      ]
    },
    {
      "cell_type": "code",
      "metadata": {
        "id": "G7ElJ9g3sBk6"
      },
      "source": [
        "# Definimos la segunda derivada real\n",
        "\n",
        "SDR = (-2 * (1 /np.tan(x)) * (1 /np.sin(x)** 2 ))                  # Definimos la segunda derivada del ejercicio"
      ],
      "execution_count": null,
      "outputs": []
    },
    {
      "cell_type": "code",
      "metadata": {
        "id": "_CXYxBh55TE9"
      },
      "source": [
        "def ErrorRP(SDR, x, h):                                            # Definimos el error relativo porcentual\n",
        "  return(abs(SDR - fsf(x, h)) / SDR) * 100                         # Segunda derivada  fsf."
      ],
      "execution_count": null,
      "outputs": []
    },
    {
      "cell_type": "code",
      "metadata": {
        "colab": {
          "base_uri": "https://localhost:8080/"
        },
        "id": "JAsUei_o5Vpk",
        "outputId": "1b09f0e1-5d9b-423e-c287-00aa93013072"
      },
      "source": [
        "DFinitas = [[\"0.5\", fsf(x, 0.5), ErrorRP(DR, x, 0.5)], [\"0.05\", fsf(x, 0.05), ErrorRP(DR, x, 0.05)],[\"0.01\", fsf(x, 0.01), ErrorRP(DR, x, 0.01)]]\n",
        "print(tabulate(DFinitas, headers = [\"tamaño h\", \"Derivada aprox\", \"Error(%)\"], tablefmt = \"francy_grid\"))"
      ],
      "execution_count": null,
      "outputs": [
        {
          "output_type": "stream",
          "text": [
            "  tamaño h    Derivada aprox    Error(%)\n",
            "----------  ----------------  ----------\n",
            "      0.5            2.68218    -157.187\n",
            "      0.05          13.4798     -387.406\n",
            "      0.01          16.9398     -461.177\n"
          ],
          "name": "stdout"
        }
      ]
    },
    {
      "cell_type": "markdown",
      "metadata": {
        "id": "AYtBvIW5OiNL"
      },
      "source": [
        "####**Análisis:** *Según la segunda derivada hacia adelante podemos observar  que entre mayor sea el tamaño de h el error relativo porcentual es mayor (h 0.5 = -157.187, h 0.05 = -387.406, h 0.01 = -461.177)*"
      ]
    },
    {
      "cell_type": "markdown",
      "metadata": {
        "id": "7IcuTmgR98hY"
      },
      "source": [
        "#**Paso 2.2: Tabla de la segunda derivada hacia atras**"
      ]
    },
    {
      "cell_type": "code",
      "metadata": {
        "id": "JZg63Rbg-WBt"
      },
      "source": [
        "def ErrorRP(SDR, x, h):                                                 # Definimos el error relativo porcentual\n",
        "  return(abs(SDR - fsb(x, h)) / SDR) * 100                              # Segunda derivada atra hacias  fsb."
      ],
      "execution_count": null,
      "outputs": []
    },
    {
      "cell_type": "code",
      "metadata": {
        "colab": {
          "base_uri": "https://localhost:8080/"
        },
        "id": "5vDyD9WD-Yx_",
        "outputId": "68b1f78a-f304-4aed-d673-6716203a67a5"
      },
      "source": [
        "DFinitas = [[\"0.5\", fsb(x, 0.5), ErrorRP(DR, x, 0.5)], [\"0.05\", fsb(x, 0.05), ErrorRP(DR, x, 0.05)],[\"0.01\", fsb(x, 0.01), ErrorRP(DR, x, 0.01)]]\n",
        "print(tabulate(DFinitas, headers = [\"tamaño h\", \"Derivada aprox\", \"Error(%)\"], tablefmt = \"francy_grid\"))"
      ],
      "execution_count": null,
      "outputs": [
        {
          "output_type": "stream",
          "text": [
            "  tamaño h    Derivada aprox    Error(%)\n",
            "----------  ----------------  ----------\n",
            "      0.5           399.957    -8627.55\n",
            "      0.05           25.4451    -642.52\n",
            "      0.01           19.2093    -509.564\n"
          ],
          "name": "stdout"
        }
      ]
    },
    {
      "cell_type": "markdown",
      "metadata": {
        "id": "-gq3txFfPbvl"
      },
      "source": [
        "####**Análisis:** *Según la segunda derivada hacia atrás podemos observar  que entre mayor sea el tamaño de h el error relativo porcentual es mayor (h 0.5 = -8627.55, h 0.05 = -642.52, h 0.01 = -509.564)*\n",
        "\n"
      ]
    },
    {
      "cell_type": "markdown",
      "metadata": {
        "id": "pJKnDTU7-k3X"
      },
      "source": [
        "#**Paso 2.3: Tabla de la segunda derivada central**"
      ]
    },
    {
      "cell_type": "code",
      "metadata": {
        "id": "9cODxUGF-yag"
      },
      "source": [
        "def ErrorRP(SDR, x, h):                                                           # Definimos el error relativo porcentual\n",
        "  return(abs(SDR - fsc(x, h)) / SDR) * 100                                        # Segunda derivada central fsc"
      ],
      "execution_count": null,
      "outputs": []
    },
    {
      "cell_type": "code",
      "metadata": {
        "colab": {
          "base_uri": "https://localhost:8080/"
        },
        "id": "l5m3IQrh-1gL",
        "outputId": "d5d0f97e-5916-474b-de92-98053e1beeed"
      },
      "source": [
        "DFinitas = [[\"0.5\", fsc(x, 0.5), ErrorRP(DR, x, 0.5)], [\"0.05\", fsc(x, 0.05), ErrorRP(DR, x, 0.05)],[\"0.01\", fsc(x, 0.01), ErrorRP(DR, x, 0.01)]]\n",
        "print(tabulate ( DFinitas, headers = [\"tamaño h\", \" erivada aprox\", \"Error(%)\"], tablefmt = \" francy_grid\"))"
      ],
      "execution_count": null,
      "outputs": [
        {
          "output_type": "stream",
          "text": [
            "  tamaño h     erivada aprox         Error(%)\n",
            "----------  ----------------  ---------------\n",
            "      0.5           -234.365   -4896.94\n",
            "      0.05         -2241.31   -47687.4\n",
            "      0.01        -57351.2        -1.2227e+06\n"
          ],
          "name": "stdout"
        }
      ]
    },
    {
      "cell_type": "markdown",
      "metadata": {
        "id": "O7cspaaUP1s6"
      },
      "source": [
        "####**Análisis:** *Según la segunda derivada central podemos observar  que entre mayor sea el tamaño de h el error relativo porcentual es mayor (h 0.5 = -4896.94, h 0.05 = -47687.4, h 0.01 = -1.2227e+06)*"
      ]
    },
    {
      "cell_type": "markdown",
      "metadata": {
        "id": "-UQkge86isT-"
      },
      "source": [
        "#**Video**\n",
        "(https://www.youtube.com/watch?v=s5iWT4AX9Po)"
      ]
    },
    {
      "cell_type": "markdown",
      "metadata": {
        "id": "9_w56cUUyL75"
      },
      "source": [
        "#**Bibliografía**\n",
        "*  Canale, R. P. y P. Canale, R. (2007). Métodos numéricos para\n",
        "ingenieros (5a. ed.). México D.F, México: McGraw-Hill\n",
        "Interamericana. (pp. 603–615, 668–671).\n"
      ]
    }
  ]
}