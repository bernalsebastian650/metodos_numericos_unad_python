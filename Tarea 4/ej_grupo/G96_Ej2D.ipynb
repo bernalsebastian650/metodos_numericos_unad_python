{
  "nbformat": 4,
  "nbformat_minor": 0,
  "metadata": {
    "colab": {
      "name": "G96_Alexandra_Vargas_Vargas_Ej2D.ipynb",
      "provenance": []
    },
    "kernelspec": {
      "name": "python3",
      "display_name": "Python 3"
    },
    "language_info": {
      "name": "python"
    }
  },
  "cells": [
    {
      "cell_type": "markdown",
      "metadata": {
        "id": "zoal7BIC-aQ4"
      },
      "source": [
        "#**UNIDAD 3. Tarea 4 - Diferenciación e Integración Numérica y Ecuaciones Diferenciales Ordinarias**"
      ]
    },
    {
      "cell_type": "markdown",
      "metadata": {
        "id": "0I-U8yXB-5cs"
      },
      "source": [
        "#**EJERCICIO 2. Integración Numérica**"
      ]
    },
    {
      "cell_type": "markdown",
      "metadata": {
        "id": "lqlm4sWUBT6E"
      },
      "source": [
        "La integración numérica es una técnica que se puede usar para aproximar el valor de la integral de una función que no sea posible anti diferenciar (integrar).Con el objeto de integrar numéricamente la integral comprendida en el intervalo cerrado [a, b], lo podemos hacer a través de dos métodos de integración  numérica: la Regla del trapecio y la Regla de Simpson."
      ]
    },
    {
      "cell_type": "markdown",
      "metadata": {
        "id": "ELksGpvxBUsF"
      },
      "source": [
        "##**Descripción del ejercicio:**\n",
        "Dadas las siguientes integrales\n",
        "#**D:**  $ \\int_{O}^{\\ 1 }\\sqrt{cos\\left( x^{^{2}}\\right )}dx$\n",
        "\n",
        "Calcule la integral por cada uno de los siguientes esquemas:\n",
        "* Regla del trapecio simple y compuesta\n",
        "* Regla de Simpson1/3 simple y compuesta\n",
        "* Regla de Simpson3/8 simple y compuesta\n",
        "* Cuadratura de Gauss de 2 y 3 puntos\n",
        "Para las reglas compuestas use 𝑛 = 10 y 𝑛 = 16.\n",
        "* Haga un análisis de resultados basándose en la teoría y en los\n",
        "resultados obtenidos. Debe incluir referencias a la bibliografía\n",
        "empleada usando las normas APA. Comentarios sin referencias no\n",
        "serán tenidos en cuenta."
      ]
    },
    {
      "cell_type": "markdown",
      "metadata": {
        "id": "iB0pMK3CEehK"
      },
      "source": [
        "#**$$DESARROLLO$$**\n"
      ]
    },
    {
      "cell_type": "markdown",
      "metadata": {
        "id": "425M0CUv5TK3"
      },
      "source": [
        "#**$$Métodos De IntegraciónNumérica$$**"
      ]
    },
    {
      "cell_type": "markdown",
      "metadata": {
        "id": "XJgfiPl75OnR"
      },
      "source": [
        "#**Paso 1: Definimos la función a integrar**"
      ]
    },
    {
      "cell_type": "code",
      "metadata": {
        "id": "4FL3MlpZ7EHt"
      },
      "source": [
        "import numpy as np\n",
        "\n",
        "def f(x):                                  # Definimos f(x)\n",
        "  return np.sqrt(np.cos( x** 2))"
      ],
      "execution_count": 1,
      "outputs": []
    },
    {
      "cell_type": "markdown",
      "metadata": {
        "id": "W2VzO4Cm_1pK"
      },
      "source": [
        "#**Paso 2: Definimos las funciones para los direferentes métodos**"
      ]
    },
    {
      "cell_type": "markdown",
      "metadata": {
        "id": "5tDLDJyaAUQT"
      },
      "source": [
        "##**Reglas Simples**\n",
        " * **Trapecio Simple:**Es un método para integrar numéricamente se denomina así porque el área descrita por la integral definida se aproxima mediante una suma de áreas de trapecios. Se aproxima la función dividiendo el intervalo [a, b] en n intervalos de igual longitud y formando entonces trapecios por encima de cada intervalo.$$I \\cong \\left ( b-a \\right )\\frac{f\\left ( a \\right )+f\\left ( b \\right )}{2}$$\n",
        "\n",
        " * **Simpson  $ \\frac{1}{3}$ Simple:** La regla de Simpson reemplaza la suma de áreas de los trapecios por la suma de las áreas situadas por debajo  de las parábolas para aproximar la integral en un intervalo definido.Al igual que en la regla de los trapecios dividimos el intervalo [a , b] en n intervalos de igual longitud ( n deberá ser un numero para).Usualmente este método da una mayor precisión que la de los trapecios.$$I \\cong \\frac{\\left ( b-a \\right )}{6}\\left  [ f\\left ( x_0 \\right ) + 4f\\left ( x_1 \\right )+f\\left ( x_2 \\right )\\right ]$$\n",
        "\n",
        " * **Simpson $\\frac{3}{8}$ Simple:**Es una generalización de la regla de trapecio para obtener una mejor aproximación de la integral y consiste en subdividir el intervalo [a,b] en n subintervalos, todos de la misma longitud $h=\\frac{b-a}{n}$. Cuando el número de subdivisiones que se haga sea igual a tres, entonces el método recibe el nombre de la regla de Simpson $\\frac{3}{8}$ .$$I\\cong \\frac{\\left ( b-a \\right )}{8}\\left [ f\\left ( x_0 \\right )+3f\\left ( x_1 \\right )+3f\\left ( x_2 \\right ) +3f\\left ( x_3 \\right )\\right ]$$\n",
        "\n",
        "##**Reglas Compuestas**\n",
        " * **Trapecio Compuesta:** La regla del trapecio compuesta o regla de los trapecios es una forma de aproximar una integral definida utilizando n trapecios. En la formulación de este método se supone que f es continua y positiva en el intervalo [a,b]. De tal modo la integral definida $ \\int_{a}^{b}f\\left ( x \\right )dx$, representa el área de la región delimitada por la gráfica de f y el eje x, desde x=a hasta x=b. Primero se divide el intervalo [a,b] en nsubintervalos, cada uno de ancho $\\Delta x=\\left ( b-a \\right )/n$.\n",
        "\n",
        " $$I \\cong \\frac{h}{2}\\left [ f\\left ( x_0 \\right )+ 2\\sum_{i = 1}^{n-1} f\\left ( x_i \\right )+f\\left ( x_n \\right )\\right ]$$\n",
        "\n",
        "* **Simpson $\\frac{1}{3}$ Compuesta:** En el caso de que el intervalo [a,b] no sea lo suficientemente pequeño, el error al calcular la integral puede ser muy grande. Para ello, se recurre a la fórmula compuesta de Simpson. Se divide el intervalo [a,b] en n subintervalos iguales (con n par), de manera que $x_1=a+ih$, donde $ h=\\left ( b-a \\right )/n $ para $i=0,1,...,n$\n",
        "\n",
        "$$I\\cong \\frac{\\left ( b-a \\right )}{3n}\\left [ f\\left ( x_0 \\right )+4 \\sum_{i=1,3,5,...}^{n-1}f\\left ( x_i \\right )+2 \\sum_{j=2,4,6,...}^{n-2}f\\left ( x_j \\right )+f\\left ( x_n \\right )\\right ]$$\n",
        "\n",
        "* **Simpson $\\frac{3}{8}$ Compuesta:** El método de Simpson 3/8 Compuesto nos permite a partir de una función f y un intervalo [x0,xn], y un numero de subintervalos n dado, hallar una aproximacion al aréa bajo la curva de f entre los limites del intervalo. Este método es una extensión del método del trapecio en donde parte el intervalo en 3 y de esta manera forma tres trapecios.\n",
        "\n",
        "$$I\\cong \\frac{3h}{8}\\left [ f\\left ( x_0 \\right )+3 \\sum_{i=0}^{\\frac{n}{3}-1}f\\left ( x_{3i+1} \\right )+3\\sum_{i=0}^{\\frac{n}{3}-1}f\\left ( x_{3i+2}\\right )+2  \\sum_{i=0}^{\\frac{n}{3}-2}f\\left ( x_{3i+3}\\right )+f\\left ( x_n \\right )\\right ]$$\n",
        "\n",
        "##**Cuadratura de Gauss(2 y 3 puntos)** \n",
        "* La cuadratura de Gauss aproxima el integral de una función en un intervalo [a,b] centrado en cero mediante un cálculo numérico con menos operaciones y evaluaciones de la función. Se representa como una suma ponderada:\n",
        "\n",
        "$$I\\cong C_0F\\left ( x_0 \\right ) + C_1F\\left ( x_1 \\right )+ C_2F\\left ( x_2 \\right )$$\n",
        "\n",
        "Donde  F es f(x) evaluada en \n",
        "\n",
        "$$x_1=\\frac{\\left ( b+a \\right )+\\left ( b-a \\right )}{2}x_{di}$$\n",
        "\n",
        "y \n",
        "\n",
        "$$dx=\\frac{b-a}{2}dx$$\n"
      ]
    },
    {
      "cell_type": "markdown",
      "metadata": {
        "id": "VO0tuTYSg8MB"
      },
      "source": [
        "![EJ1D...PNG](data:image/png;base64,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)"
      ]
    },
    {
      "cell_type": "code",
      "metadata": {
        "id": "W4GHqAyP36_e"
      },
      "source": [
        "# Trapecio simple\n",
        "def TrapecioSimple(a, b):\n",
        "  return (b - a) * (f(a) + f(b))/2\n",
        "def ErrorTrapecioSimple(IR, a, b):\n",
        "  return (abs(IR - TrapecioSimple(a, b)) / IR) * 100\n",
        "# Trapecio compuesto \n",
        "def Trapecio(a, b, x):\n",
        "  suma = 0\n",
        "  for i in range(1, n):\n",
        "    suma = suma + 2 * f(x[i])\n",
        "  return (b - a) / (2*n) * (f(a) + suma + f(b))\n",
        "def ErrorTrapecio(IR, a, b, x):\n",
        "  return (abs(IR - Trapecio(a,b, x)) / IR) * 100\n",
        "\n",
        "# Simpson 1/3 simple\n",
        "def Simpson13Simple(x): # [x0 x1 x2]\n",
        "  return (x[2] - x[0]) / 6 * (f(x[0]) + 4 * f(x[1]) + f(x[2]))\n",
        "def ErrorSimpson13Simple(IR, x):\n",
        "  return (abs(IR - Simpson13Simple(x)) / IR) * 100\n",
        "# Simpson 1/3 compuesto\n",
        "def Simpson13(a, b, x):\n",
        "  suma = 0\n",
        "  for i in range(1, n, 2):\n",
        "    suma = suma + 4 * f(x[i])\n",
        "  for i in range(2, n-1, 2):\n",
        "    suma = suma + 2 * f(x[i])\n",
        "  return (b - a ) / (3*n) * (f(a) + suma + f(b))\n",
        "def ErrorSimpson13(IR, a, b, x):\n",
        "  return (abs(IR - Simpson13(a, b, x)) / IR) * 100\n",
        "\n",
        "# Simpson 3/8 simple\n",
        "def Simpson38Simple(x): # [x0 x1 x2]\n",
        "  return (x[3] - x[0]) / 8 * (f(x[0]) + 3 * f(x[1]) + 3 * f(x[2]) + f(x[3]))\n",
        "def ErrorSimpson38Simple(IR, x):\n",
        "  return (abs(IR - Simpson38Simple(x)) / IR) * 100\n",
        "# Simpson 3/8 compuesto\n",
        "def Simpson38(a, b, x):\n",
        "  suma = 0\n",
        "  m = int(n/3)\n",
        "  for i in range(0, m):\n",
        "    suma = suma + 3 * f(x[3*i+1]) + 3 * f(x[3*i+2])\n",
        "  for i in range(0, m-1):\n",
        "    suma = suma + 2 *f(x[3*i+3])\n",
        "  return (3/8)*((b -a ) / n) * (f(a) + suma + f(b))\n",
        "def ErrorSimpson38(IR, a, b, x):\n",
        "  return (abs(IR - Simpson38(a, b, x)) / IR) * 100\n"
      ],
      "execution_count": 2,
      "outputs": []
    },
    {
      "cell_type": "markdown",
      "metadata": {
        "id": "lZSuxorn3cNV"
      },
      "source": [
        "#**Paso 3: Definimos las entradas**"
      ]
    },
    {
      "cell_type": "code",
      "metadata": {
        "id": "aGZbgEZt3vvo"
      },
      "source": [
        "a = 0\n",
        "b = 1\n",
        "IR = 0.948522\n"
      ],
      "execution_count": 3,
      "outputs": []
    },
    {
      "cell_type": "markdown",
      "metadata": {
        "id": "Lsc6wIvODHpj"
      },
      "source": [
        "#**Paso 4: Evaluamos las reglas simples**"
      ]
    },
    {
      "cell_type": "code",
      "metadata": {
        "colab": {
          "base_uri": "https://localhost:8080/"
        },
        "id": "NW8zhkv7DQtr",
        "outputId": "3fcff05d-f037-4634-8713-83f09f61948c"
      },
      "source": [
        "# Trapecio Simple\n",
        "print(\"La integral aproximada por la regla de trapecio simple es:\", TrapecioSimple(a, b), \"; Error (%):\", ErrorTrapecioSimple(IR, a, b))\n",
        "# Simpson 1/3 simple\n",
        "n = 2            # numero de segmentos \n",
        "x = np.linspace(a, b, n+1)\n",
        "print(\"La integral aproximada por la regla de simpson 1/3 simple es:\", Simpson13Simple(x), \"; Error (%):\", ErrorSimpson13Simple(IR, x))\n",
        "# Simpson 3/8 simple\n",
        "n = 3           # numero de segmentos \n",
        "x = np.linspace(a, b, n+1)\n",
        "print(\"La integral aproximada por la regla de simpson 3/8 simple es:\", Simpson38Simple(x), \"; Error (%):\", ErrorSimpson38Simple(IR, x))\n"
      ],
      "execution_count": 4,
      "outputs": [
        {
          "output_type": "stream",
          "text": [
            "La integral aproximada por la regla de trapecio simple es: 0.8675262935723578 ; Error (%): 8.53914895254324\n",
            "La integral aproximada por la regla de simpson 1/3 simple es: 0.9453977585940134 ; Error (%): 0.3293799622978223\n",
            "La integral aproximada por la regla de simpson 3/8 simple es: 0.9470425752821252 ; Error (%): 0.1559715766081089\n"
          ],
          "name": "stdout"
        }
      ]
    },
    {
      "cell_type": "markdown",
      "metadata": {
        "id": "0id_GI2BPoYr"
      },
      "source": [
        "#**Paso 5: Evaluamos las reglas compuestas**"
      ]
    },
    {
      "cell_type": "code",
      "metadata": {
        "id": "GbWK3tiAP7QM",
        "colab": {
          "base_uri": "https://localhost:8080/"
        },
        "outputId": "336af9aa-f29a-4622-9203-07be228acac8"
      },
      "source": [
        "# Trapecio Compuesto \n",
        "n = 10 # numero de segmentos\n",
        "x = np.linspace(a, b, n+1)             # n+1 puntos\n",
        "print(\"La integral aproximada por la regla de trapecio compuesta es:\", Trapecio(a, b, x), \"; Error (%):\", ErrorTrapecio(IR, a, b, x))\n",
        "# Simpson 1/3 simple\n",
        "n = 10           # numero de segmentos  (par)\n",
        "x = np.linspace(a, b, n+1)\n",
        "print(\"La integral aproximada por la regla de simpson 1/3 compuesta es:\", Simpson13(a, b, x), \"; Error (%):\",  ErrorSimpson13(IR, a, b, x))\n",
        "# Simpson 3/8 simple\n",
        "n = 10          # numero de segmentos (multiplos de 3)\n",
        "h = (b - a) / n\n",
        "x = np.linspace(a, b, n+1)\n",
        "print(\"La integral aproximada por la regla de simpson 3/8 compuesta es:\", Simpson38(a, b, x), \"; Error (%):\",ErrorSimpson38(IR, a, b, x))\n",
        "\n",
        "#Simpson 3/8 simple(pares)\n",
        "n = 10                          # numero de segmentos (multiplo de 3)"
      ],
      "execution_count": 5,
      "outputs": [
        {
          "output_type": "stream",
          "text": [
            "La integral aproximada por la regla de trapecio compuesta es: 0.9475703955260393 ; Error (%): 0.10032497653830895\n",
            "La integral aproximada por la regla de simpson 1/3 compuesta es: 0.9485115287595685 ; Error (%): 0.0011039533539042767\n",
            "La integral aproximada por la regla de simpson 3/8 compuesta es: 0.8663667142953535 ; Error (%): 8.661400126159064\n"
          ],
          "name": "stdout"
        }
      ]
    },
    {
      "cell_type": "code",
      "metadata": {
        "id": "A290aI4KS_Yw",
        "colab": {
          "base_uri": "https://localhost:8080/"
        },
        "outputId": "f85ba68a-8bfb-4c36-91b4-9a88766575b1"
      },
      "source": [
        "# Trapecio Compuesto \n",
        "n = 16 # numero de segmentos\n",
        "x = np.linspace(a, b, n+1)             # n+1 puntos\n",
        "print(\"La integral aproximada por la regla de trapecio compuesta es:\", Trapecio(a, b, x), \"; Error (%):\", ErrorTrapecio(IR, a, b, x))\n",
        "# Simpson 1/3 simple\n",
        "n = 16           # numero de segmentos  (par)\n",
        "x = np.linspace(a, b, n+1)\n",
        "print(\"La integral aproximada por la regla de simpson 1/3 compuesta es:\", Simpson13(a, b, x), \"; Error (%):\",  ErrorSimpson13(IR, a, b, x))\n",
        "# Simpson 3/8 simple\n",
        "n = 16          # numero de segmentos (multiplos de 3)\n",
        "h = (b - a) / n\n",
        "x = np.linspace(a, b, n+1)\n",
        "print(\"La integral aproximada por la regla de simpson 3/8 compuesta es:\", Simpson38(a, b, x), \"; Error (%):\",ErrorSimpson38(IR, a, b, x))\n",
        "\n",
        "#Simpson 3/8 simple(pares)\n",
        "n = 16                          # numero de segmentos (multiplo de 3)"
      ],
      "execution_count": 6,
      "outputs": [
        {
          "output_type": "stream",
          "text": [
            "La integral aproximada por la regla de trapecio compuesta es: 0.9481493995973901 ; Error (%): 0.03928220986017094\n",
            "La integral aproximada por la regla de simpson 1/3 compuesta es: 0.9485199792212184 ; Error (%): 0.0002130450091332336\n",
            "La integral aproximada por la regla de simpson 3/8 compuesta es: 0.8990170543733413 ; Error (%): 5.219166832889342\n"
          ],
          "name": "stdout"
        }
      ]
    },
    {
      "cell_type": "markdown",
      "metadata": {
        "id": "MiS-ksMsTRz5"
      },
      "source": [
        "#**Paso 5: Cuadratura de Gauss**"
      ]
    },
    {
      "cell_type": "code",
      "metadata": {
        "id": "4SuJ7pH0TftX",
        "colab": {
          "base_uri": "https://localhost:8080/"
        },
        "outputId": "b9648800-8d96-4120-d47b-ecb18424ac10"
      },
      "source": [
        "# con dos puntos\n",
        "xd_0 = -0.577350269\n",
        "xd_1 =  0.577350269\n",
        "C0 = 1\n",
        "C1 = 1\n",
        "dx = (b - a) / 2 #b dxd\n",
        "x0 = ((b + a ) + (b - a) * xd_0) / 2\n",
        "x1 = ((b + a ) + (b - a) * xd_1) / 2\n",
        "F0 = f(x0)* dx\n",
        "F1 = f(x1) * dx\n",
        "ICG2 = C0 * F0 + C1 * F1\n",
        "\n",
        "print(\"La integral aproximada por el método de cuadratura de Gauss con 2 puntos es: \" , ICG2, \"; Error (%)\" , (abs(IR -ICG2) / IR) * 100)\n",
        "\n",
        "# con tres puntos \n",
        "xd_0 = -0.774596669\n",
        "xd_1 =  0\n",
        "xd_2 =  0.774596669  \n",
        "C0 = 0.55555\n",
        "C1 = 0.88888\n",
        "C2 = 0.55555\n",
        "dx = (b - a) / 2 #b dxd\n",
        "x0 = ((b + a ) + (b - a) * xd_0) / 2\n",
        "x1 = ((b + a ) + (b - a) * xd_1) / 2\n",
        "x2 = ((b + a ) + (b - a) * xd_1) / 2\n",
        "F0 = f(x0) * dx\n",
        "F1 = f(x1) * dx\n",
        "F2 = f(x1) * dx\n",
        "ICG3 = C0 * F0 + C1 * F1 + C2 * F2\n",
        "\n",
        "print(\"La integral aproximada por el método de cuadratura de Gauss con 3 puntos es: \" , ICG3, \"; Error (%)\" , (abs(IR -ICG3) / IR) * 100)"
      ],
      "execution_count": 7,
      "outputs": [
        {
          "output_type": "stream",
          "text": [
            "La integral aproximada por el método de cuadratura de Gauss con 2 puntos es:  0.9505027857250076 ; Error (%) 0.2088286539487323\n",
            "La integral aproximada por el método de cuadratura de Gauss con 3 puntos es:  0.9886642086827744 ; Error (%) 4.23207987614145\n"
          ],
          "name": "stdout"
        }
      ]
    },
    {
      "cell_type": "markdown",
      "metadata": {
        "id": "tYU_K7vPBOaY"
      },
      "source": [
        "#**Paso 6: Analisis de resultados**\n",
        "* La integral aproximada por la regla de trapecio simple es: 0.8675262935723578 ; Error (%): 8.53914895254324\n",
        "* La integral aproximada por la regla de simpson 1/3 simple es: 0.9453977585940134 ; Error (%): 0.3293799622978223\n",
        "* La integral aproximada por la regla de simpson 3/8 simple es: 0.9470425752821252 ; Error (%): 0.1559715766081089\n",
        "\n",
        "Podemos observar que la regla de simpson 3/8 simple es la que mas aproximacion tiene con un error de 0.1559715766081089.\n",
        "\n",
        "* La integral aproximada por la regla de trapecio compuesta es: 0.9481493995973901 ; Error (%): 0.03928220986017094\n",
        "* La integral aproximada por la regla de simpson 1/3 compuesta es: 0.9485199792212184 ; Error (%): 0.0002130450091332336\n",
        "* La integral aproximada por la regla de simpson 3/8 compuesta es: 0.8990170543733413 ; Error (%): 5.219166832889342\n",
        "\n",
        "Podemos observar que la regla de simpson 1/3 compuesta es la que mas aproximacion tiene con un error de  0.0002130450091332336\n",
        "\n",
        "* La integral aproximada por el método de cuadratura de Gauss con 2 puntos es:  0.9505027857250076 ; Error (%) 0.2088286539487323\n",
        "* La integral aproximada por el método de cuadratura de Gauss con 3 puntos es:  0.9886642086827744 ; Error (%) 4.23207987614145\n",
        "\n",
        "* La cuadratura de Gauss aproxima el integral de una función en un intervalo y en este caso la que mas aproxima es la cuadratura de Gauss con 3 puntos que una aproximacion de 0.9886642086827744"
      ]
    },
    {
      "cell_type": "markdown",
      "metadata": {
        "id": "vE-Iq8xhAQ6f"
      },
      "source": [
        "#**Paso 7: Bibliografía**\n",
        "Canale, R. P. y P. Canale, R. (2007). Métodos numéricos para\n",
        "ingenieros (5a. ed.). México D.F, México: McGraw-Hill\n",
        "Interamericana. (pp. 619–639, 655–663)."
      ]
    }
  ]
}