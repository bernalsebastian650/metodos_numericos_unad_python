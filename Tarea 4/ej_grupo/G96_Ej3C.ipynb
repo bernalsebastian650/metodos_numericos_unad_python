{
  "nbformat": 4,
  "nbformat_minor": 0,
  "metadata": {
    "colab": {
      "name": "G96_Omar Hernando Rojas García_Ej3C.ipynb",
      "provenance": [],
      "collapsed_sections": []
    },
    "kernelspec": {
      "name": "python3",
      "display_name": "Python 3"
    },
    "language_info": {
      "name": "python"
    }
  },
  "cells": [
    {
      "cell_type": "markdown",
      "metadata": {
        "id": "MWrFtWCghmS_"
      },
      "source": [
        "# **Ecuaciones Diferenciales Ordinarias**\n",
        "\n",
        "Es una ecuación que relaciona de manera no trivial a una función desconocida y una o más derivadas de esta función desconocida con respecto a una o más variables independientes. Si la función desconocida depende de una sola variable la ecuación diferencial se llama ordinaria , por el contrario, si depende de más de una variable, se llama parcial.\n",
        "\n",
        "Una solución general de una ecuación de orden n es una solución que contiene n variables arbitrarias, correspondientes a n constantes de integración. Una solución particular es derivada de la solución general mediante la fijación de valores particulares para las constantes, a menudo elegidas para cumplir condiciones iniciales. Una solución singular es la que no puede derivarse de la general.\n",
        "\n",
        "**Descripción del ejercicio:**\n",
        "\n",
        "Para las ecuaciones diferenciales ordinarias dadas a seguir:\n",
        "\n",
        "**C**: $$ y'= e^x + y^2,  y(0) = 2;0 <= x <=1 $$\n",
        "\n",
        "realice un programa en Python empleando Google Colab que:\n",
        "\n",
        "* Resuelva la EDO empleando los siguientes métodos:\n",
        "\n",
        "     o Runge – Kutta 1er orden – Euler\n",
        "\n",
        "     o Runge – Kutta 2º orden\n",
        "\n",
        "     o Runge – Kutta 4º orden\n",
        "\n",
        "\n",
        "* Genere una gráfica que incluya las soluciones por cada uno de \n",
        "los métodos, con tamaños de paso ℎ = 0.5, ℎ = 0.1 y ℎ = 0.05.\n",
        "\n",
        "Para cada método haga una descripción teórica (las ecuaciones \n",
        "deberán estar escritas en LaTeX) incluyendo referencias \n",
        "bibliográficas empleadas siguiendo las normas APA y realice un \n",
        "análisis de resultados."
      ]
    },
    {
      "cell_type": "markdown",
      "metadata": {
        "id": "n6yQ8kHamFJm"
      },
      "source": [
        "$$ DESARROLLO $$"
      ]
    },
    {
      "cell_type": "code",
      "metadata": {
        "colab": {
          "base_uri": "https://localhost:8080/",
          "height": 717
        },
        "id": "VgU7FcmbhbYI",
        "outputId": "a59ac728-794a-4b10-b4d7-a818c6736404"
      },
      "source": [
        "import matplotlib.pyplot as plt                                                  # Importamos la libreria matplotlib\n",
        "import numpy as np                                                               # Importamos la libreria numpy\n",
        "\n",
        "def fun(x,y):                                                                    \n",
        "    return (np.exp(x) + (y**2))                                                  # Llamamos a nuestra Ecuación\n",
        "\n",
        "# dy/dx = f(x,y) en le intervalo[0,2] con y(0) = 1\n",
        "# h es el tamaño de paso \n",
        "\n",
        "# Runge-Kutta 1er Orden\n",
        "\n",
        "def runge_kutta_1(f, a, b, h, y0):                                               # Definimos la función y asignamos datos\n",
        "    x = [a]                                                                      # Asignamos el valor de a para x\n",
        "    y = [y0]                                                                     # Asignamos el valor de a para y\n",
        "    while x[-1] < b:                                                             # Condición para plicar el método para y y x\n",
        "        y.append(y[-1] + f(x[-1], y[-1]) * h)\n",
        "        x.append(x[-1] + h)\n",
        "\n",
        "    return x, y                                                                  # Devuelve los valores de x y de y\n",
        "\n",
        "# Runge-kutta 2do Orden\n",
        "\n",
        "def runge_kutta_2(f, a, b, h, y0):                                               # Definimos la función y asignamos datos\n",
        "    x = [a]                                                                      # Asignamos el valor de a para x\n",
        "    y = [y0]                                                                     # Asignamos el valor de a para y\n",
        "    while x[-1] < b:                                                             # Condición para plicar el método para y y x\n",
        "        k1 = f(x[-1], y[-1])\n",
        "        k2 = f(x[-1] + 3/4 * h, y[-1] + 3/4 * k1 * h)\n",
        "        y.append(y[-1] + (1/3 * k1 + 2/3 * k2) * h)\n",
        "        x.append(x[-1] + h)\n",
        "    return x, y                                                                  # Devuelve los valores de x y de y\n",
        "\n",
        "# Runge-kutta 4to Orden\n",
        "\n",
        "def runge_kutta_4(f, a, b, h, y0):                                               # Definimos la función y asignamos datos\n",
        "    x = [0]                                                                      # Asignamos el valor de a para x\n",
        "    y = [y0]                                                                     # Asignamos el valor de a para y\n",
        "    while x[-1] < b:                                                             # Condición para plicar el método para y y x\n",
        "        k1 = f(x[-1], y[-1])\n",
        "        k2 = f(x[-1] + 0.5 * h, y[-1] + 0.5 * k1 * h)\n",
        "        k3 = f(x[-1] + 0.5 * h, y[-1] + 0.5 * k2 * h)\n",
        "        k4 = f(x[-1] + 0.5 * h, y[-1] + k3 * h)\n",
        "        y.append(y[-1] + (h/6) * (k1 + 2 * k2 + 2 * k3 + 4))\n",
        "        x.append(x[-1] + h)\n",
        "    return x, y                                                                  # Devuelve los valores de x y de y\n",
        "\n",
        "\n",
        "h = 0.5                                                                          # Valor del tamaño de paso\n",
        "print(\"Tamaño de paso(h): \", h)                                                  # Imprimimos el valor del tamaño de paso\n",
        "x1, y1 = runge_kutta_1(fun, 0, 100, h, 0)\n",
        "x2, y2 = runge_kutta_2(fun, 0, 100, h, 0)\n",
        "x4, y4 = runge_kutta_4(fun, 0, 100, h, 0)\n",
        "x5 = np.arange(0, 100, 0.01)\n",
        "y5 = 25 -25 * np.exp(-0.025 * x5)\n",
        "\n",
        "# Gráficas\n",
        "\n",
        "plt.figure(figsize=(16,10), dpi= 80)\n",
        "plt.plot(x1, y1, label = \"RK 1er Orden\")\n",
        "plt.plot(x2, y2, label = \"RK 2do Orden\")\n",
        "plt.plot(x4, y4, label = \"RK 4to Orden\")\n",
        "plt.plot(x5, y5, label = \"Sol Real\")\n",
        "plt.legend()\n",
        "plt.show()\n",
        "\n"
      ],
      "execution_count": 3,
      "outputs": [
        {
          "output_type": "stream",
          "text": [
            "Tamaño de paso(h):  0.5\n"
          ],
          "name": "stdout"
        },
        {
          "output_type": "stream",
          "text": [
            "/usr/local/lib/python3.7/dist-packages/ipykernel_launcher.py:5: RuntimeWarning: overflow encountered in double_scalars\n",
            "  \"\"\"\n"
          ],
          "name": "stderr"
        },
        {
          "output_type": "display_data",
          "data": {
            "image/png": "[encoded data removed]",
            "text/plain": [
              "<Figure size 1280x800 with 1 Axes>"
            ]
          },
          "metadata": {
            "tags": [],
            "needs_background": "light"
          }
        }
      ]
    },
    {
      "cell_type": "markdown",
      "metadata": {
        "id": "N6GH4iDE5-dX"
      },
      "source": [
        "# **Análisis**\n",
        "\n",
        "Al gráficar la Ecuación $$e^x + y^2, y(0)= 2 $$ entre el rango de 0 a 100 con un tamaño de paso de 0.5, se puede afirmar, que para los métodos de runge_kutta 2 y 4,  no varía el resultado y manteniendo la grafica constante sobre el la misma linea en forma horizontal arrancando del punto 0 hasta el punto 100. Mientras que para kutta 1er Orden la gráfica se ve de manera vertical iniciando en el punto 0.1 hasta 2.5"
      ]
    },
    {
      "cell_type": "code",
      "metadata": {
        "colab": {
          "base_uri": "https://localhost:8080/",
          "height": 717
        },
        "id": "Xk9T6RuXmu0i",
        "outputId": "b12d2ee7-26c6-413b-fa41-4a7ff681b4d6"
      },
      "source": [
        "import matplotlib.pyplot as plt                                                  # Importamos la libreria matplotlib|\n",
        "import numpy as np                                                               # Importamos la libreria numpy\n",
        "\n",
        "def fun(x,y):\n",
        "    return (np.exp(x) + (y**2))                                                  # Llamamos a nuestra función\n",
        "\n",
        "# dy/dx = f(x,y) en le intervalo[0,2] con y(0) = 1\n",
        "# h es el tamaño de paso \n",
        "\n",
        "# Runge-Kutta 1er Orden\n",
        "\n",
        "def runge_kutta_1(f, a, b, h, y0):                                               # Definimos la función y asignamos datos\n",
        "    x = [a]                                                                      # Asignamos el valor de a para x\n",
        "    y = [y0]                                                                     # Asignamos el valor de a para y\n",
        "    while x[-1] < b:                                                             # Condición para plicar el método para y y x\n",
        "        y.append(y[-1] + f(x[-1], y[-1]) * h)\n",
        "        x.append(x[-1] + h)\n",
        "\n",
        "    return x, y                                                                  # Devuelve los valores de x y de y\n",
        "\n",
        "# Runge-kutta 2do Orden\n",
        "\n",
        "def runge_kutta_2(f, a, b, h, y0):                                               # Definimos la función y asignamos datos\n",
        "    x = [a]                                                                      # Asignamos el valor de a para x\n",
        "    y = [y0]                                                                     # Asignamos el valor de a para y\n",
        "    while x[-1] < b:                                                             # Condición para plicar el método para y y x\n",
        "        k1 = f(x[-1], y[-1])\n",
        "        k2 = f(x[-1] + 3/4 * h, y[-1] + 3/4 * k1 * h)\n",
        "        y.append(y[-1] + (1/3 * k1 + 2/3 * k2) * h)\n",
        "        x.append(x[-1] + h)\n",
        "    return x, y                                                                  # Devuelve los valores de x y de y\n",
        "\n",
        "# Runge-kutta 4to Orden\n",
        "\n",
        "def runge_kutta_4(f, a, b, h, y0):                                               # Definimos la función y asignamos datos\n",
        "    x = [0]                                                                      # Asignamos el valor de a para x\n",
        "    y = [y0]                                                                     # Asignamos el valor de a para y\n",
        "    while x[-1] < b:                                                             # Condición para plicar el método para y y x\n",
        "        k1 = f(x[-1], y[-1])\n",
        "        k2 = f(x[-1] + 0.5 * h, y[-1] + 0.5 * k1 * h)\n",
        "        k3 = f(x[-1] + 0.5 * h, y[-1] + 0.5 * k2 * h)\n",
        "        k4 = f(x[-1] + 0.5 * h, y[-1] + k3 * h)\n",
        "        y.append(y[-1] + (h/6) * (k1 + 2 * k2 + 2 * k3 + 4))\n",
        "        x.append(x[-1] + h)\n",
        "    return x, y                                                                  # Devuelve los valores de x y de y\n",
        "\n",
        "\n",
        "h = 0.1                                                                          # Valor del tamaño de paso\n",
        "print(\"Tamaño de paso(h): \", h)                                                  # Imprimimos el valor del tamaño de paso\n",
        "x1, y1 = runge_kutta_1(fun, 0, 100, h, 0)\n",
        "x2, y2 = runge_kutta_2(fun, 0, 100, h, 0)\n",
        "x4, y4 = runge_kutta_4(fun, 0, 100, h, 0)\n",
        "x5 = np.arange(0, 100, 0.01)\n",
        "y5 = 25 -25 * np.exp(-0.025 * x5)\n",
        "\n",
        "# Gráficas\n",
        "\n",
        "plt.figure(figsize=(16,10), dpi= 80)\n",
        "plt.plot(x1, y1, label = \"RK 1er Orden\")\n",
        "plt.plot(x2, y2, label = \"RK 2do Orden\")\n",
        "plt.plot(x4, y4, label = \"RK 4to Orden\")\n",
        "plt.plot(x5, y5, label = \"Sol Real\")\n",
        "plt.legend()\n",
        "plt.show()\n"
      ],
      "execution_count": 4,
      "outputs": [
        {
          "output_type": "stream",
          "text": [
            "Tamaño de paso(h):  0.1\n"
          ],
          "name": "stdout"
        },
        {
          "output_type": "stream",
          "text": [
            "/usr/local/lib/python3.7/dist-packages/ipykernel_launcher.py:5: RuntimeWarning: overflow encountered in double_scalars\n",
            "  \"\"\"\n"
          ],
          "name": "stderr"
        },
        {
          "output_type": "display_data",
          "data": {
            "image/png": "[encoded data removed]",
            "text/plain": [
              "<Figure size 1280x800 with 1 Axes>"
            ]
          },
          "metadata": {
            "tags": [],
            "needs_background": "light"
          }
        }
      ]
    },
    {
      "cell_type": "markdown",
      "metadata": {
        "id": "wl9UePbZ5oxc"
      },
      "source": [
        "# **Análisis**\n",
        "\n",
        "Al gráficar la Ecuación $$e^x + y^2, y(0)= 2 $$ entre el rango de 0 a 100 con un tamaño de paso de 0.1, se puede afirmar, que para los métodos de runge_kutta 2 y 4,  no varía el resultado y manteniendo la grafica constante sobre el la misma linea en forma horizontal arrancando del punto 0 hasta el punto 100. Mientras que para kutta 1er Orden la gráfica se ve de manera vertical iniciando en el punto 0.1 hasta 2.5"
      ]
    },
    {
      "cell_type": "code",
      "metadata": {
        "colab": {
          "base_uri": "https://localhost:8080/",
          "height": 717
        },
        "id": "XJ5xc0VlnPnc",
        "outputId": "096903bc-bebf-497d-f6b5-8256d27e6ac4"
      },
      "source": [
        "import matplotlib.pyplot as plt                                                  # Importamos la libreria matplotlib\n",
        "import numpy as np                                                               # Importamos la libreria numpy\n",
        "\n",
        "def fun(x,y):\n",
        "    return (np.exp(x) + (y**2))                                                  # Llamamos a nuestra función\n",
        "\n",
        "# dy/dx = f(x,y) en le intervalo[0,2] con y(0) = 1\n",
        "# h es el tamaño de paso \n",
        "\n",
        "# Runge-Kutta 1er Orden\n",
        "\n",
        "def runge_kutta_1(f, a, b, h, y0):                                               # Definimos la función y asignamos datos\n",
        "    x = [a]                                                                      # Asignamos el valor de a para x\n",
        "    y = [y0]                                                                     # Asignamos el valor de a para y\n",
        "    while x[-1] < b:                                                             # Condición para plicar el método para y y x\n",
        "        y.append(y[-1] + f(x[-1], y[-1]) * h)\n",
        "        x.append(x[-1] + h)\n",
        "\n",
        "    return x, y                                                                  # Devuelve los valores de x y de y\n",
        "\n",
        "# Runge-kutta 2do Orden\n",
        "\n",
        "def runge_kutta_2(f, a, b, h, y0):                                               # Definimos la función y asignamos datos\n",
        "    x = [a]                                                                      # Asignamos el valor de a para x\n",
        "    y = [y0]                                                                     # Asignamos el valor de a para y\n",
        "    while x[-1] < b:                                                             # Condición para plicar el método para y y x\n",
        "        k1 = f(x[-1], y[-1])\n",
        "        k2 = f(x[-1] + 3/4 * h, y[-1] + 3/4 * k1 * h)\n",
        "        y.append(y[-1] + (1/3 * k1 + 2/3 * k2) * h)\n",
        "        x.append(x[-1] + h)\n",
        "    return x, y                                                                  # Devuelve los valores de x y de y\n",
        "\n",
        "# Runge-kutta 4to Orden\n",
        "\n",
        "def runge_kutta_4(f, a, b, h, y0):                                               # Definimos la función y asignamos datos\n",
        "    x = [0]                                                                      # Asignamos el valor de a para x\n",
        "    y = [y0]                                                                     # Asignamos el valor de a para y\n",
        "    while x[-1] < b:                                                             # Condición para plicar el método para y y x\n",
        "        k1 = f(x[-1], y[-1])\n",
        "        k2 = f(x[-1] + 0.5 * h, y[-1] + 0.5 * k1 * h)\n",
        "        k3 = f(x[-1] + 0.5 * h, y[-1] + 0.5 * k2 * h)\n",
        "        k4 = f(x[-1] + 0.5 * h, y[-1] + k3 * h)\n",
        "        y.append(y[-1] + (h/6) * (k1 + 2 * k2 + 2 * k3 + 4))\n",
        "        x.append(x[-1] + h)\n",
        "    return x, y                                                                  # Devuelve los valores de x y de y\n",
        "\n",
        "\n",
        "h = 0.05                                                                         # Valor del tamaño de paso\n",
        "print(\"Tamaño de paso(h): \", h)                                                  # Imprimimos el valor del tamaño de paso\n",
        "x1, y1 = runge_kutta_1(fun, 0, 100, h, 0)\n",
        "x2, y2 = runge_kutta_2(fun, 0, 100, h, 0)\n",
        "x4, y4 = runge_kutta_4(fun, 0, 100, h, 0)\n",
        "x5 = np.arange(0, 100, 0.01)\n",
        "y5 = 25 -25 * np.exp(-0.025 * x5)\n",
        "\n",
        "# Gráficas\n",
        "\n",
        "plt.figure(figsize=(16,10), dpi= 80)\n",
        "plt.plot(x1, y1, label = \"RK 1er Orden\")\n",
        "plt.plot(x2, y2, label = \"RK 2do Orden\")\n",
        "plt.plot(x4, y4, label = \"RK 4to Orden\")\n",
        "plt.plot(x5, y5, label = \"Sol Real\")\n",
        "plt.legend()\n",
        "plt.show()\n"
      ],
      "execution_count": 5,
      "outputs": [
        {
          "output_type": "stream",
          "text": [
            "Tamaño de paso(h):  0.05\n"
          ],
          "name": "stdout"
        },
        {
          "output_type": "stream",
          "text": [
            "/usr/local/lib/python3.7/dist-packages/ipykernel_launcher.py:5: RuntimeWarning: overflow encountered in double_scalars\n",
            "  \"\"\"\n"
          ],
          "name": "stderr"
        },
        {
          "output_type": "display_data",
          "data": {
            "image/png": "[encoded data removed]",
            "text/plain": [
              "<Figure size 1280x800 with 1 Axes>"
            ]
          },
          "metadata": {
            "tags": [],
            "needs_background": "light"
          }
        }
      ]
    },
    {
      "cell_type": "markdown",
      "metadata": {
        "id": "QE37TorN1OGC"
      },
      "source": [
        "# **Análisis**\n",
        "\n",
        "Al gráficar la Ecuación $$e^x + y^2, y(0)= 2 $$ entre el rango de 0 a 100 con un tamaño de paso de 0.05, se puede afirmar, que para los métodos de runge_kutta 2 y 4,  no varía el resultado y manteniendo la grafica constante sobre el la misma linea en forma horizontal arrancando del punto 0 hasta el punto 100. Mientras que para kutta 1er Orden la gráfica se ve de manera vertical iniciando en el punto 0.1 hasta 2.5"
      ]
    },
    {
      "cell_type": "markdown",
      "metadata": {
        "id": "FFSSXXAM96Nb"
      },
      "source": [
        "#**Bibliografía**\n",
        "\n",
        "* Canale, R. P. y P. Canale, R. (2007). Métodos numéricos para \n",
        "ingenieros (5a. ed.). México D.F, Mexico: McGraw-Hill \n",
        "Interamericana. (pp. 709–715, 719–751)."
      ]
    }
  ]
}